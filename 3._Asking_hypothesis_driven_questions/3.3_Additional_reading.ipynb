{
 "cells": [
  {
   "cell_type": "markdown",
   "metadata": {},
   "source": [
    "# Additional reading\n",
    "\n",
    "## Classifiers\n",
    "\n",
    "* [SVM wikipedia](https://en.wikipedia.org/wiki/Support_vector_machine)\n",
    "* [Decision Tree Wikipedia](https://en.wikipedia.org/wiki/Decision_tree_learning)\n",
    "* [Extremely Randomized Trees paper](papers/extremely-randomized-trees.pdf)\n",
    "\n",
    "## Pseudotime ordering\n",
    "\n",
    "* [Monocle](papers/monocle.pdf)\n",
    "* [Wanderlust](papers/wanderlust.pdf)\n",
    "* [Wishbone](papers/wishbone.pdf)\n",
    "    * [Wishbone](papers/wishbone_supplementary.pdf)\n",
    "\n"
   ]
  }
 ],
 "metadata": {
  "kernelspec": {
   "display_name": "Python 3",
   "language": "python",
   "name": "python3"
  },
  "language_info": {
   "codemirror_mode": {
    "name": "ipython",
    "version": 3
   },
   "file_extension": ".py",
   "mimetype": "text/x-python",
   "name": "python",
   "nbconvert_exporter": "python",
   "pygments_lexer": "ipython3",
   "version": "3.5.1"
  }
 },
 "nbformat": 4,
 "nbformat_minor": 0
}
