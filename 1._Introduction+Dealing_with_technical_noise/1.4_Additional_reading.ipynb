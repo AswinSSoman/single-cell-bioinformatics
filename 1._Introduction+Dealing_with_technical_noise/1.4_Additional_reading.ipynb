{
 "cells": [
  {
   "cell_type": "markdown",
   "metadata": {},
   "source": [
    "# Additional reading\n",
    "\n",
    "## Introduction to single cell\n",
    "\n",
    "#/5 - Olga's paper rating on a scale of 1 (worst) to 5 (best)\n",
    "\n",
    "- 5/5 [Kolodziejczyk et al, *Mol Cell* (2015)](http://www.ncbi.nlm.nih.gov/pubmed/26000846)\n",
    "    - Great figures and overview of single cell\n",
    "- 5/5 [Bacher R & Kendziorski C, *Genome Biology* (2016)](http://www.ncbi.nlm.nih.gov/pmc/articles/PMC4823857/)\n",
    "    - Describes different downstream machine learning analyses in *detail*\n",
    "    - Fantastic table overview of current algorithms used in single cell analyses\n",
    "- 4/5 [Stegle O et al, *Nature Review Genetics* (2015)](http://www.ncbi.nlm.nih.gov/pubmed/25628217)\n",
    "    - Describes different expression normalization and QC steps in detail\n",
    "\n",
    "## Technical noise\n",
    "\n",
    "- 4/5 [Brennecke et al *Nature Methods* (2013)](http://www.ncbi.nlm.nih.gov/pubmed/24056876)\n",
    "    - Frequentist based approach of assigning an appropriate gene expression threshold where you can trust the differences\n",
    "- 4/5 [Kharchenko et al *Nature Methods* (2014)](http://www.ncbi.nlm.nih.gov/pubmed/24836921)\n",
    "    - Bayesian based approach of finding genes that are differentially expressed based on how well that gene was captured across all cells (the prior)\n",
    "\n",
    "## Batch correction\n",
    "\n",
    "* 5/5 [COMBAT](http://biostatistics.oxfordjournals.org/content/8/1/118.abstract)\n",
    "    * Adjust for batches in the data\n",
    "    * This has >1000 citations!!\n",
    "* 4/5 [SVA](http://www.biostat.jhsph.edu/~jleek/papers/sva.pdf)\n",
    "    * Can specify that you want to correct for something (like RIN) but don't correct for what you're interested in. But... often in single cell data you're trying to find new populations so you don't know *a prior* what you want to not be corrected for\n",
    "* 4/5 [RUVseq](http://www.nature.com/nbt/journal/v32/n9/full/nbt.2931.html)\n",
    "    * With the \"RUVg\" version can specify a set of control genes that you know aren't supposed to change between groups (maybe from a bulk experiment) but they say in their manual not to use the normalized counts for differential expression, only for exploration, because you may have corrected for something you actually *DID* want but didn't know\n",
    "* 4/5 [scLVM](https://github.com/PMBio/scLVM)\n",
    "    * This method claims to account for differences in cell cycle stage and help to put all cells onto the same scale, so you can then do pseudotime ordering and clustering and all that jazz."
   ]
  }
 ],
 "metadata": {
  "kernelspec": {
   "display_name": "Python 3",
   "language": "python",
   "name": "python3"
  },
  "language_info": {
   "codemirror_mode": {
    "name": "ipython",
    "version": 3
   },
   "file_extension": ".py",
   "mimetype": "text/x-python",
   "name": "python",
   "nbconvert_exporter": "python",
   "pygments_lexer": "ipython3",
   "version": "3.5.1"
  }
 },
 "nbformat": 4,
 "nbformat_minor": 0
}
