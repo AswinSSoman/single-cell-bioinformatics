{
 "cells": [
  {
   "cell_type": "markdown",
   "metadata": {},
   "source": [
    "# Technical noise and artefacts\n",
    "\n",
    "## Single cell quality control\n",
    "\n",
    "Need to simultaneously pick the samples you'll use and the genes you'll use. But the relative quality of the cells also depends on which genes you use to assess that quality, so what's a biologist to do??\n",
    "\n",
    "\n",
    "![](figures/kolodziejczyk2015_fig2A_quality_control.png)\n",
    "Kolodziejczyk et al, Mol Cell (2015)\n",
    "\n",
    "\n",
    "### Samples first\n",
    "\n",
    "Most of the time, the bad cells will be obvious with any metric you use. Here are some examples of metrics you can use for each cell:\n",
    "\n",
    "- Number of cells\n",
    "    - Should be one!\n",
    "    - Can observe this from visual inspection of the microfluidic chip or droplet\n",
    "- GC content of library \n",
    "    - Should be similar to generic transcriptome\n",
    "- Numbers of reads mapped\n",
    "    - Should be in your defined range. For some experiments that's <50,000 reads, for others, that's <1 million reads.\n",
    "- Percentage of reads mapped\n",
    "    - Usually at least 80% mapping to the genome\n",
    "- Proportion of reads mapped to mitochondria vs genome \n",
    "    - High mt/genome ratio suggests apoptotic cell\n",
    "- Proportion of reads mapped to spike-ins vs genome\n",
    "    - High spike-in/genome ratio suggests low mRNA content of cell (which may be biologically true or a technical artefact - you decide)\n",
    "- Proportion of reads mapped to mitochondria vs genome\n",
    "    - High mitochondrial/genome ratio suggests the cell was apoptosing as it was captured\n",
    "    \n"
   ]
  },
  {
   "cell_type": "code",
   "execution_count": 12,
   "metadata": {
    "collapsed": false
   },
   "outputs": [
    {
     "data": {
      "text/html": [
       "<div>\n",
       "<table border=\"1\" class=\"dataframe\">\n",
       "  <thead>\n",
       "    <tr style=\"text-align: right;\">\n",
       "      <th></th>\n",
       "      <th>% Parent</th>\n",
       "      <th>% Total</th>\n",
       "      <th>3'UTR_Exons</th>\n",
       "      <th>488</th>\n",
       "      <th>5'UTR_Exons</th>\n",
       "      <th>561</th>\n",
       "      <th>Average mapped length</th>\n",
       "      <th>CDS_Exons</th>\n",
       "      <th>Cells</th>\n",
       "      <th>ERCC Content</th>\n",
       "      <th>...</th>\n",
       "      <th>molecule_r2</th>\n",
       "      <th>outlier_component</th>\n",
       "      <th>total_molecules</th>\n",
       "      <th>within_large_component</th>\n",
       "      <th>within_small_component</th>\n",
       "      <th>cluster_color</th>\n",
       "      <th>tsne_0</th>\n",
       "      <th>tsne_1</th>\n",
       "      <th>log_488</th>\n",
       "      <th>log_SSC</th>\n",
       "    </tr>\n",
       "    <tr>\n",
       "      <th>Well</th>\n",
       "      <th></th>\n",
       "      <th></th>\n",
       "      <th></th>\n",
       "      <th></th>\n",
       "      <th></th>\n",
       "      <th></th>\n",
       "      <th></th>\n",
       "      <th></th>\n",
       "      <th></th>\n",
       "      <th></th>\n",
       "      <th></th>\n",
       "      <th></th>\n",
       "      <th></th>\n",
       "      <th></th>\n",
       "      <th></th>\n",
       "      <th></th>\n",
       "      <th></th>\n",
       "      <th></th>\n",
       "      <th></th>\n",
       "      <th></th>\n",
       "      <th></th>\n",
       "    </tr>\n",
       "  </thead>\n",
       "  <tbody>\n",
       "    <tr>\n",
       "      <th>DIM_1_A1</th>\n",
       "      <td>NaN</td>\n",
       "      <td>100.00%</td>\n",
       "      <td>615178</td>\n",
       "      <td>80.0</td>\n",
       "      <td>118167</td>\n",
       "      <td>6.0</td>\n",
       "      <td>229.53</td>\n",
       "      <td>1273306</td>\n",
       "      <td>1.0</td>\n",
       "      <td>116339.14620</td>\n",
       "      <td>...</td>\n",
       "      <td>0.849279</td>\n",
       "      <td>-0.119395</td>\n",
       "      <td>2884413.0</td>\n",
       "      <td>0.070390</td>\n",
       "      <td>-0.104144</td>\n",
       "      <td>(0.55432528607985565, 0.62711267120697922, 0.7...</td>\n",
       "      <td>-0.357368</td>\n",
       "      <td>12.650468</td>\n",
       "      <td>1.903090</td>\n",
       "      <td>1.995635</td>\n",
       "    </tr>\n",
       "    <tr>\n",
       "      <th>DIM_1_A10</th>\n",
       "      <td>NaN</td>\n",
       "      <td>100.00%</td>\n",
       "      <td>625664</td>\n",
       "      <td>39.0</td>\n",
       "      <td>99645</td>\n",
       "      <td>1.0</td>\n",
       "      <td>230.31</td>\n",
       "      <td>1032911</td>\n",
       "      <td>1.0</td>\n",
       "      <td>279412.04190</td>\n",
       "      <td>...</td>\n",
       "      <td>0.853730</td>\n",
       "      <td>0.017293</td>\n",
       "      <td>794642.0</td>\n",
       "      <td>0.073285</td>\n",
       "      <td>0.020246</td>\n",
       "      <td>(0.90311419262605563, 0.54185316071790801, 0.7...</td>\n",
       "      <td>-0.001426</td>\n",
       "      <td>6.763604</td>\n",
       "      <td>1.591065</td>\n",
       "      <td>1.579784</td>\n",
       "    </tr>\n",
       "    <tr>\n",
       "      <th>DIM_1_A11</th>\n",
       "      <td>NaN</td>\n",
       "      <td>100.00%</td>\n",
       "      <td>733798</td>\n",
       "      <td>53.0</td>\n",
       "      <td>245374</td>\n",
       "      <td>1.0</td>\n",
       "      <td>230.64</td>\n",
       "      <td>3031565</td>\n",
       "      <td>1.0</td>\n",
       "      <td>24324.44224</td>\n",
       "      <td>...</td>\n",
       "      <td>0.778746</td>\n",
       "      <td>-0.036702</td>\n",
       "      <td>9513110.0</td>\n",
       "      <td>-0.016871</td>\n",
       "      <td>-0.179175</td>\n",
       "      <td>(0.55432528607985565, 0.62711267120697922, 0.7...</td>\n",
       "      <td>-8.698019</td>\n",
       "      <td>8.706809</td>\n",
       "      <td>1.724276</td>\n",
       "      <td>2.206826</td>\n",
       "    </tr>\n",
       "    <tr>\n",
       "      <th>DIM_1_A12</th>\n",
       "      <td>NaN</td>\n",
       "      <td>100.00%</td>\n",
       "      <td>827658</td>\n",
       "      <td>337.0</td>\n",
       "      <td>148061</td>\n",
       "      <td>9.0</td>\n",
       "      <td>230.22</td>\n",
       "      <td>1597099</td>\n",
       "      <td>1.0</td>\n",
       "      <td>186802.23200</td>\n",
       "      <td>...</td>\n",
       "      <td>0.901161</td>\n",
       "      <td>0.034679</td>\n",
       "      <td>1243023.0</td>\n",
       "      <td>0.045065</td>\n",
       "      <td>-0.065027</td>\n",
       "      <td>(0.55432528607985565, 0.62711267120697922, 0.7...</td>\n",
       "      <td>-4.495216</td>\n",
       "      <td>11.184408</td>\n",
       "      <td>2.527630</td>\n",
       "      <td>2.068186</td>\n",
       "    </tr>\n",
       "    <tr>\n",
       "      <th>DIM_1_A2</th>\n",
       "      <td>NaN</td>\n",
       "      <td>100.00%</td>\n",
       "      <td>187244</td>\n",
       "      <td>83.0</td>\n",
       "      <td>38552</td>\n",
       "      <td>5.0</td>\n",
       "      <td>229.60</td>\n",
       "      <td>322876</td>\n",
       "      <td>1.0</td>\n",
       "      <td>251667.90200</td>\n",
       "      <td>...</td>\n",
       "      <td>0.817718</td>\n",
       "      <td>0.072677</td>\n",
       "      <td>902531.0</td>\n",
       "      <td>0.074522</td>\n",
       "      <td>0.049654</td>\n",
       "      <td>(0.90311419262605563, 0.54185316071790801, 0.7...</td>\n",
       "      <td>-1.362267</td>\n",
       "      <td>3.037966</td>\n",
       "      <td>1.919078</td>\n",
       "      <td>1.892095</td>\n",
       "    </tr>\n",
       "  </tbody>\n",
       "</table>\n",
       "<p>5 rows × 49 columns</p>\n",
       "</div>"
      ],
      "text/plain": [
       "           % Parent  % Total  3'UTR_Exons    488  5'UTR_Exons  561  \\\n",
       "Well                                                                 \n",
       "DIM_1_A1        NaN  100.00%       615178   80.0       118167  6.0   \n",
       "DIM_1_A10       NaN  100.00%       625664   39.0        99645  1.0   \n",
       "DIM_1_A11       NaN  100.00%       733798   53.0       245374  1.0   \n",
       "DIM_1_A12       NaN  100.00%       827658  337.0       148061  9.0   \n",
       "DIM_1_A2        NaN  100.00%       187244   83.0        38552  5.0   \n",
       "\n",
       "           Average mapped length  CDS_Exons  Cells  ERCC Content    ...     \\\n",
       "Well                                                                ...      \n",
       "DIM_1_A1                  229.53    1273306    1.0  116339.14620    ...      \n",
       "DIM_1_A10                 230.31    1032911    1.0  279412.04190    ...      \n",
       "DIM_1_A11                 230.64    3031565    1.0   24324.44224    ...      \n",
       "DIM_1_A12                 230.22    1597099    1.0  186802.23200    ...      \n",
       "DIM_1_A2                  229.60     322876    1.0  251667.90200    ...      \n",
       "\n",
       "           molecule_r2  outlier_component  total_molecules  \\\n",
       "Well                                                         \n",
       "DIM_1_A1      0.849279          -0.119395        2884413.0   \n",
       "DIM_1_A10     0.853730           0.017293         794642.0   \n",
       "DIM_1_A11     0.778746          -0.036702        9513110.0   \n",
       "DIM_1_A12     0.901161           0.034679        1243023.0   \n",
       "DIM_1_A2      0.817718           0.072677         902531.0   \n",
       "\n",
       "           within_large_component  within_small_component  \\\n",
       "Well                                                        \n",
       "DIM_1_A1                 0.070390               -0.104144   \n",
       "DIM_1_A10                0.073285                0.020246   \n",
       "DIM_1_A11               -0.016871               -0.179175   \n",
       "DIM_1_A12                0.045065               -0.065027   \n",
       "DIM_1_A2                 0.074522                0.049654   \n",
       "\n",
       "                                               cluster_color    tsne_0  \\\n",
       "Well                                                                     \n",
       "DIM_1_A1   (0.55432528607985565, 0.62711267120697922, 0.7... -0.357368   \n",
       "DIM_1_A10  (0.90311419262605563, 0.54185316071790801, 0.7... -0.001426   \n",
       "DIM_1_A11  (0.55432528607985565, 0.62711267120697922, 0.7... -8.698019   \n",
       "DIM_1_A12  (0.55432528607985565, 0.62711267120697922, 0.7... -4.495216   \n",
       "DIM_1_A2   (0.90311419262605563, 0.54185316071790801, 0.7... -1.362267   \n",
       "\n",
       "              tsne_1   log_488   log_SSC  \n",
       "Well                                      \n",
       "DIM_1_A1   12.650468  1.903090  1.995635  \n",
       "DIM_1_A10   6.763604  1.591065  1.579784  \n",
       "DIM_1_A11   8.706809  1.724276  2.206826  \n",
       "DIM_1_A12  11.184408  2.527630  2.068186  \n",
       "DIM_1_A2    3.037966  1.919078  1.892095  \n",
       "\n",
       "[5 rows x 49 columns]"
      ]
     },
     "execution_count": 12,
     "metadata": {},
     "output_type": "execute_result"
    }
   ],
   "source": [
    "import pandas as pd\n",
    "\n",
    "macaulay2016 = pd.read_csv('../4._Case_Study/supplementary-data-1-sample-info/original_experiment_sample_info.csv', \n",
    "                              index_col=0)\n",
    "macaulay2016.head()"
   ]
  },
  {
   "cell_type": "code",
   "execution_count": 13,
   "metadata": {
    "collapsed": false
   },
   "outputs": [],
   "source": [
    "import seaborn as sns\n",
    "sns.set(context='notebook', style='white')\n",
    "%matplotlib inline\n",
    "\n",
    "import matplotlib.pyplot as plt\n",
    "\n",
    "import ipywidgets"
   ]
  },
  {
   "cell_type": "code",
   "execution_count": 14,
   "metadata": {
    "collapsed": false
   },
   "outputs": [
    {
     "name": "stdout",
     "output_type": "stream",
     "text": [
      "[1] \"HSMM_sample_sheet\"\n",
      "\n"
     ]
    },
    {
     "data": {
      "text/html": [
       "<div>\n",
       "<table border=\"1\" class=\"dataframe\">\n",
       "  <thead>\n",
       "    <tr style=\"text-align: right;\">\n",
       "      <th></th>\n",
       "      <th>Library</th>\n",
       "      <th>Well</th>\n",
       "      <th>Hours</th>\n",
       "      <th>Media</th>\n",
       "      <th>Mapped.Fragments</th>\n",
       "      <th>Pseudotime</th>\n",
       "      <th>State</th>\n",
       "    </tr>\n",
       "  </thead>\n",
       "  <tbody>\n",
       "    <tr>\n",
       "      <th>T0_CT_A01</th>\n",
       "      <td>SCC10013_A01</td>\n",
       "      <td>A01</td>\n",
       "      <td>0</td>\n",
       "      <td>GM</td>\n",
       "      <td>1958074</td>\n",
       "      <td>23.916673</td>\n",
       "      <td>1</td>\n",
       "    </tr>\n",
       "    <tr>\n",
       "      <th>T0_CT_A03</th>\n",
       "      <td>SCC10013_A03</td>\n",
       "      <td>A03</td>\n",
       "      <td>0</td>\n",
       "      <td>GM</td>\n",
       "      <td>1930722</td>\n",
       "      <td>9.022265</td>\n",
       "      <td>1</td>\n",
       "    </tr>\n",
       "    <tr>\n",
       "      <th>T0_CT_A05</th>\n",
       "      <td>SCC10013_A05</td>\n",
       "      <td>A05</td>\n",
       "      <td>0</td>\n",
       "      <td>GM</td>\n",
       "      <td>1452623</td>\n",
       "      <td>7.546608</td>\n",
       "      <td>1</td>\n",
       "    </tr>\n",
       "    <tr>\n",
       "      <th>T0_CT_A06</th>\n",
       "      <td>SCC10013_A06</td>\n",
       "      <td>A06</td>\n",
       "      <td>0</td>\n",
       "      <td>GM</td>\n",
       "      <td>2566325</td>\n",
       "      <td>21.463948</td>\n",
       "      <td>1</td>\n",
       "    </tr>\n",
       "    <tr>\n",
       "      <th>T0_CT_A07</th>\n",
       "      <td>SCC10013_A07</td>\n",
       "      <td>A07</td>\n",
       "      <td>0</td>\n",
       "      <td>GM</td>\n",
       "      <td>2383438</td>\n",
       "      <td>11.299806</td>\n",
       "      <td>1</td>\n",
       "    </tr>\n",
       "  </tbody>\n",
       "</table>\n",
       "</div>"
      ],
      "text/plain": [
       "                Library Well Hours Media  Mapped.Fragments  Pseudotime State\n",
       "T0_CT_A01  SCC10013_A01  A01     0    GM           1958074   23.916673     1\n",
       "T0_CT_A03  SCC10013_A03  A03     0    GM           1930722    9.022265     1\n",
       "T0_CT_A05  SCC10013_A05  A05     0    GM           1452623    7.546608     1\n",
       "T0_CT_A06  SCC10013_A06  A06     0    GM           2566325   21.463948     1\n",
       "T0_CT_A07  SCC10013_A07  A07     0    GM           2383438   11.299806     1"
      ]
     },
     "execution_count": 14,
     "metadata": {},
     "output_type": "execute_result"
    }
   ],
   "source": [
    "from rpy2.robjects import pandas2ri\n",
    "pandas2ri.activate()\n",
    "\n",
    "import rpy2.robjects as robjects\n",
    "import pandas.rpy.common as com\n",
    "print(robjects.r.load(\"/Users/olga/workspace-git/HSMMSingleCell/data/HSMM_sample_sheet.rda\"))\n",
    "\n",
    "trapnell2014 = com.load_data('HSMM_sample_sheet')\n",
    "trapnell2014.head()"
   ]
  },
  {
   "cell_type": "code",
   "execution_count": null,
   "metadata": {
    "collapsed": true
   },
   "outputs": [],
   "source": [
    "robjects.r"
   ]
  },
  {
   "cell_type": "code",
   "execution_count": 27,
   "metadata": {
    "collapsed": false
   },
   "outputs": [
    {
     "name": "stderr",
     "output_type": "stream",
     "text": [
      "/Users/olga/anaconda3/envs/single-cell-bioinformatics/lib/python3.5/site-packages/rpy2/robjects/functions.py:106: UserWarning: Error in readChar(con, 5L, useBytes = TRUE) : cannot open the connection\n",
      "\n",
      "  res = super(Function, self).__call__(*new_args, **new_kwargs)\n",
      "/Users/olga/anaconda3/envs/single-cell-bioinformatics/lib/python3.5/site-packages/rpy2/robjects/functions.py:106: UserWarning: In addition: \n",
      "  res = super(Function, self).__call__(*new_args, **new_kwargs)\n",
      "/Users/olga/anaconda3/envs/single-cell-bioinformatics/lib/python3.5/site-packages/rpy2/robjects/functions.py:106: UserWarning: Warning messages:\n",
      "\n",
      "  res = super(Function, self).__call__(*new_args, **new_kwargs)\n",
      "/Users/olga/anaconda3/envs/single-cell-bioinformatics/lib/python3.5/site-packages/rpy2/robjects/functions.py:106: UserWarning: 1: \n",
      "  res = super(Function, self).__call__(*new_args, **new_kwargs)\n",
      "/Users/olga/anaconda3/envs/single-cell-bioinformatics/lib/python3.5/site-packages/rpy2/robjects/functions.py:106: UserWarning: In (function (..., list = character(), package = NULL, lib.loc = NULL,  :\n",
      "  res = super(Function, self).__call__(*new_args, **new_kwargs)\n",
      "/Users/olga/anaconda3/envs/single-cell-bioinformatics/lib/python3.5/site-packages/rpy2/robjects/functions.py:106: UserWarning: \n",
      " \n",
      "  res = super(Function, self).__call__(*new_args, **new_kwargs)\n",
      "/Users/olga/anaconda3/envs/single-cell-bioinformatics/lib/python3.5/site-packages/rpy2/robjects/functions.py:106: UserWarning:  data set ‘HSMM_sample_sheet’ not found\n",
      "\n",
      "  res = super(Function, self).__call__(*new_args, **new_kwargs)\n",
      "/Users/olga/anaconda3/envs/single-cell-bioinformatics/lib/python3.5/site-packages/rpy2/robjects/functions.py:106: UserWarning: 2: \n",
      "  res = super(Function, self).__call__(*new_args, **new_kwargs)\n",
      "/Users/olga/anaconda3/envs/single-cell-bioinformatics/lib/python3.5/site-packages/rpy2/robjects/functions.py:106: UserWarning: 3: \n",
      "  res = super(Function, self).__call__(*new_args, **new_kwargs)\n",
      "/Users/olga/anaconda3/envs/single-cell-bioinformatics/lib/python3.5/site-packages/rpy2/robjects/functions.py:106: UserWarning: In readChar(con, 5L, useBytes = TRUE) :\n",
      "  res = super(Function, self).__call__(*new_args, **new_kwargs)\n",
      "/Users/olga/anaconda3/envs/single-cell-bioinformatics/lib/python3.5/site-packages/rpy2/robjects/functions.py:106: UserWarning:  cannot open compressed file 'scRNASeqMouseJaitinSpleen', probable reason 'No such file or directory'\n",
      "\n",
      "  res = super(Function, self).__call__(*new_args, **new_kwargs)\n"
     ]
    },
    {
     "ename": "RRuntimeError",
     "evalue": "Error in readChar(con, 5L, useBytes = TRUE) : cannot open the connection\n",
     "output_type": "error",
     "traceback": [
      "\u001b[0;31m---------------------------------------------------------------------------\u001b[0m",
      "\u001b[0;31mRRuntimeError\u001b[0m                             Traceback (most recent call last)",
      "\u001b[0;32m<ipython-input-27-aad4e208399c>\u001b[0m in \u001b[0;36m<module>\u001b[0;34m()\u001b[0m\n\u001b[0;32m----> 1\u001b[0;31m \u001b[0mrobjects\u001b[0m\u001b[0;34m.\u001b[0m\u001b[0mr\u001b[0m\u001b[0;34m.\u001b[0m\u001b[0mload\u001b[0m\u001b[0;34m(\u001b[0m\u001b[0;34m'scRNASeqMouseJaitinSpleen'\u001b[0m\u001b[0;34m)\u001b[0m\u001b[0;34m\u001b[0m\u001b[0m\n\u001b[0m",
      "\u001b[0;32m/Users/olga/anaconda3/envs/single-cell-bioinformatics/lib/python3.5/site-packages/rpy2/robjects/functions.py\u001b[0m in \u001b[0;36m__call__\u001b[0;34m(self, *args, **kwargs)\u001b[0m\n\u001b[1;32m    176\u001b[0m                 \u001b[0mv\u001b[0m \u001b[0;34m=\u001b[0m \u001b[0mkwargs\u001b[0m\u001b[0;34m.\u001b[0m\u001b[0mpop\u001b[0m\u001b[0;34m(\u001b[0m\u001b[0mk\u001b[0m\u001b[0;34m)\u001b[0m\u001b[0;34m\u001b[0m\u001b[0m\n\u001b[1;32m    177\u001b[0m                 \u001b[0mkwargs\u001b[0m\u001b[0;34m[\u001b[0m\u001b[0mr_k\u001b[0m\u001b[0;34m]\u001b[0m \u001b[0;34m=\u001b[0m \u001b[0mv\u001b[0m\u001b[0;34m\u001b[0m\u001b[0m\n\u001b[0;32m--> 178\u001b[0;31m         \u001b[0;32mreturn\u001b[0m \u001b[0msuper\u001b[0m\u001b[0;34m(\u001b[0m\u001b[0mSignatureTranslatedFunction\u001b[0m\u001b[0;34m,\u001b[0m \u001b[0mself\u001b[0m\u001b[0;34m)\u001b[0m\u001b[0;34m.\u001b[0m\u001b[0m__call__\u001b[0m\u001b[0;34m(\u001b[0m\u001b[0;34m*\u001b[0m\u001b[0margs\u001b[0m\u001b[0;34m,\u001b[0m \u001b[0;34m**\u001b[0m\u001b[0mkwargs\u001b[0m\u001b[0;34m)\u001b[0m\u001b[0;34m\u001b[0m\u001b[0m\n\u001b[0m\u001b[1;32m    179\u001b[0m \u001b[0;34m\u001b[0m\u001b[0m\n\u001b[1;32m    180\u001b[0m \u001b[0mpattern_link\u001b[0m \u001b[0;34m=\u001b[0m \u001b[0mre\u001b[0m\u001b[0;34m.\u001b[0m\u001b[0mcompile\u001b[0m\u001b[0;34m(\u001b[0m\u001b[0;34mr'\\\\link\\{(.+?)\\}'\u001b[0m\u001b[0;34m)\u001b[0m\u001b[0;34m\u001b[0m\u001b[0m\n",
      "\u001b[0;32m/Users/olga/anaconda3/envs/single-cell-bioinformatics/lib/python3.5/site-packages/rpy2/robjects/functions.py\u001b[0m in \u001b[0;36m__call__\u001b[0;34m(self, *args, **kwargs)\u001b[0m\n\u001b[1;32m    104\u001b[0m         \u001b[0;32mfor\u001b[0m \u001b[0mk\u001b[0m\u001b[0;34m,\u001b[0m \u001b[0mv\u001b[0m \u001b[0;32min\u001b[0m \u001b[0mkwargs\u001b[0m\u001b[0;34m.\u001b[0m\u001b[0mitems\u001b[0m\u001b[0;34m(\u001b[0m\u001b[0;34m)\u001b[0m\u001b[0;34m:\u001b[0m\u001b[0;34m\u001b[0m\u001b[0m\n\u001b[1;32m    105\u001b[0m             \u001b[0mnew_kwargs\u001b[0m\u001b[0;34m[\u001b[0m\u001b[0mk\u001b[0m\u001b[0;34m]\u001b[0m \u001b[0;34m=\u001b[0m \u001b[0mconversion\u001b[0m\u001b[0;34m.\u001b[0m\u001b[0mpy2ri\u001b[0m\u001b[0;34m(\u001b[0m\u001b[0mv\u001b[0m\u001b[0;34m)\u001b[0m\u001b[0;34m\u001b[0m\u001b[0m\n\u001b[0;32m--> 106\u001b[0;31m         \u001b[0mres\u001b[0m \u001b[0;34m=\u001b[0m \u001b[0msuper\u001b[0m\u001b[0;34m(\u001b[0m\u001b[0mFunction\u001b[0m\u001b[0;34m,\u001b[0m \u001b[0mself\u001b[0m\u001b[0;34m)\u001b[0m\u001b[0;34m.\u001b[0m\u001b[0m__call__\u001b[0m\u001b[0;34m(\u001b[0m\u001b[0;34m*\u001b[0m\u001b[0mnew_args\u001b[0m\u001b[0;34m,\u001b[0m \u001b[0;34m**\u001b[0m\u001b[0mnew_kwargs\u001b[0m\u001b[0;34m)\u001b[0m\u001b[0;34m\u001b[0m\u001b[0m\n\u001b[0m\u001b[1;32m    107\u001b[0m         \u001b[0mres\u001b[0m \u001b[0;34m=\u001b[0m \u001b[0mconversion\u001b[0m\u001b[0;34m.\u001b[0m\u001b[0mri2ro\u001b[0m\u001b[0;34m(\u001b[0m\u001b[0mres\u001b[0m\u001b[0;34m)\u001b[0m\u001b[0;34m\u001b[0m\u001b[0m\n\u001b[1;32m    108\u001b[0m         \u001b[0;32mreturn\u001b[0m \u001b[0mres\u001b[0m\u001b[0;34m\u001b[0m\u001b[0m\n",
      "\u001b[0;31mRRuntimeError\u001b[0m: Error in readChar(con, 5L, useBytes = TRUE) : cannot open the connection\n"
     ]
    }
   ],
   "source": [
    "robjects.r.load('scRNASeqMouseJaitinSpleen')"
   ]
  },
  {
   "cell_type": "code",
   "execution_count": 15,
   "metadata": {
    "collapsed": false
   },
   "outputs": [
    {
     "name": "stdout",
     "output_type": "stream",
     "text": [
      "mkdir: data: File exists\r\n"
     ]
    }
   ],
   "source": [
    "mkdir data"
   ]
  },
  {
   "cell_type": "code",
   "execution_count": 16,
   "metadata": {
    "collapsed": true
   },
   "outputs": [],
   "source": [
    "trapnell2014.to_csv('data/trapnell2014_metadata.csv')"
   ]
  },
  {
   "cell_type": "code",
   "execution_count": 17,
   "metadata": {
    "collapsed": false
   },
   "outputs": [
    {
     "data": {
      "text/plain": [
       "<matplotlib.axes._subplots.AxesSubplot at 0x117983e10>"
      ]
     },
     "execution_count": 17,
     "metadata": {},
     "output_type": "execute_result"
    },
    {
     "name": "stderr",
     "output_type": "stream",
     "text": [
      "/Users/olga/anaconda3/envs/single-cell-bioinformatics/lib/python3.5/site-packages/matplotlib/figure.py:1744: UserWarning: This figure includes Axes that are not compatible with tight_layout, so its results might be incorrect.\n",
      "  warnings.warn(\"This figure includes Axes that are not \"\n"
     ]
    },
    {
     "data": {
      "image/png": "[encoded data removed]",
      "text/plain": [
       "<matplotlib.figure.Figure at 0x117977080>"
      ]
     },
     "metadata": {},
     "output_type": "display_data"
    }
   ],
   "source": [
    "fig, ax = plt.subplots(figsize=(30, 3))\n",
    "trapnell2014['Mapped.Fragments'].plot(kind='bar')"
   ]
  },
  {
   "cell_type": "code",
   "execution_count": 19,
   "metadata": {
    "collapsed": false
   },
   "outputs": [
    {
     "name": "stderr",
     "output_type": "stream",
     "text": [
      "/Users/olga/anaconda3/envs/single-cell-bioinformatics/lib/python3.5/site-packages/matplotlib/figure.py:1744: UserWarning: This figure includes Axes that are not compatible with tight_layout, so its results might be incorrect.\n",
      "  warnings.warn(\"This figure includes Axes that are not \"\n"
     ]
    },
    {
     "data": {
      "image/png": "[encoded data removed]",
      "text/plain": [
       "<matplotlib.figure.Figure at 0x117f8f7b8>"
      ]
     },
     "metadata": {},
     "output_type": "display_data"
    }
   ],
   "source": [
    "fig, ax = plt.subplots()\n",
    "ax.set_yscale('log')\n",
    "sns.barplot(y='Mapped.Fragments', x='Media', hue='Hours', data=trapnell2014, ax=ax)\n",
    "sns.despine()"
   ]
  },
  {
   "cell_type": "code",
   "execution_count": 20,
   "metadata": {
    "collapsed": true
   },
   "outputs": [],
   "source": [
    "import pandas as pd"
   ]
  },
  {
   "cell_type": "code",
   "execution_count": 26,
   "metadata": {
    "collapsed": false
   },
   "outputs": [
    {
     "data": {
      "text/html": [
       "<div>\n",
       "<table border=\"1\" class=\"dataframe\">\n",
       "  <thead>\n",
       "    <tr style=\"text-align: right;\">\n",
       "      <th></th>\n",
       "      <th>Experiment</th>\n",
       "      <th>Total Reads</th>\n",
       "      <th>Aligned Reads % (Transcriptome)</th>\n",
       "    </tr>\n",
       "  </thead>\n",
       "  <tbody>\n",
       "    <tr>\n",
       "      <th>0</th>\n",
       "      <td>On_Chip_Stimulation_LPS_4h_S10_rsem</td>\n",
       "      <td>1528837.0</td>\n",
       "      <td>31.59</td>\n",
       "    </tr>\n",
       "    <tr>\n",
       "      <th>1</th>\n",
       "      <td>On_Chip_Stimulation_LPS_4h_S11_rsem</td>\n",
       "      <td>1519096.0</td>\n",
       "      <td>36.06</td>\n",
       "    </tr>\n",
       "    <tr>\n",
       "      <th>2</th>\n",
       "      <td>On_Chip_Stimulation_LPS_4h_S13_rsem</td>\n",
       "      <td>2866167.0</td>\n",
       "      <td>43.32</td>\n",
       "    </tr>\n",
       "    <tr>\n",
       "      <th>3</th>\n",
       "      <td>On_Chip_Stimulation_LPS_4h_S16_rsem</td>\n",
       "      <td>2096589.0</td>\n",
       "      <td>33.16</td>\n",
       "    </tr>\n",
       "    <tr>\n",
       "      <th>4</th>\n",
       "      <td>On_Chip_Stimulation_LPS_4h_S17_rsem</td>\n",
       "      <td>1427777.0</td>\n",
       "      <td>25.52</td>\n",
       "    </tr>\n",
       "  </tbody>\n",
       "</table>\n",
       "</div>"
      ],
      "text/plain": [
       "                            Experiment  Total Reads  \\\n",
       "0  On_Chip_Stimulation_LPS_4h_S10_rsem    1528837.0   \n",
       "1  On_Chip_Stimulation_LPS_4h_S11_rsem    1519096.0   \n",
       "2  On_Chip_Stimulation_LPS_4h_S13_rsem    2866167.0   \n",
       "3  On_Chip_Stimulation_LPS_4h_S16_rsem    2096589.0   \n",
       "4  On_Chip_Stimulation_LPS_4h_S17_rsem    1427777.0   \n",
       "\n",
       "   Aligned Reads % (Transcriptome)  \n",
       "0                            31.59  \n",
       "1                            36.06  \n",
       "2                            43.32  \n",
       "3                            33.16  \n",
       "4                            25.52  "
      ]
     },
     "execution_count": 26,
     "metadata": {},
     "output_type": "execute_result"
    }
   ],
   "source": [
    "shalek2014 = pd.read_excel('/Users/olga/Downloads/nature13437-s3.xls')\n",
    "shalek2014.head()"
   ]
  },
  {
   "cell_type": "code",
   "execution_count": null,
   "metadata": {
    "collapsed": true
   },
   "outputs": [],
   "source": [
    "pd.Series.str.extract"
   ]
  },
  {
   "cell_type": "code",
   "execution_count": 39,
   "metadata": {
    "collapsed": false
   },
   "outputs": [
    {
     "name": "stderr",
     "output_type": "stream",
     "text": [
      "/Users/olga/anaconda3/envs/single-cell-bioinformatics/lib/python3.5/site-packages/ipykernel/__main__.py:1: FutureWarning: currently extract(expand=None) means expand=False (return Index/Series/DataFrame) but in a future version of pandas this will be changed to expand=True (return DataFrame)\n",
      "  if __name__ == '__main__':\n"
     ]
    },
    {
     "data": {
      "text/html": [
       "<div>\n",
       "<table border=\"1\" class=\"dataframe\">\n",
       "  <thead>\n",
       "    <tr style=\"text-align: right;\">\n",
       "      <th></th>\n",
       "      <th>Experiment</th>\n",
       "      <th>Total Reads</th>\n",
       "      <th>Aligned Reads % (Transcriptome)</th>\n",
       "      <th>Group</th>\n",
       "    </tr>\n",
       "  </thead>\n",
       "  <tbody>\n",
       "    <tr>\n",
       "      <th>0</th>\n",
       "      <td>On_Chip_Stimulation_LPS_4h_S10_rsem</td>\n",
       "      <td>1528837.0</td>\n",
       "      <td>31.59</td>\n",
       "      <td>On_Chip_Stimulation_LPS_4h</td>\n",
       "    </tr>\n",
       "    <tr>\n",
       "      <th>1</th>\n",
       "      <td>On_Chip_Stimulation_LPS_4h_S11_rsem</td>\n",
       "      <td>1519096.0</td>\n",
       "      <td>36.06</td>\n",
       "      <td>On_Chip_Stimulation_LPS_4h</td>\n",
       "    </tr>\n",
       "    <tr>\n",
       "      <th>2</th>\n",
       "      <td>On_Chip_Stimulation_LPS_4h_S13_rsem</td>\n",
       "      <td>2866167.0</td>\n",
       "      <td>43.32</td>\n",
       "      <td>On_Chip_Stimulation_LPS_4h</td>\n",
       "    </tr>\n",
       "    <tr>\n",
       "      <th>3</th>\n",
       "      <td>On_Chip_Stimulation_LPS_4h_S16_rsem</td>\n",
       "      <td>2096589.0</td>\n",
       "      <td>33.16</td>\n",
       "      <td>On_Chip_Stimulation_LPS_4h</td>\n",
       "    </tr>\n",
       "    <tr>\n",
       "      <th>4</th>\n",
       "      <td>On_Chip_Stimulation_LPS_4h_S17_rsem</td>\n",
       "      <td>1427777.0</td>\n",
       "      <td>25.52</td>\n",
       "      <td>On_Chip_Stimulation_LPS_4h</td>\n",
       "    </tr>\n",
       "  </tbody>\n",
       "</table>\n",
       "</div>"
      ],
      "text/plain": [
       "                            Experiment  Total Reads  \\\n",
       "0  On_Chip_Stimulation_LPS_4h_S10_rsem    1528837.0   \n",
       "1  On_Chip_Stimulation_LPS_4h_S11_rsem    1519096.0   \n",
       "2  On_Chip_Stimulation_LPS_4h_S13_rsem    2866167.0   \n",
       "3  On_Chip_Stimulation_LPS_4h_S16_rsem    2096589.0   \n",
       "4  On_Chip_Stimulation_LPS_4h_S17_rsem    1427777.0   \n",
       "\n",
       "   Aligned Reads % (Transcriptome)                       Group  \n",
       "0                            31.59  On_Chip_Stimulation_LPS_4h  \n",
       "1                            36.06  On_Chip_Stimulation_LPS_4h  \n",
       "2                            43.32  On_Chip_Stimulation_LPS_4h  \n",
       "3                            33.16  On_Chip_Stimulation_LPS_4h  \n",
       "4                            25.52  On_Chip_Stimulation_LPS_4h  "
      ]
     },
     "execution_count": 39,
     "metadata": {},
     "output_type": "execute_result"
    }
   ],
   "source": [
    "shalek2014['Group'] = shalek2014['Experiment'].str.extract('(\\w+)_S\\d+_rsem')\n",
    "shalek2014.head()"
   ]
  },
  {
   "cell_type": "code",
   "execution_count": 47,
   "metadata": {
    "collapsed": false
   },
   "outputs": [
    {
     "name": "stderr",
     "output_type": "stream",
     "text": [
      "/Users/olga/anaconda3/envs/single-cell-bioinformatics/lib/python3.5/site-packages/matplotlib/figure.py:1744: UserWarning: This figure includes Axes that are not compatible with tight_layout, so its results might be incorrect.\n",
      "  warnings.warn(\"This figure includes Axes that are not \"\n"
     ]
    },
    {
     "data": {
      "image/png": "[encoded data removed]",
      "text/plain": [
       "<matplotlib.figure.Figure at 0x119511ba8>"
      ]
     },
     "metadata": {},
     "output_type": "display_data"
    }
   ],
   "source": [
    "fig, ax = plt.subplots(figsize=(6, 8))\n",
    "# ax.set_yscale('log') \n",
    "sns.barplot(x='Total Reads', y='Group', data=shalek2014, ax=ax, orient='h')\n",
    "sns.despine()"
   ]
  },
  {
   "cell_type": "code",
   "execution_count": 46,
   "metadata": {
    "collapsed": false
   },
   "outputs": [
    {
     "name": "stderr",
     "output_type": "stream",
     "text": [
      "/Users/olga/anaconda3/envs/single-cell-bioinformatics/lib/python3.5/site-packages/matplotlib/figure.py:1744: UserWarning: This figure includes Axes that are not compatible with tight_layout, so its results might be incorrect.\n",
      "  warnings.warn(\"This figure includes Axes that are not \"\n"
     ]
    },
    {
     "data": {
      "image/png": "[encoded data removed]",
      "text/plain": [
       "<matplotlib.figure.Figure at 0x11b395240>"
      ]
     },
     "metadata": {},
     "output_type": "display_data"
    }
   ],
   "source": [
    "fig, ax = plt.subplots(figsize=(6, 8))\n",
    "# ax.set_yscale('log') \n",
    "sns.barplot(x='Aligned Reads % (Transcriptome)', y='Group', data=shalek2014, ax=ax, orient='h')\n",
    "sns.despine()"
   ]
  },
  {
   "cell_type": "code",
   "execution_count": 49,
   "metadata": {
    "collapsed": false
   },
   "outputs": [
    {
     "data": {
      "text/plain": [
       "<matplotlib.text.Text at 0x112e8d4e0>"
      ]
     },
     "execution_count": 49,
     "metadata": {},
     "output_type": "execute_result"
    },
    {
     "name": "stderr",
     "output_type": "stream",
     "text": [
      "/Users/olga/anaconda3/envs/single-cell-bioinformatics/lib/python3.5/site-packages/matplotlib/figure.py:1744: UserWarning: This figure includes Axes that are not compatible with tight_layout, so its results might be incorrect.\n",
      "  warnings.warn(\"This figure includes Axes that are not \"\n"
     ]
    },
    {
     "data": {
      "image/png": "[encoded data removed]",
      "text/plain": [
       "<matplotlib.figure.Figure at 0x11b774da0>"
      ]
     },
     "metadata": {},
     "output_type": "display_data"
    }
   ],
   "source": [
    "fig, ax = plt.subplots(figsize=(6, 8))\n",
    "# ax.set_yscale('log') \n",
    "sns.countplot(y='Group', data=shalek2014, ax=ax, orient='h')\n",
    "sns.despine()\n",
    "ax.set_title(\"Number of cells per group\")"
   ]
  },
  {
   "cell_type": "code",
   "execution_count": null,
   "metadata": {
    "collapsed": true
   },
   "outputs": [],
   "source": [
    "qc_columns = ['MT Content', 'ERCC Content', 'detected_genes', 'total_molecules']\n",
    "\n",
    "\n",
    "macaulay2016.loc['apoptosing_cell', qc_columns] = 200000, 5000, 2000, \n",
    "macaulay2016.loc['low_mrna_content', qc_columns] = 1500, 800000, 2000,\n",
    "macaulay2016.loc['too_few_genes', qc_columns] = 1500, 5000, 500, \n",
    "macaulay2016.loc['too_few_molecules', qc_columns] = 1500, 5000, 500, "
   ]
  },
  {
   "cell_type": "code",
   "execution_count": 50,
   "metadata": {
    "collapsed": false
   },
   "outputs": [
    {
     "data": {
      "image/png": "[encoded data removed]",
      "text/plain": [
       "<matplotlib.figure.Figure at 0x11bb807f0>"
      ]
     },
     "metadata": {},
     "output_type": "display_data"
    }
   ],
   "source": [
    "def explore_quality_control(x, y, logy):\n",
    "    x = x.lower()\n",
    "    if x == 'batch':\n",
    "        fig, axes = plt.subplots(figsize=(8, 3), ncols=2)\n",
    "        ax = axes[0]\n",
    "        if logy:\n",
    "            ax.set_yscale('log')\n",
    "        sns.boxplot(y=y, x=x, data=macaulay2016, ax=ax, palette='Paired')\n",
    "        ax.set(title=y)\n",
    "        \n",
    "        ax = axes[1]\n",
    "        sns.countplot(x, data=macaulay2016)\n",
    "        ax.set(ylabel=\"Number of cells\", title='Cells per batch')\n",
    "    else:\n",
    "        fig, ax = plt.subplots(figsize=(30, 3))\n",
    "        macaulay2016[y].plot(kind='bar', logy=logy, ax=ax)\n",
    "        ax.set(ylim=(0, macaulay2016[y].max()*1.05), title=y)\n",
    "        \n",
    "    sns.despine()\n",
    "    fig.tight_layout()\n",
    "\n",
    "ipywidgets.interact(explore_quality_control,\n",
    "                    x=ipywidgets.Dropdown(value='Cells', options=['Cells', 'Batch'], description='x-axis'),\n",
    "                    y=ipywidgets.Dropdown(value='MT Content', options=['MT Content', 'ERCC Content', \n",
    "                                                                       'detected_genes', 'total_molecules'],\n",
    "                                          description='y-axis'),\n",
    "                    logy=ipywidgets.Checkbox(value=False, description='Set the y-axis as log10-scale?'));"
   ]
  },
  {
   "cell_type": "markdown",
   "metadata": {},
   "source": [
    "## Normalization"
   ]
  },
  {
   "cell_type": "markdown",
   "metadata": {
    "collapsed": true
   },
   "source": [
    "## Dealing with zeros\n",
    "\n"
   ]
  },
  {
   "cell_type": "code",
   "execution_count": 51,
   "metadata": {
    "collapsed": false
   },
   "outputs": [
    {
     "name": "stdout",
     "output_type": "stream",
     "text": [
      "[1] \"HSMM_expr_matrix\"\n",
      "\n"
     ]
    },
    {
     "data": {
      "text/html": [
       "<div>\n",
       "<table border=\"1\" class=\"dataframe\">\n",
       "  <thead>\n",
       "    <tr style=\"text-align: right;\">\n",
       "      <th></th>\n",
       "      <th>T0_CT_A01</th>\n",
       "      <th>T0_CT_A03</th>\n",
       "      <th>T0_CT_A05</th>\n",
       "      <th>T0_CT_A06</th>\n",
       "      <th>T0_CT_A07</th>\n",
       "      <th>T0_CT_A08</th>\n",
       "      <th>T0_CT_A10</th>\n",
       "      <th>T0_CT_A11</th>\n",
       "      <th>T0_CT_B01</th>\n",
       "      <th>T0_CT_B03</th>\n",
       "      <th>...</th>\n",
       "      <th>T72_CT_G10</th>\n",
       "      <th>T72_CT_G11</th>\n",
       "      <th>T72_CT_H01</th>\n",
       "      <th>T72_CT_H03</th>\n",
       "      <th>T72_CT_H05</th>\n",
       "      <th>T72_CT_H08</th>\n",
       "      <th>T72_CT_H09</th>\n",
       "      <th>T72_CT_H10</th>\n",
       "      <th>T72_CT_H11</th>\n",
       "      <th>T72_CT_H12</th>\n",
       "    </tr>\n",
       "  </thead>\n",
       "  <tbody>\n",
       "    <tr>\n",
       "      <th>ENSG00000000003.10</th>\n",
       "      <td>21.984400</td>\n",
       "      <td>1.280040</td>\n",
       "      <td>43.46180</td>\n",
       "      <td>0.00000</td>\n",
       "      <td>39.80760</td>\n",
       "      <td>4.63181</td>\n",
       "      <td>18.831000</td>\n",
       "      <td>0.0477</td>\n",
       "      <td>42.750500</td>\n",
       "      <td>23.2129</td>\n",
       "      <td>...</td>\n",
       "      <td>0.000000</td>\n",
       "      <td>1.08239</td>\n",
       "      <td>1.18123</td>\n",
       "      <td>2.12809</td>\n",
       "      <td>29.05720</td>\n",
       "      <td>3.37560</td>\n",
       "      <td>10.0780</td>\n",
       "      <td>6.61765</td>\n",
       "      <td>5.84364</td>\n",
       "      <td>38.2474</td>\n",
       "    </tr>\n",
       "    <tr>\n",
       "      <th>ENSG00000000005.5</th>\n",
       "      <td>0.000000</td>\n",
       "      <td>0.000000</td>\n",
       "      <td>0.00000</td>\n",
       "      <td>0.00000</td>\n",
       "      <td>0.00000</td>\n",
       "      <td>0.00000</td>\n",
       "      <td>0.000000</td>\n",
       "      <td>0.0000</td>\n",
       "      <td>0.000000</td>\n",
       "      <td>0.0000</td>\n",
       "      <td>...</td>\n",
       "      <td>0.000000</td>\n",
       "      <td>0.00000</td>\n",
       "      <td>0.00000</td>\n",
       "      <td>0.00000</td>\n",
       "      <td>0.00000</td>\n",
       "      <td>0.00000</td>\n",
       "      <td>0.0000</td>\n",
       "      <td>0.00000</td>\n",
       "      <td>0.00000</td>\n",
       "      <td>0.0000</td>\n",
       "    </tr>\n",
       "    <tr>\n",
       "      <th>ENSG00000000419.8</th>\n",
       "      <td>40.059700</td>\n",
       "      <td>77.580800</td>\n",
       "      <td>6.49656</td>\n",
       "      <td>4.90934</td>\n",
       "      <td>1.15652</td>\n",
       "      <td>35.58380</td>\n",
       "      <td>0.907017</td>\n",
       "      <td>0.0000</td>\n",
       "      <td>10.808200</td>\n",
       "      <td>38.0942</td>\n",
       "      <td>...</td>\n",
       "      <td>20.304600</td>\n",
       "      <td>0.00000</td>\n",
       "      <td>43.54700</td>\n",
       "      <td>27.19050</td>\n",
       "      <td>8.77107</td>\n",
       "      <td>86.16450</td>\n",
       "      <td>58.4063</td>\n",
       "      <td>103.37200</td>\n",
       "      <td>14.37330</td>\n",
       "      <td>15.9862</td>\n",
       "    </tr>\n",
       "    <tr>\n",
       "      <th>ENSG00000000457.8</th>\n",
       "      <td>0.937081</td>\n",
       "      <td>0.729195</td>\n",
       "      <td>0.00000</td>\n",
       "      <td>0.00000</td>\n",
       "      <td>0.00000</td>\n",
       "      <td>0.00000</td>\n",
       "      <td>0.578949</td>\n",
       "      <td>0.0000</td>\n",
       "      <td>0.000000</td>\n",
       "      <td>0.0000</td>\n",
       "      <td>...</td>\n",
       "      <td>0.000000</td>\n",
       "      <td>0.00000</td>\n",
       "      <td>0.00000</td>\n",
       "      <td>0.00000</td>\n",
       "      <td>0.00000</td>\n",
       "      <td>0.00000</td>\n",
       "      <td>0.0000</td>\n",
       "      <td>0.00000</td>\n",
       "      <td>0.00000</td>\n",
       "      <td>0.0000</td>\n",
       "    </tr>\n",
       "    <tr>\n",
       "      <th>ENSG00000000460.12</th>\n",
       "      <td>0.740922</td>\n",
       "      <td>57.578500</td>\n",
       "      <td>3.93587</td>\n",
       "      <td>0.00000</td>\n",
       "      <td>0.00000</td>\n",
       "      <td>1.75868</td>\n",
       "      <td>0.000000</td>\n",
       "      <td>0.0000</td>\n",
       "      <td>0.762205</td>\n",
       "      <td>13.3956</td>\n",
       "      <td>...</td>\n",
       "      <td>0.135884</td>\n",
       "      <td>0.00000</td>\n",
       "      <td>0.00000</td>\n",
       "      <td>0.00000</td>\n",
       "      <td>9.39190</td>\n",
       "      <td>8.88109</td>\n",
       "      <td>0.0000</td>\n",
       "      <td>0.00000</td>\n",
       "      <td>0.00000</td>\n",
       "      <td>0.0000</td>\n",
       "    </tr>\n",
       "  </tbody>\n",
       "</table>\n",
       "<p>5 rows × 271 columns</p>\n",
       "</div>"
      ],
      "text/plain": [
       "                    T0_CT_A01  T0_CT_A03  T0_CT_A05  T0_CT_A06  T0_CT_A07  \\\n",
       "ENSG00000000003.10  21.984400   1.280040   43.46180    0.00000   39.80760   \n",
       "ENSG00000000005.5    0.000000   0.000000    0.00000    0.00000    0.00000   \n",
       "ENSG00000000419.8   40.059700  77.580800    6.49656    4.90934    1.15652   \n",
       "ENSG00000000457.8    0.937081   0.729195    0.00000    0.00000    0.00000   \n",
       "ENSG00000000460.12   0.740922  57.578500    3.93587    0.00000    0.00000   \n",
       "\n",
       "                    T0_CT_A08  T0_CT_A10  T0_CT_A11  T0_CT_B01  T0_CT_B03  \\\n",
       "ENSG00000000003.10    4.63181  18.831000     0.0477  42.750500    23.2129   \n",
       "ENSG00000000005.5     0.00000   0.000000     0.0000   0.000000     0.0000   \n",
       "ENSG00000000419.8    35.58380   0.907017     0.0000  10.808200    38.0942   \n",
       "ENSG00000000457.8     0.00000   0.578949     0.0000   0.000000     0.0000   \n",
       "ENSG00000000460.12    1.75868   0.000000     0.0000   0.762205    13.3956   \n",
       "\n",
       "                       ...      T72_CT_G10  T72_CT_G11  T72_CT_H01  \\\n",
       "ENSG00000000003.10     ...        0.000000     1.08239     1.18123   \n",
       "ENSG00000000005.5      ...        0.000000     0.00000     0.00000   \n",
       "ENSG00000000419.8      ...       20.304600     0.00000    43.54700   \n",
       "ENSG00000000457.8      ...        0.000000     0.00000     0.00000   \n",
       "ENSG00000000460.12     ...        0.135884     0.00000     0.00000   \n",
       "\n",
       "                    T72_CT_H03  T72_CT_H05  T72_CT_H08  T72_CT_H09  \\\n",
       "ENSG00000000003.10     2.12809    29.05720     3.37560     10.0780   \n",
       "ENSG00000000005.5      0.00000     0.00000     0.00000      0.0000   \n",
       "ENSG00000000419.8     27.19050     8.77107    86.16450     58.4063   \n",
       "ENSG00000000457.8      0.00000     0.00000     0.00000      0.0000   \n",
       "ENSG00000000460.12     0.00000     9.39190     8.88109      0.0000   \n",
       "\n",
       "                    T72_CT_H10  T72_CT_H11  T72_CT_H12  \n",
       "ENSG00000000003.10     6.61765     5.84364     38.2474  \n",
       "ENSG00000000005.5      0.00000     0.00000      0.0000  \n",
       "ENSG00000000419.8    103.37200    14.37330     15.9862  \n",
       "ENSG00000000457.8      0.00000     0.00000      0.0000  \n",
       "ENSG00000000460.12     0.00000     0.00000      0.0000  \n",
       "\n",
       "[5 rows x 271 columns]"
      ]
     },
     "execution_count": 51,
     "metadata": {},
     "output_type": "execute_result"
    }
   ],
   "source": [
    "from rpy2.robjects import pandas2ri\n",
    "pandas2ri.activate()\n",
    "\n",
    "import rpy2.robjects as robjects\n",
    "import pandas.rpy.common as com\n",
    "print(robjects.r.load(\"/Users/olga/workspace-git/HSMMSingleCell/data/HSMM_expr_matrix.rda\"))\n",
    "\n",
    "trapnell2014_expression = com.load_data('HSMM_expr_matrix')\n",
    "trapnell2014_expression.head()"
   ]
  },
  {
   "cell_type": "code",
   "execution_count": 70,
   "metadata": {
    "collapsed": false
   },
   "outputs": [
    {
     "data": {
      "text/html": [
       "<div>\n",
       "<table border=\"1\" class=\"dataframe\">\n",
       "  <thead>\n",
       "    <tr style=\"text-align: right;\">\n",
       "      <th></th>\n",
       "      <th>T0_CT_A01</th>\n",
       "      <th>T0_CT_A03</th>\n",
       "      <th>T0_CT_A05</th>\n",
       "      <th>T0_CT_A06</th>\n",
       "      <th>T0_CT_A07</th>\n",
       "      <th>T0_CT_A08</th>\n",
       "      <th>T0_CT_A10</th>\n",
       "      <th>T0_CT_A11</th>\n",
       "      <th>T0_CT_B01</th>\n",
       "      <th>T0_CT_B03</th>\n",
       "      <th>...</th>\n",
       "      <th>T72_CT_G10</th>\n",
       "      <th>T72_CT_G11</th>\n",
       "      <th>T72_CT_H01</th>\n",
       "      <th>T72_CT_H03</th>\n",
       "      <th>T72_CT_H05</th>\n",
       "      <th>T72_CT_H08</th>\n",
       "      <th>T72_CT_H09</th>\n",
       "      <th>T72_CT_H10</th>\n",
       "      <th>T72_CT_H11</th>\n",
       "      <th>T72_CT_H12</th>\n",
       "    </tr>\n",
       "  </thead>\n",
       "  <tbody>\n",
       "    <tr>\n",
       "      <th>ENSGR0000237531.1</th>\n",
       "      <td>0.0</td>\n",
       "      <td>0.0</td>\n",
       "      <td>0.0</td>\n",
       "      <td>0.0</td>\n",
       "      <td>0.0</td>\n",
       "      <td>0.0</td>\n",
       "      <td>0.0</td>\n",
       "      <td>0.0</td>\n",
       "      <td>0.0</td>\n",
       "      <td>0.0</td>\n",
       "      <td>...</td>\n",
       "      <td>0.0</td>\n",
       "      <td>0.0</td>\n",
       "      <td>0.0</td>\n",
       "      <td>0.0</td>\n",
       "      <td>0.0</td>\n",
       "      <td>0.0</td>\n",
       "      <td>0.0</td>\n",
       "      <td>0.0</td>\n",
       "      <td>0.0</td>\n",
       "      <td>0.0</td>\n",
       "    </tr>\n",
       "    <tr>\n",
       "      <th>ENSGR0000237801.1</th>\n",
       "      <td>0.0</td>\n",
       "      <td>0.0</td>\n",
       "      <td>0.0</td>\n",
       "      <td>0.0</td>\n",
       "      <td>0.0</td>\n",
       "      <td>0.0</td>\n",
       "      <td>0.0</td>\n",
       "      <td>0.0</td>\n",
       "      <td>0.0</td>\n",
       "      <td>0.0</td>\n",
       "      <td>...</td>\n",
       "      <td>0.0</td>\n",
       "      <td>0.0</td>\n",
       "      <td>0.0</td>\n",
       "      <td>0.0</td>\n",
       "      <td>0.0</td>\n",
       "      <td>0.0</td>\n",
       "      <td>0.0</td>\n",
       "      <td>0.0</td>\n",
       "      <td>0.0</td>\n",
       "      <td>0.0</td>\n",
       "    </tr>\n",
       "    <tr>\n",
       "      <th>ENSGR0000248421.1</th>\n",
       "      <td>0.0</td>\n",
       "      <td>0.0</td>\n",
       "      <td>0.0</td>\n",
       "      <td>0.0</td>\n",
       "      <td>0.0</td>\n",
       "      <td>0.0</td>\n",
       "      <td>0.0</td>\n",
       "      <td>0.0</td>\n",
       "      <td>0.0</td>\n",
       "      <td>0.0</td>\n",
       "      <td>...</td>\n",
       "      <td>0.0</td>\n",
       "      <td>0.0</td>\n",
       "      <td>0.0</td>\n",
       "      <td>0.0</td>\n",
       "      <td>0.0</td>\n",
       "      <td>0.0</td>\n",
       "      <td>0.0</td>\n",
       "      <td>0.0</td>\n",
       "      <td>0.0</td>\n",
       "      <td>0.0</td>\n",
       "    </tr>\n",
       "    <tr>\n",
       "      <th>ENSGR0000249358.1</th>\n",
       "      <td>0.0</td>\n",
       "      <td>0.0</td>\n",
       "      <td>0.0</td>\n",
       "      <td>0.0</td>\n",
       "      <td>0.0</td>\n",
       "      <td>0.0</td>\n",
       "      <td>0.0</td>\n",
       "      <td>0.0</td>\n",
       "      <td>0.0</td>\n",
       "      <td>0.0</td>\n",
       "      <td>...</td>\n",
       "      <td>0.0</td>\n",
       "      <td>0.0</td>\n",
       "      <td>0.0</td>\n",
       "      <td>0.0</td>\n",
       "      <td>0.0</td>\n",
       "      <td>0.0</td>\n",
       "      <td>0.0</td>\n",
       "      <td>0.0</td>\n",
       "      <td>0.0</td>\n",
       "      <td>0.0</td>\n",
       "    </tr>\n",
       "    <tr>\n",
       "      <th>ENSGR0000270726.1</th>\n",
       "      <td>0.0</td>\n",
       "      <td>0.0</td>\n",
       "      <td>0.0</td>\n",
       "      <td>0.0</td>\n",
       "      <td>0.0</td>\n",
       "      <td>0.0</td>\n",
       "      <td>0.0</td>\n",
       "      <td>0.0</td>\n",
       "      <td>0.0</td>\n",
       "      <td>0.0</td>\n",
       "      <td>...</td>\n",
       "      <td>0.0</td>\n",
       "      <td>0.0</td>\n",
       "      <td>0.0</td>\n",
       "      <td>0.0</td>\n",
       "      <td>0.0</td>\n",
       "      <td>0.0</td>\n",
       "      <td>0.0</td>\n",
       "      <td>0.0</td>\n",
       "      <td>0.0</td>\n",
       "      <td>0.0</td>\n",
       "    </tr>\n",
       "  </tbody>\n",
       "</table>\n",
       "<p>5 rows × 271 columns</p>\n",
       "</div>"
      ],
      "text/plain": [
       "                   T0_CT_A01  T0_CT_A03  T0_CT_A05  T0_CT_A06  T0_CT_A07  \\\n",
       "ENSGR0000237531.1        0.0        0.0        0.0        0.0        0.0   \n",
       "ENSGR0000237801.1        0.0        0.0        0.0        0.0        0.0   \n",
       "ENSGR0000248421.1        0.0        0.0        0.0        0.0        0.0   \n",
       "ENSGR0000249358.1        0.0        0.0        0.0        0.0        0.0   \n",
       "ENSGR0000270726.1        0.0        0.0        0.0        0.0        0.0   \n",
       "\n",
       "                   T0_CT_A08  T0_CT_A10  T0_CT_A11  T0_CT_B01  T0_CT_B03  \\\n",
       "ENSGR0000237531.1        0.0        0.0        0.0        0.0        0.0   \n",
       "ENSGR0000237801.1        0.0        0.0        0.0        0.0        0.0   \n",
       "ENSGR0000248421.1        0.0        0.0        0.0        0.0        0.0   \n",
       "ENSGR0000249358.1        0.0        0.0        0.0        0.0        0.0   \n",
       "ENSGR0000270726.1        0.0        0.0        0.0        0.0        0.0   \n",
       "\n",
       "                      ...      T72_CT_G10  T72_CT_G11  T72_CT_H01  T72_CT_H03  \\\n",
       "ENSGR0000237531.1     ...             0.0         0.0         0.0         0.0   \n",
       "ENSGR0000237801.1     ...             0.0         0.0         0.0         0.0   \n",
       "ENSGR0000248421.1     ...             0.0         0.0         0.0         0.0   \n",
       "ENSGR0000249358.1     ...             0.0         0.0         0.0         0.0   \n",
       "ENSGR0000270726.1     ...             0.0         0.0         0.0         0.0   \n",
       "\n",
       "                   T72_CT_H05  T72_CT_H08  T72_CT_H09  T72_CT_H10  T72_CT_H11  \\\n",
       "ENSGR0000237531.1         0.0         0.0         0.0         0.0         0.0   \n",
       "ENSGR0000237801.1         0.0         0.0         0.0         0.0         0.0   \n",
       "ENSGR0000248421.1         0.0         0.0         0.0         0.0         0.0   \n",
       "ENSGR0000249358.1         0.0         0.0         0.0         0.0         0.0   \n",
       "ENSGR0000270726.1         0.0         0.0         0.0         0.0         0.0   \n",
       "\n",
       "                   T72_CT_H12  \n",
       "ENSGR0000237531.1         0.0  \n",
       "ENSGR0000237801.1         0.0  \n",
       "ENSGR0000248421.1         0.0  \n",
       "ENSGR0000249358.1         0.0  \n",
       "ENSGR0000270726.1         0.0  \n",
       "\n",
       "[5 rows x 271 columns]"
      ]
     },
     "execution_count": 70,
     "metadata": {},
     "output_type": "execute_result"
    }
   ],
   "source": [
    "trapnell2014_expression.tail()"
   ]
  },
  {
   "cell_type": "code",
   "execution_count": 88,
   "metadata": {
    "collapsed": false
   },
   "outputs": [
    {
     "data": {
      "text/html": [
       "<div>\n",
       "<table border=\"1\" class=\"dataframe\">\n",
       "  <thead>\n",
       "    <tr style=\"text-align: right;\">\n",
       "      <th></th>\n",
       "      <th>DIM_1_C12</th>\n",
       "      <th>DIM_1_H6</th>\n",
       "      <th>DIM_2_A5</th>\n",
       "      <th>HIGH_2_E9</th>\n",
       "      <th>HIGH_1_B12</th>\n",
       "      <th>HIGH_2_C11</th>\n",
       "      <th>HIGH_1_G12</th>\n",
       "      <th>DIM_2_D1</th>\n",
       "      <th>HIGH_1_G1</th>\n",
       "      <th>HIGH_1_H11</th>\n",
       "      <th>...</th>\n",
       "      <th>HIGH_2_E4</th>\n",
       "      <th>HIGH_2_D3</th>\n",
       "      <th>HIGH_1_G11</th>\n",
       "      <th>DIM_2_F4</th>\n",
       "      <th>DIM_1_A5</th>\n",
       "      <th>DIM_1_D12</th>\n",
       "      <th>DIM_2_A1</th>\n",
       "      <th>DIM_2_E12</th>\n",
       "      <th>DIM_2_B8</th>\n",
       "      <th>HIGH_1_A5</th>\n",
       "    </tr>\n",
       "    <tr>\n",
       "      <th>0</th>\n",
       "      <th></th>\n",
       "      <th></th>\n",
       "      <th></th>\n",
       "      <th></th>\n",
       "      <th></th>\n",
       "      <th></th>\n",
       "      <th></th>\n",
       "      <th></th>\n",
       "      <th></th>\n",
       "      <th></th>\n",
       "      <th></th>\n",
       "      <th></th>\n",
       "      <th></th>\n",
       "      <th></th>\n",
       "      <th></th>\n",
       "      <th></th>\n",
       "      <th></th>\n",
       "      <th></th>\n",
       "      <th></th>\n",
       "      <th></th>\n",
       "      <th></th>\n",
       "    </tr>\n",
       "  </thead>\n",
       "  <tbody>\n",
       "    <tr>\n",
       "      <th>ENSDARG00000000001</th>\n",
       "      <td>0.000000</td>\n",
       "      <td>0.000000</td>\n",
       "      <td>0.592149</td>\n",
       "      <td>0.0</td>\n",
       "      <td>0.000000</td>\n",
       "      <td>0.0</td>\n",
       "      <td>0.0</td>\n",
       "      <td>2.036273</td>\n",
       "      <td>0.0</td>\n",
       "      <td>0.0</td>\n",
       "      <td>...</td>\n",
       "      <td>0.0</td>\n",
       "      <td>0.371572</td>\n",
       "      <td>0.0</td>\n",
       "      <td>0.000000</td>\n",
       "      <td>0.00000</td>\n",
       "      <td>0.000000</td>\n",
       "      <td>0.000000</td>\n",
       "      <td>0.000000</td>\n",
       "      <td>0.0</td>\n",
       "      <td>0.000000</td>\n",
       "    </tr>\n",
       "    <tr>\n",
       "      <th>ENSDARG00000000002</th>\n",
       "      <td>0.679401</td>\n",
       "      <td>0.000000</td>\n",
       "      <td>0.000000</td>\n",
       "      <td>0.0</td>\n",
       "      <td>0.000000</td>\n",
       "      <td>0.0</td>\n",
       "      <td>0.0</td>\n",
       "      <td>0.000000</td>\n",
       "      <td>0.0</td>\n",
       "      <td>0.0</td>\n",
       "      <td>...</td>\n",
       "      <td>0.0</td>\n",
       "      <td>0.000000</td>\n",
       "      <td>0.0</td>\n",
       "      <td>0.000000</td>\n",
       "      <td>0.00000</td>\n",
       "      <td>0.000000</td>\n",
       "      <td>0.000000</td>\n",
       "      <td>0.655281</td>\n",
       "      <td>0.0</td>\n",
       "      <td>0.000000</td>\n",
       "    </tr>\n",
       "    <tr>\n",
       "      <th>ENSDARG00000000018</th>\n",
       "      <td>0.000000</td>\n",
       "      <td>1.516867</td>\n",
       "      <td>0.000000</td>\n",
       "      <td>0.0</td>\n",
       "      <td>0.000000</td>\n",
       "      <td>0.0</td>\n",
       "      <td>0.0</td>\n",
       "      <td>0.000000</td>\n",
       "      <td>0.0</td>\n",
       "      <td>0.0</td>\n",
       "      <td>...</td>\n",
       "      <td>0.0</td>\n",
       "      <td>0.000000</td>\n",
       "      <td>0.0</td>\n",
       "      <td>2.001289</td>\n",
       "      <td>1.36034</td>\n",
       "      <td>2.181481</td>\n",
       "      <td>1.804201</td>\n",
       "      <td>2.095152</td>\n",
       "      <td>0.0</td>\n",
       "      <td>0.000000</td>\n",
       "    </tr>\n",
       "    <tr>\n",
       "      <th>ENSDARG00000000019</th>\n",
       "      <td>0.000000</td>\n",
       "      <td>0.000000</td>\n",
       "      <td>0.000000</td>\n",
       "      <td>0.0</td>\n",
       "      <td>1.808764</td>\n",
       "      <td>0.0</td>\n",
       "      <td>0.0</td>\n",
       "      <td>0.000000</td>\n",
       "      <td>0.0</td>\n",
       "      <td>0.0</td>\n",
       "      <td>...</td>\n",
       "      <td>0.0</td>\n",
       "      <td>0.000000</td>\n",
       "      <td>0.0</td>\n",
       "      <td>1.674375</td>\n",
       "      <td>0.00000</td>\n",
       "      <td>0.000000</td>\n",
       "      <td>0.000000</td>\n",
       "      <td>0.000000</td>\n",
       "      <td>0.0</td>\n",
       "      <td>2.511579</td>\n",
       "    </tr>\n",
       "    <tr>\n",
       "      <th>ENSDARG00000000068</th>\n",
       "      <td>0.000000</td>\n",
       "      <td>0.000000</td>\n",
       "      <td>0.000000</td>\n",
       "      <td>0.0</td>\n",
       "      <td>0.000000</td>\n",
       "      <td>0.0</td>\n",
       "      <td>0.0</td>\n",
       "      <td>0.000000</td>\n",
       "      <td>0.0</td>\n",
       "      <td>0.0</td>\n",
       "      <td>...</td>\n",
       "      <td>0.0</td>\n",
       "      <td>0.000000</td>\n",
       "      <td>0.0</td>\n",
       "      <td>0.000000</td>\n",
       "      <td>0.00000</td>\n",
       "      <td>0.000000</td>\n",
       "      <td>1.793946</td>\n",
       "      <td>0.000000</td>\n",
       "      <td>0.0</td>\n",
       "      <td>0.000000</td>\n",
       "    </tr>\n",
       "  </tbody>\n",
       "</table>\n",
       "<p>5 rows × 384 columns</p>\n",
       "</div>"
      ],
      "text/plain": [
       "                    DIM_1_C12  DIM_1_H6  DIM_2_A5  HIGH_2_E9  HIGH_1_B12  \\\n",
       "0                                                                          \n",
       "ENSDARG00000000001   0.000000  0.000000  0.592149        0.0    0.000000   \n",
       "ENSDARG00000000002   0.679401  0.000000  0.000000        0.0    0.000000   \n",
       "ENSDARG00000000018   0.000000  1.516867  0.000000        0.0    0.000000   \n",
       "ENSDARG00000000019   0.000000  0.000000  0.000000        0.0    1.808764   \n",
       "ENSDARG00000000068   0.000000  0.000000  0.000000        0.0    0.000000   \n",
       "\n",
       "                    HIGH_2_C11  HIGH_1_G12  DIM_2_D1  HIGH_1_G1  HIGH_1_H11  \\\n",
       "0                                                                             \n",
       "ENSDARG00000000001         0.0         0.0  2.036273        0.0         0.0   \n",
       "ENSDARG00000000002         0.0         0.0  0.000000        0.0         0.0   \n",
       "ENSDARG00000000018         0.0         0.0  0.000000        0.0         0.0   \n",
       "ENSDARG00000000019         0.0         0.0  0.000000        0.0         0.0   \n",
       "ENSDARG00000000068         0.0         0.0  0.000000        0.0         0.0   \n",
       "\n",
       "                      ...      HIGH_2_E4  HIGH_2_D3  HIGH_1_G11  DIM_2_F4  \\\n",
       "0                     ...                                                   \n",
       "ENSDARG00000000001    ...            0.0   0.371572         0.0  0.000000   \n",
       "ENSDARG00000000002    ...            0.0   0.000000         0.0  0.000000   \n",
       "ENSDARG00000000018    ...            0.0   0.000000         0.0  2.001289   \n",
       "ENSDARG00000000019    ...            0.0   0.000000         0.0  1.674375   \n",
       "ENSDARG00000000068    ...            0.0   0.000000         0.0  0.000000   \n",
       "\n",
       "                    DIM_1_A5  DIM_1_D12  DIM_2_A1  DIM_2_E12  DIM_2_B8  \\\n",
       "0                                                                        \n",
       "ENSDARG00000000001   0.00000   0.000000  0.000000   0.000000       0.0   \n",
       "ENSDARG00000000002   0.00000   0.000000  0.000000   0.655281       0.0   \n",
       "ENSDARG00000000018   1.36034   2.181481  1.804201   2.095152       0.0   \n",
       "ENSDARG00000000019   0.00000   0.000000  0.000000   0.000000       0.0   \n",
       "ENSDARG00000000068   0.00000   0.000000  1.793946   0.000000       0.0   \n",
       "\n",
       "                    HIGH_1_A5  \n",
       "0                              \n",
       "ENSDARG00000000001   0.000000  \n",
       "ENSDARG00000000002   0.000000  \n",
       "ENSDARG00000000018   0.000000  \n",
       "ENSDARG00000000019   2.511579  \n",
       "ENSDARG00000000068   0.000000  \n",
       "\n",
       "[5 rows x 384 columns]"
      ]
     },
     "execution_count": 88,
     "metadata": {},
     "output_type": "execute_result"
    }
   ],
   "source": [
    "macaulay2016_expression = np.log10(pd.read_csv('../4._Case_Study/macaulay2016/gene_expression_s.csv', index_col=0)+1)\n",
    "macaulay2016_expression.head()"
   ]
  },
  {
   "cell_type": "code",
   "execution_count": 89,
   "metadata": {
    "collapsed": false
   },
   "outputs": [],
   "source": [
    "ercc_names = [x for x in macaulay2016_expression.index if 'ERCC' in x]"
   ]
  },
  {
   "cell_type": "code",
   "execution_count": 90,
   "metadata": {
    "collapsed": true
   },
   "outputs": [],
   "source": [
    "ercc = macaulay2016_expression.loc[ercc_names]"
   ]
  },
  {
   "cell_type": "code",
   "execution_count": 91,
   "metadata": {
    "collapsed": false
   },
   "outputs": [],
   "source": [
    "macaulay2016_expression_genes = macaulay2016_expression.loc[macaulay2016_expression.index.difference(ercc_names)]"
   ]
  },
  {
   "cell_type": "code",
   "execution_count": 111,
   "metadata": {
    "collapsed": false
   },
   "outputs": [
    {
     "data": {
      "text/plain": [
       "(26724, 384)"
      ]
     },
     "execution_count": 111,
     "metadata": {},
     "output_type": "execute_result"
    }
   ],
   "source": [
    "macaulay2016_expression_genes.shape"
   ]
  },
  {
   "cell_type": "code",
   "execution_count": 112,
   "metadata": {
    "collapsed": true
   },
   "outputs": [],
   "source": [
    "macaulay2016_expression_genes_T = macaulay2016_expression_genes.T"
   ]
  },
  {
   "cell_type": "code",
   "execution_count": null,
   "metadata": {
    "collapsed": true
   },
   "outputs": [],
   "source": []
  },
  {
   "cell_type": "code",
   "execution_count": 92,
   "metadata": {
    "collapsed": false
   },
   "outputs": [
    {
     "data": {
      "text/html": [
       "<div>\n",
       "<table border=\"1\" class=\"dataframe\">\n",
       "  <thead>\n",
       "    <tr style=\"text-align: right;\">\n",
       "      <th></th>\n",
       "      <th>DIM_1_C12</th>\n",
       "      <th>DIM_1_H6</th>\n",
       "      <th>DIM_2_A5</th>\n",
       "      <th>HIGH_2_E9</th>\n",
       "      <th>HIGH_1_B12</th>\n",
       "      <th>HIGH_2_C11</th>\n",
       "      <th>HIGH_1_G12</th>\n",
       "      <th>DIM_2_D1</th>\n",
       "      <th>HIGH_1_G1</th>\n",
       "      <th>HIGH_1_H11</th>\n",
       "      <th>...</th>\n",
       "      <th>HIGH_2_E4</th>\n",
       "      <th>HIGH_2_D3</th>\n",
       "      <th>HIGH_1_G11</th>\n",
       "      <th>DIM_2_F4</th>\n",
       "      <th>DIM_1_A5</th>\n",
       "      <th>DIM_1_D12</th>\n",
       "      <th>DIM_2_A1</th>\n",
       "      <th>DIM_2_E12</th>\n",
       "      <th>DIM_2_B8</th>\n",
       "      <th>HIGH_1_A5</th>\n",
       "    </tr>\n",
       "    <tr>\n",
       "      <th>0</th>\n",
       "      <th></th>\n",
       "      <th></th>\n",
       "      <th></th>\n",
       "      <th></th>\n",
       "      <th></th>\n",
       "      <th></th>\n",
       "      <th></th>\n",
       "      <th></th>\n",
       "      <th></th>\n",
       "      <th></th>\n",
       "      <th></th>\n",
       "      <th></th>\n",
       "      <th></th>\n",
       "      <th></th>\n",
       "      <th></th>\n",
       "      <th></th>\n",
       "      <th></th>\n",
       "      <th></th>\n",
       "      <th></th>\n",
       "      <th></th>\n",
       "      <th></th>\n",
       "    </tr>\n",
       "  </thead>\n",
       "  <tbody>\n",
       "    <tr>\n",
       "      <th>ENSDARG00000000001</th>\n",
       "      <td>0.000000</td>\n",
       "      <td>0.000000</td>\n",
       "      <td>0.592149</td>\n",
       "      <td>0.0</td>\n",
       "      <td>0.000000</td>\n",
       "      <td>0.0</td>\n",
       "      <td>0.0</td>\n",
       "      <td>2.036273</td>\n",
       "      <td>0.0</td>\n",
       "      <td>0.0</td>\n",
       "      <td>...</td>\n",
       "      <td>0.0</td>\n",
       "      <td>0.371572</td>\n",
       "      <td>0.0</td>\n",
       "      <td>0.000000</td>\n",
       "      <td>0.00000</td>\n",
       "      <td>0.000000</td>\n",
       "      <td>0.000000</td>\n",
       "      <td>0.000000</td>\n",
       "      <td>0.0</td>\n",
       "      <td>0.000000</td>\n",
       "    </tr>\n",
       "    <tr>\n",
       "      <th>ENSDARG00000000002</th>\n",
       "      <td>0.679401</td>\n",
       "      <td>0.000000</td>\n",
       "      <td>0.000000</td>\n",
       "      <td>0.0</td>\n",
       "      <td>0.000000</td>\n",
       "      <td>0.0</td>\n",
       "      <td>0.0</td>\n",
       "      <td>0.000000</td>\n",
       "      <td>0.0</td>\n",
       "      <td>0.0</td>\n",
       "      <td>...</td>\n",
       "      <td>0.0</td>\n",
       "      <td>0.000000</td>\n",
       "      <td>0.0</td>\n",
       "      <td>0.000000</td>\n",
       "      <td>0.00000</td>\n",
       "      <td>0.000000</td>\n",
       "      <td>0.000000</td>\n",
       "      <td>0.655281</td>\n",
       "      <td>0.0</td>\n",
       "      <td>0.000000</td>\n",
       "    </tr>\n",
       "    <tr>\n",
       "      <th>ENSDARG00000000018</th>\n",
       "      <td>0.000000</td>\n",
       "      <td>1.516867</td>\n",
       "      <td>0.000000</td>\n",
       "      <td>0.0</td>\n",
       "      <td>0.000000</td>\n",
       "      <td>0.0</td>\n",
       "      <td>0.0</td>\n",
       "      <td>0.000000</td>\n",
       "      <td>0.0</td>\n",
       "      <td>0.0</td>\n",
       "      <td>...</td>\n",
       "      <td>0.0</td>\n",
       "      <td>0.000000</td>\n",
       "      <td>0.0</td>\n",
       "      <td>2.001289</td>\n",
       "      <td>1.36034</td>\n",
       "      <td>2.181481</td>\n",
       "      <td>1.804201</td>\n",
       "      <td>2.095152</td>\n",
       "      <td>0.0</td>\n",
       "      <td>0.000000</td>\n",
       "    </tr>\n",
       "    <tr>\n",
       "      <th>ENSDARG00000000019</th>\n",
       "      <td>0.000000</td>\n",
       "      <td>0.000000</td>\n",
       "      <td>0.000000</td>\n",
       "      <td>0.0</td>\n",
       "      <td>1.808764</td>\n",
       "      <td>0.0</td>\n",
       "      <td>0.0</td>\n",
       "      <td>0.000000</td>\n",
       "      <td>0.0</td>\n",
       "      <td>0.0</td>\n",
       "      <td>...</td>\n",
       "      <td>0.0</td>\n",
       "      <td>0.000000</td>\n",
       "      <td>0.0</td>\n",
       "      <td>1.674375</td>\n",
       "      <td>0.00000</td>\n",
       "      <td>0.000000</td>\n",
       "      <td>0.000000</td>\n",
       "      <td>0.000000</td>\n",
       "      <td>0.0</td>\n",
       "      <td>2.511579</td>\n",
       "    </tr>\n",
       "    <tr>\n",
       "      <th>ENSDARG00000000068</th>\n",
       "      <td>0.000000</td>\n",
       "      <td>0.000000</td>\n",
       "      <td>0.000000</td>\n",
       "      <td>0.0</td>\n",
       "      <td>0.000000</td>\n",
       "      <td>0.0</td>\n",
       "      <td>0.0</td>\n",
       "      <td>0.000000</td>\n",
       "      <td>0.0</td>\n",
       "      <td>0.0</td>\n",
       "      <td>...</td>\n",
       "      <td>0.0</td>\n",
       "      <td>0.000000</td>\n",
       "      <td>0.0</td>\n",
       "      <td>0.000000</td>\n",
       "      <td>0.00000</td>\n",
       "      <td>0.000000</td>\n",
       "      <td>1.793946</td>\n",
       "      <td>0.000000</td>\n",
       "      <td>0.0</td>\n",
       "      <td>0.000000</td>\n",
       "    </tr>\n",
       "  </tbody>\n",
       "</table>\n",
       "<p>5 rows × 384 columns</p>\n",
       "</div>"
      ],
      "text/plain": [
       "                    DIM_1_C12  DIM_1_H6  DIM_2_A5  HIGH_2_E9  HIGH_1_B12  \\\n",
       "0                                                                          \n",
       "ENSDARG00000000001   0.000000  0.000000  0.592149        0.0    0.000000   \n",
       "ENSDARG00000000002   0.679401  0.000000  0.000000        0.0    0.000000   \n",
       "ENSDARG00000000018   0.000000  1.516867  0.000000        0.0    0.000000   \n",
       "ENSDARG00000000019   0.000000  0.000000  0.000000        0.0    1.808764   \n",
       "ENSDARG00000000068   0.000000  0.000000  0.000000        0.0    0.000000   \n",
       "\n",
       "                    HIGH_2_C11  HIGH_1_G12  DIM_2_D1  HIGH_1_G1  HIGH_1_H11  \\\n",
       "0                                                                             \n",
       "ENSDARG00000000001         0.0         0.0  2.036273        0.0         0.0   \n",
       "ENSDARG00000000002         0.0         0.0  0.000000        0.0         0.0   \n",
       "ENSDARG00000000018         0.0         0.0  0.000000        0.0         0.0   \n",
       "ENSDARG00000000019         0.0         0.0  0.000000        0.0         0.0   \n",
       "ENSDARG00000000068         0.0         0.0  0.000000        0.0         0.0   \n",
       "\n",
       "                      ...      HIGH_2_E4  HIGH_2_D3  HIGH_1_G11  DIM_2_F4  \\\n",
       "0                     ...                                                   \n",
       "ENSDARG00000000001    ...            0.0   0.371572         0.0  0.000000   \n",
       "ENSDARG00000000002    ...            0.0   0.000000         0.0  0.000000   \n",
       "ENSDARG00000000018    ...            0.0   0.000000         0.0  2.001289   \n",
       "ENSDARG00000000019    ...            0.0   0.000000         0.0  1.674375   \n",
       "ENSDARG00000000068    ...            0.0   0.000000         0.0  0.000000   \n",
       "\n",
       "                    DIM_1_A5  DIM_1_D12  DIM_2_A1  DIM_2_E12  DIM_2_B8  \\\n",
       "0                                                                        \n",
       "ENSDARG00000000001   0.00000   0.000000  0.000000   0.000000       0.0   \n",
       "ENSDARG00000000002   0.00000   0.000000  0.000000   0.655281       0.0   \n",
       "ENSDARG00000000018   1.36034   2.181481  1.804201   2.095152       0.0   \n",
       "ENSDARG00000000019   0.00000   0.000000  0.000000   0.000000       0.0   \n",
       "ENSDARG00000000068   0.00000   0.000000  1.793946   0.000000       0.0   \n",
       "\n",
       "                    HIGH_1_A5  \n",
       "0                              \n",
       "ENSDARG00000000001   0.000000  \n",
       "ENSDARG00000000002   0.000000  \n",
       "ENSDARG00000000018   0.000000  \n",
       "ENSDARG00000000019   2.511579  \n",
       "ENSDARG00000000068   0.000000  \n",
       "\n",
       "[5 rows x 384 columns]"
      ]
     },
     "execution_count": 92,
     "metadata": {},
     "output_type": "execute_result"
    }
   ],
   "source": [
    "macaulay2016_expression_genes.head()"
   ]
  },
  {
   "cell_type": "code",
   "execution_count": 93,
   "metadata": {
    "collapsed": true
   },
   "outputs": [],
   "source": [
    "import numpy as np"
   ]
  },
  {
   "cell_type": "code",
   "execution_count": 94,
   "metadata": {
    "collapsed": false
   },
   "outputs": [],
   "source": [
    "expression = macaulay2016_expression_genes"
   ]
  },
  {
   "cell_type": "code",
   "execution_count": 95,
   "metadata": {
    "collapsed": true
   },
   "outputs": [],
   "source": [
    "mean_expression = macaulay2016_expression_genes_T.mean()\n",
    "std_expression = macaulay2016_expression_genes_T.std()"
   ]
  },
  {
   "cell_type": "code",
   "execution_count": 113,
   "metadata": {
    "collapsed": false
   },
   "outputs": [
    {
     "data": {
      "text/plain": [
       "0\n",
       "ENSDARG00000000001     26\n",
       "ENSDARG00000000002      7\n",
       "ENSDARG00000000018    102\n",
       "ENSDARG00000000019     93\n",
       "ENSDARG00000000068     16\n",
       "ENSDARG00000000069    126\n",
       "ENSDARG00000000086    109\n",
       "ENSDARG00000000102     13\n",
       "ENSDARG00000000103     88\n",
       "ENSDARG00000000142     21\n",
       "ENSDARG00000000151     23\n",
       "ENSDARG00000000161      6\n",
       "ENSDARG00000000175      3\n",
       "ENSDARG00000000183     10\n",
       "ENSDARG00000000189     17\n",
       "ENSDARG00000000212      3\n",
       "ENSDARG00000000229      9\n",
       "ENSDARG00000000241     25\n",
       "ENSDARG00000000324     33\n",
       "ENSDARG00000000349      1\n",
       "ENSDARG00000000369      1\n",
       "ENSDARG00000000370     12\n",
       "ENSDARG00000000380      3\n",
       "ENSDARG00000000384     25\n",
       "ENSDARG00000000394    103\n",
       "ENSDARG00000000423     20\n",
       "ENSDARG00000000442      7\n",
       "ENSDARG00000000460      5\n",
       "ENSDARG00000000472      5\n",
       "ENSDARG00000000474      1\n",
       "                     ... \n",
       "ENSDARG00000097952      7\n",
       "ENSDARG00000097954      0\n",
       "ENSDARG00000097959      1\n",
       "ENSDARG00000097961      4\n",
       "ENSDARG00000097964      4\n",
       "ENSDARG00000097975     12\n",
       "ENSDARG00000097979      5\n",
       "ENSDARG00000097986      4\n",
       "ENSDARG00000097988     26\n",
       "ENSDARG00000097991      0\n",
       "ENSDARG00000097993      5\n",
       "ENSDARG00000097997      3\n",
       "ENSDARG00000098004     13\n",
       "ENSDARG00000098009      0\n",
       "ENSDARG00000098010      0\n",
       "ENSDARG00000098012    194\n",
       "ENSDARG00000098017     51\n",
       "ENSDARG00000098019      3\n",
       "ENSDARG00000098021     37\n",
       "ENSDARG00000098024     34\n",
       "ENSDARG00000098026      2\n",
       "ENSDARG00000098027      8\n",
       "ENSDARG00000098029      4\n",
       "ENSDARG00000098031      3\n",
       "ENSDARG00000098032     18\n",
       "ENSDARG00000098036      0\n",
       "ENSDARG00000098040     44\n",
       "ENSDARG00000098043      0\n",
       "ENSDARG00000098051      0\n",
       "GFP                   374\n",
       "dtype: int64"
      ]
     },
     "execution_count": 113,
     "metadata": {},
     "output_type": "execute_result"
    }
   ],
   "source": [
    "(macaulay2016_expression_genes_T > 0).sum()"
   ]
  },
  {
   "cell_type": "code",
   "execution_count": 96,
   "metadata": {
    "collapsed": true
   },
   "outputs": [],
   "source": [
    "mean_ercc = ercc.T.mean()\n",
    "std_ercc = ercc.T.std()"
   ]
  },
  {
   "cell_type": "code",
   "execution_count": 102,
   "metadata": {
    "collapsed": true
   },
   "outputs": [],
   "source": [
    "coefficient_of_variation_expression = np.square(std_expression/mean_expression)\n",
    "cv_ercc = np.square(std_ercc/mean_ercc)"
   ]
  },
  {
   "cell_type": "code",
   "execution_count": 107,
   "metadata": {
    "collapsed": false
   },
   "outputs": [
    {
     "data": {
      "text/plain": [
       "3.3219280948873626"
      ]
     },
     "execution_count": 107,
     "metadata": {},
     "output_type": "execute_result"
    }
   ],
   "source": [
    "np.log(10)/np.log(2)"
   ]
  },
  {
   "cell_type": "code",
   "execution_count": 110,
   "metadata": {
    "collapsed": false
   },
   "outputs": [
    {
     "name": "stderr",
     "output_type": "stream",
     "text": [
      "/Users/olga/anaconda3/envs/single-cell-bioinformatics/lib/python3.5/site-packages/matplotlib/figure.py:1744: UserWarning: This figure includes Axes that are not compatible with tight_layout, so its results might be incorrect.\n",
      "  warnings.warn(\"This figure includes Axes that are not \"\n"
     ]
    },
    {
     "data": {
      "image/png": "[encoded data removed]",
      "text/plain": [
       "<matplotlib.figure.Figure at 0x137246828>"
      ]
     },
     "metadata": {},
     "output_type": "display_data"
    }
   ],
   "source": [
    "fig, ax = plt.subplots(figsize=(4, 3))\n",
    "ax.semilogy(mean_expression, coefficient_of_variation_expression, 'o', alpha=0.25, markeredgewidth=0.5)\n",
    "ax.semilogy(mean_ercc, cv_ercc, 'o', color='Crimson', markeredgewidth=0.5) \n",
    "ax.set(xlabel='Mean expression ($\\log_{10}(TPM+1)$)', ylabel='$CV^2$')\n",
    "sns.despine()"
   ]
  },
  {
   "cell_type": "code",
   "execution_count": 115,
   "metadata": {
    "collapsed": true
   },
   "outputs": [],
   "source": [
    "from sklearn.decomposition import FastICA\n",
    "from sklearn.manifold import TSNE"
   ]
  },
  {
   "cell_type": "code",
   "execution_count": 116,
   "metadata": {
    "collapsed": false
   },
   "outputs": [
    {
     "data": {
      "text/html": [
       "<div>\n",
       "<table border=\"1\" class=\"dataframe\">\n",
       "  <thead>\n",
       "    <tr style=\"text-align: right;\">\n",
       "      <th></th>\n",
       "      <th>DIM_1_C12</th>\n",
       "      <th>DIM_1_H6</th>\n",
       "      <th>DIM_2_A5</th>\n",
       "      <th>HIGH_2_E9</th>\n",
       "      <th>HIGH_1_B12</th>\n",
       "      <th>HIGH_2_C11</th>\n",
       "      <th>HIGH_1_G12</th>\n",
       "      <th>DIM_2_D1</th>\n",
       "      <th>HIGH_1_G1</th>\n",
       "      <th>HIGH_1_H11</th>\n",
       "      <th>...</th>\n",
       "      <th>HIGH_2_E4</th>\n",
       "      <th>HIGH_2_D3</th>\n",
       "      <th>HIGH_1_G11</th>\n",
       "      <th>DIM_2_F4</th>\n",
       "      <th>DIM_1_A5</th>\n",
       "      <th>DIM_1_D12</th>\n",
       "      <th>DIM_2_A1</th>\n",
       "      <th>DIM_2_E12</th>\n",
       "      <th>DIM_2_B8</th>\n",
       "      <th>HIGH_1_A5</th>\n",
       "    </tr>\n",
       "    <tr>\n",
       "      <th>0</th>\n",
       "      <th></th>\n",
       "      <th></th>\n",
       "      <th></th>\n",
       "      <th></th>\n",
       "      <th></th>\n",
       "      <th></th>\n",
       "      <th></th>\n",
       "      <th></th>\n",
       "      <th></th>\n",
       "      <th></th>\n",
       "      <th></th>\n",
       "      <th></th>\n",
       "      <th></th>\n",
       "      <th></th>\n",
       "      <th></th>\n",
       "      <th></th>\n",
       "      <th></th>\n",
       "      <th></th>\n",
       "      <th></th>\n",
       "      <th></th>\n",
       "      <th></th>\n",
       "    </tr>\n",
       "  </thead>\n",
       "  <tbody>\n",
       "    <tr>\n",
       "      <th>ENSDARG00000000001</th>\n",
       "      <td>0.000000</td>\n",
       "      <td>0.000000</td>\n",
       "      <td>0.592149</td>\n",
       "      <td>0.0</td>\n",
       "      <td>0.000000</td>\n",
       "      <td>0.0</td>\n",
       "      <td>0.0</td>\n",
       "      <td>2.036273</td>\n",
       "      <td>0.0</td>\n",
       "      <td>0.0</td>\n",
       "      <td>...</td>\n",
       "      <td>0.0</td>\n",
       "      <td>0.371572</td>\n",
       "      <td>0.0</td>\n",
       "      <td>0.000000</td>\n",
       "      <td>0.00000</td>\n",
       "      <td>0.000000</td>\n",
       "      <td>0.000000</td>\n",
       "      <td>0.000000</td>\n",
       "      <td>0.0</td>\n",
       "      <td>0.000000</td>\n",
       "    </tr>\n",
       "    <tr>\n",
       "      <th>ENSDARG00000000002</th>\n",
       "      <td>0.679401</td>\n",
       "      <td>0.000000</td>\n",
       "      <td>0.000000</td>\n",
       "      <td>0.0</td>\n",
       "      <td>0.000000</td>\n",
       "      <td>0.0</td>\n",
       "      <td>0.0</td>\n",
       "      <td>0.000000</td>\n",
       "      <td>0.0</td>\n",
       "      <td>0.0</td>\n",
       "      <td>...</td>\n",
       "      <td>0.0</td>\n",
       "      <td>0.000000</td>\n",
       "      <td>0.0</td>\n",
       "      <td>0.000000</td>\n",
       "      <td>0.00000</td>\n",
       "      <td>0.000000</td>\n",
       "      <td>0.000000</td>\n",
       "      <td>0.655281</td>\n",
       "      <td>0.0</td>\n",
       "      <td>0.000000</td>\n",
       "    </tr>\n",
       "    <tr>\n",
       "      <th>ENSDARG00000000018</th>\n",
       "      <td>0.000000</td>\n",
       "      <td>1.516867</td>\n",
       "      <td>0.000000</td>\n",
       "      <td>0.0</td>\n",
       "      <td>0.000000</td>\n",
       "      <td>0.0</td>\n",
       "      <td>0.0</td>\n",
       "      <td>0.000000</td>\n",
       "      <td>0.0</td>\n",
       "      <td>0.0</td>\n",
       "      <td>...</td>\n",
       "      <td>0.0</td>\n",
       "      <td>0.000000</td>\n",
       "      <td>0.0</td>\n",
       "      <td>2.001289</td>\n",
       "      <td>1.36034</td>\n",
       "      <td>2.181481</td>\n",
       "      <td>1.804201</td>\n",
       "      <td>2.095152</td>\n",
       "      <td>0.0</td>\n",
       "      <td>0.000000</td>\n",
       "    </tr>\n",
       "    <tr>\n",
       "      <th>ENSDARG00000000019</th>\n",
       "      <td>0.000000</td>\n",
       "      <td>0.000000</td>\n",
       "      <td>0.000000</td>\n",
       "      <td>0.0</td>\n",
       "      <td>1.808764</td>\n",
       "      <td>0.0</td>\n",
       "      <td>0.0</td>\n",
       "      <td>0.000000</td>\n",
       "      <td>0.0</td>\n",
       "      <td>0.0</td>\n",
       "      <td>...</td>\n",
       "      <td>0.0</td>\n",
       "      <td>0.000000</td>\n",
       "      <td>0.0</td>\n",
       "      <td>1.674375</td>\n",
       "      <td>0.00000</td>\n",
       "      <td>0.000000</td>\n",
       "      <td>0.000000</td>\n",
       "      <td>0.000000</td>\n",
       "      <td>0.0</td>\n",
       "      <td>2.511579</td>\n",
       "    </tr>\n",
       "    <tr>\n",
       "      <th>ENSDARG00000000068</th>\n",
       "      <td>0.000000</td>\n",
       "      <td>0.000000</td>\n",
       "      <td>0.000000</td>\n",
       "      <td>0.0</td>\n",
       "      <td>0.000000</td>\n",
       "      <td>0.0</td>\n",
       "      <td>0.0</td>\n",
       "      <td>0.000000</td>\n",
       "      <td>0.0</td>\n",
       "      <td>0.0</td>\n",
       "      <td>...</td>\n",
       "      <td>0.0</td>\n",
       "      <td>0.000000</td>\n",
       "      <td>0.0</td>\n",
       "      <td>0.000000</td>\n",
       "      <td>0.00000</td>\n",
       "      <td>0.000000</td>\n",
       "      <td>1.793946</td>\n",
       "      <td>0.000000</td>\n",
       "      <td>0.0</td>\n",
       "      <td>0.000000</td>\n",
       "    </tr>\n",
       "  </tbody>\n",
       "</table>\n",
       "<p>5 rows × 384 columns</p>\n",
       "</div>"
      ],
      "text/plain": [
       "                    DIM_1_C12  DIM_1_H6  DIM_2_A5  HIGH_2_E9  HIGH_1_B12  \\\n",
       "0                                                                          \n",
       "ENSDARG00000000001   0.000000  0.000000  0.592149        0.0    0.000000   \n",
       "ENSDARG00000000002   0.679401  0.000000  0.000000        0.0    0.000000   \n",
       "ENSDARG00000000018   0.000000  1.516867  0.000000        0.0    0.000000   \n",
       "ENSDARG00000000019   0.000000  0.000000  0.000000        0.0    1.808764   \n",
       "ENSDARG00000000068   0.000000  0.000000  0.000000        0.0    0.000000   \n",
       "\n",
       "                    HIGH_2_C11  HIGH_1_G12  DIM_2_D1  HIGH_1_G1  HIGH_1_H11  \\\n",
       "0                                                                             \n",
       "ENSDARG00000000001         0.0         0.0  2.036273        0.0         0.0   \n",
       "ENSDARG00000000002         0.0         0.0  0.000000        0.0         0.0   \n",
       "ENSDARG00000000018         0.0         0.0  0.000000        0.0         0.0   \n",
       "ENSDARG00000000019         0.0         0.0  0.000000        0.0         0.0   \n",
       "ENSDARG00000000068         0.0         0.0  0.000000        0.0         0.0   \n",
       "\n",
       "                      ...      HIGH_2_E4  HIGH_2_D3  HIGH_1_G11  DIM_2_F4  \\\n",
       "0                     ...                                                   \n",
       "ENSDARG00000000001    ...            0.0   0.371572         0.0  0.000000   \n",
       "ENSDARG00000000002    ...            0.0   0.000000         0.0  0.000000   \n",
       "ENSDARG00000000018    ...            0.0   0.000000         0.0  2.001289   \n",
       "ENSDARG00000000019    ...            0.0   0.000000         0.0  1.674375   \n",
       "ENSDARG00000000068    ...            0.0   0.000000         0.0  0.000000   \n",
       "\n",
       "                    DIM_1_A5  DIM_1_D12  DIM_2_A1  DIM_2_E12  DIM_2_B8  \\\n",
       "0                                                                        \n",
       "ENSDARG00000000001   0.00000   0.000000  0.000000   0.000000       0.0   \n",
       "ENSDARG00000000002   0.00000   0.000000  0.000000   0.655281       0.0   \n",
       "ENSDARG00000000018   1.36034   2.181481  1.804201   2.095152       0.0   \n",
       "ENSDARG00000000019   0.00000   0.000000  0.000000   0.000000       0.0   \n",
       "ENSDARG00000000068   0.00000   0.000000  1.793946   0.000000       0.0   \n",
       "\n",
       "                    HIGH_1_A5  \n",
       "0                              \n",
       "ENSDARG00000000001   0.000000  \n",
       "ENSDARG00000000002   0.000000  \n",
       "ENSDARG00000000018   0.000000  \n",
       "ENSDARG00000000019   2.511579  \n",
       "ENSDARG00000000068   0.000000  \n",
       "\n",
       "[5 rows x 384 columns]"
      ]
     },
     "execution_count": 116,
     "metadata": {},
     "output_type": "execute_result"
    }
   ],
   "source": [
    "expression.head()"
   ]
  },
  {
   "cell_type": "code",
   "execution_count": 192,
   "metadata": {
    "collapsed": false
   },
   "outputs": [],
   "source": [
    "genes = macaulay2016_expression\n",
    "\n",
    "ercc_idx = filter(lambda i: 'ERCC' in i, macaulay2016_expression.index)\n",
    "egenes = genes.drop(ercc_idx)\n",
    "egenes = egenes.drop('GFP')\n",
    "\n",
    "egenes = (egenes / egenes.sum()) * 1e6\n",
    "\n",
    "mask = (egenes > 1).sum(1) > 2\n",
    "egenes = egenes.ix[mask]\n",
    "original_expression_data = np.log10(egenes.T + 1).copy()\n"
   ]
  },
  {
   "cell_type": "code",
   "execution_count": 123,
   "metadata": {
    "collapsed": true
   },
   "outputs": [],
   "source": [
    "genes_detected_per_cell = (macaulay2016_expression_genes > 0).sum()\n",
    "cells_detected_per_gene = (macaulay2016_expression_genes_T > 0).sum()"
   ]
  },
  {
   "cell_type": "code",
   "execution_count": 172,
   "metadata": {
    "collapsed": false
   },
   "outputs": [
    {
     "data": {
      "text/plain": [
       "<matplotlib.axes._subplots.AxesSubplot at 0x124b36dd8>"
      ]
     },
     "execution_count": 172,
     "metadata": {},
     "output_type": "execute_result"
    },
    {
     "name": "stderr",
     "output_type": "stream",
     "text": [
      "/Users/olga/anaconda3/envs/single-cell-bioinformatics/lib/python3.5/site-packages/matplotlib/figure.py:1744: UserWarning: This figure includes Axes that are not compatible with tight_layout, so its results might be incorrect.\n",
      "  warnings.warn(\"This figure includes Axes that are not \"\n"
     ]
    },
    {
     "data": {
      "image/png": "[encoded data removed]",
      "text/plain": [
       "<matplotlib.figure.Figure at 0x140b0f5c0>"
      ]
     },
     "metadata": {},
     "output_type": "display_data"
    }
   ],
   "source": [
    "fig, ax = plt.subplots(figsize=(30, 3))\n",
    "genes_detected_per_cell.plot(kind='bar')"
   ]
  },
  {
   "cell_type": "code",
   "execution_count": 174,
   "metadata": {
    "collapsed": false
   },
   "outputs": [
    {
     "name": "stderr",
     "output_type": "stream",
     "text": [
      "/Users/olga/anaconda3/envs/single-cell-bioinformatics/lib/python3.5/site-packages/matplotlib/figure.py:1744: UserWarning: This figure includes Axes that are not compatible with tight_layout, so its results might be incorrect.\n",
      "  warnings.warn(\"This figure includes Axes that are not \"\n"
     ]
    },
    {
     "data": {
      "image/png": "[encoded data removed]",
      "text/plain": [
       "<matplotlib.figure.Figure at 0x1416849b0>"
      ]
     },
     "metadata": {},
     "output_type": "display_data"
    }
   ],
   "source": [
    "fig, ax = plt.subplots(figsize=(4, 3))\n",
    "sns.distplot(cells_detected_per_gene, kde=False)\n",
    "ax.set(xlim=(0, 400), xlabel='Number of cells', ylabel='Number of genes')\n",
    "sns.despine()"
   ]
  },
  {
   "cell_type": "code",
   "execution_count": 124,
   "metadata": {
    "collapsed": false
   },
   "outputs": [
    {
     "data": {
      "text/plain": [
       "824"
      ]
     },
     "execution_count": 124,
     "metadata": {},
     "output_type": "execute_result"
    }
   ],
   "source": [
    "genes_detected_per_cell['DIM_1_F12']"
   ]
  },
  {
   "cell_type": "code",
   "execution_count": 138,
   "metadata": {
    "collapsed": true
   },
   "outputs": [],
   "source": [
    "import matplotlib as mpl"
   ]
  },
  {
   "cell_type": "code",
   "execution_count": 184,
   "metadata": {
    "collapsed": false
   },
   "outputs": [
    {
     "name": "stdout",
     "output_type": "stream",
     "text": [
      "Automatic pdb calling has been turned ON\n"
     ]
    }
   ],
   "source": [
    "%pdb"
   ]
  },
  {
   "cell_type": "code",
   "execution_count": 186,
   "metadata": {
    "collapsed": false
   },
   "outputs": [
    {
     "data": {
      "text/plain": [
       "DIM_1_C12     (0.9031141926260556, 0.541853160717908, 0.7649...\n",
       "DIM_1_H6      (0.5543252860798557, 0.6271126712069792, 0.795...\n",
       "DIM_2_A5      (0.6537178214858562, 0.8470895900445826, 0.328...\n",
       "HIGH_2_E9     (0.6537178214858562, 0.8470895900445826, 0.328...\n",
       "HIGH_1_B12    (0.6537178214858562, 0.8470895900445826, 0.328...\n",
       "Name: cluster_color, dtype: object"
      ]
     },
     "execution_count": 186,
     "metadata": {},
     "output_type": "execute_result"
    }
   ],
   "source": [
    "cell_color = macaulay2016.loc[expression.columns, 'cluster_color'].map(\n",
    "    lambda x: eval(x) if isinstance(x, str) else x)\n",
    "cell_color = cell_color.replace('nan', np.nan)\n",
    "cell_color.head()"
   ]
  },
  {
   "cell_type": "code",
   "execution_count": 177,
   "metadata": {
    "collapsed": false
   },
   "outputs": [
    {
     "data": {
      "text/plain": [
       "(384,)"
      ]
     },
     "execution_count": 177,
     "metadata": {},
     "output_type": "execute_result"
    }
   ],
   "source": [
    "cell_color.values.shape"
   ]
  },
  {
   "cell_type": "code",
   "execution_count": 178,
   "metadata": {
    "collapsed": false
   },
   "outputs": [
    {
     "data": {
      "text/plain": [
       "(384,)"
      ]
     },
     "execution_count": 178,
     "metadata": {},
     "output_type": "execute_result"
    }
   ],
   "source": [
    "np.array(cell_color.values).shape"
   ]
  },
  {
   "cell_type": "code",
   "execution_count": 179,
   "metadata": {
    "collapsed": false
   },
   "outputs": [
    {
     "data": {
      "text/plain": [
       "(363, 4)"
      ]
     },
     "execution_count": 179,
     "metadata": {},
     "output_type": "execute_result"
    }
   ],
   "source": [
    "decomposed.shape"
   ]
  },
  {
   "cell_type": "code",
   "execution_count": 180,
   "metadata": {
    "collapsed": false
   },
   "outputs": [
    {
     "data": {
      "text/plain": [
       "array([[-0.04847697, -0.00173413,  0.01822587, -0.02628838],\n",
       "       [ 0.10269672, -0.02140099,  0.11553921, -0.01875994],\n",
       "       [-0.01082733, -0.00962197, -0.00309617,  0.03471913],\n",
       "       ..., \n",
       "       [ 0.11373559, -0.10210957, -0.04135164, -0.04500783],\n",
       "       [-0.04879089, -0.01883438,  0.00392518, -0.04380915],\n",
       "       [-0.01854277, -0.01511132,  0.00177625,  0.03384953]])"
      ]
     },
     "execution_count": 180,
     "metadata": {},
     "output_type": "execute_result"
    }
   ],
   "source": [
    "decomposed"
   ]
  },
  {
   "cell_type": "code",
   "execution_count": 190,
   "metadata": {
    "collapsed": false
   },
   "outputs": [
    {
     "data": {
      "text/html": [
       "<div>\n",
       "<table border=\"1\" class=\"dataframe\">\n",
       "  <thead>\n",
       "    <tr style=\"text-align: right;\">\n",
       "      <th></th>\n",
       "      <th>DIM_1_C12</th>\n",
       "      <th>DIM_1_H6</th>\n",
       "      <th>DIM_2_A5</th>\n",
       "      <th>HIGH_2_E9</th>\n",
       "      <th>HIGH_1_B12</th>\n",
       "      <th>HIGH_2_C11</th>\n",
       "      <th>HIGH_1_G12</th>\n",
       "      <th>DIM_2_D1</th>\n",
       "      <th>HIGH_1_G1</th>\n",
       "      <th>HIGH_1_H11</th>\n",
       "      <th>...</th>\n",
       "      <th>HIGH_2_E4</th>\n",
       "      <th>HIGH_2_D3</th>\n",
       "      <th>HIGH_1_G11</th>\n",
       "      <th>DIM_2_F4</th>\n",
       "      <th>DIM_1_A5</th>\n",
       "      <th>DIM_1_D12</th>\n",
       "      <th>DIM_2_A1</th>\n",
       "      <th>DIM_2_E12</th>\n",
       "      <th>DIM_2_B8</th>\n",
       "      <th>HIGH_1_A5</th>\n",
       "    </tr>\n",
       "    <tr>\n",
       "      <th>0</th>\n",
       "      <th></th>\n",
       "      <th></th>\n",
       "      <th></th>\n",
       "      <th></th>\n",
       "      <th></th>\n",
       "      <th></th>\n",
       "      <th></th>\n",
       "      <th></th>\n",
       "      <th></th>\n",
       "      <th></th>\n",
       "      <th></th>\n",
       "      <th></th>\n",
       "      <th></th>\n",
       "      <th></th>\n",
       "      <th></th>\n",
       "      <th></th>\n",
       "      <th></th>\n",
       "      <th></th>\n",
       "      <th></th>\n",
       "      <th></th>\n",
       "      <th></th>\n",
       "    </tr>\n",
       "  </thead>\n",
       "  <tbody>\n",
       "    <tr>\n",
       "      <th>ENSDARG00000000001</th>\n",
       "      <td>0.000000</td>\n",
       "      <td>0.000000</td>\n",
       "      <td>0.592149</td>\n",
       "      <td>0.0</td>\n",
       "      <td>0.000000</td>\n",
       "      <td>0.0</td>\n",
       "      <td>0.0</td>\n",
       "      <td>2.036273</td>\n",
       "      <td>0.0</td>\n",
       "      <td>0.0</td>\n",
       "      <td>...</td>\n",
       "      <td>0.0</td>\n",
       "      <td>0.371572</td>\n",
       "      <td>0.0</td>\n",
       "      <td>0.000000</td>\n",
       "      <td>0.00000</td>\n",
       "      <td>0.000000</td>\n",
       "      <td>0.000000</td>\n",
       "      <td>0.000000</td>\n",
       "      <td>0.0</td>\n",
       "      <td>0.000000</td>\n",
       "    </tr>\n",
       "    <tr>\n",
       "      <th>ENSDARG00000000002</th>\n",
       "      <td>0.679401</td>\n",
       "      <td>0.000000</td>\n",
       "      <td>0.000000</td>\n",
       "      <td>0.0</td>\n",
       "      <td>0.000000</td>\n",
       "      <td>0.0</td>\n",
       "      <td>0.0</td>\n",
       "      <td>0.000000</td>\n",
       "      <td>0.0</td>\n",
       "      <td>0.0</td>\n",
       "      <td>...</td>\n",
       "      <td>0.0</td>\n",
       "      <td>0.000000</td>\n",
       "      <td>0.0</td>\n",
       "      <td>0.000000</td>\n",
       "      <td>0.00000</td>\n",
       "      <td>0.000000</td>\n",
       "      <td>0.000000</td>\n",
       "      <td>0.655281</td>\n",
       "      <td>0.0</td>\n",
       "      <td>0.000000</td>\n",
       "    </tr>\n",
       "    <tr>\n",
       "      <th>ENSDARG00000000018</th>\n",
       "      <td>0.000000</td>\n",
       "      <td>1.516867</td>\n",
       "      <td>0.000000</td>\n",
       "      <td>0.0</td>\n",
       "      <td>0.000000</td>\n",
       "      <td>0.0</td>\n",
       "      <td>0.0</td>\n",
       "      <td>0.000000</td>\n",
       "      <td>0.0</td>\n",
       "      <td>0.0</td>\n",
       "      <td>...</td>\n",
       "      <td>0.0</td>\n",
       "      <td>0.000000</td>\n",
       "      <td>0.0</td>\n",
       "      <td>2.001289</td>\n",
       "      <td>1.36034</td>\n",
       "      <td>2.181481</td>\n",
       "      <td>1.804201</td>\n",
       "      <td>2.095152</td>\n",
       "      <td>0.0</td>\n",
       "      <td>0.000000</td>\n",
       "    </tr>\n",
       "    <tr>\n",
       "      <th>ENSDARG00000000019</th>\n",
       "      <td>0.000000</td>\n",
       "      <td>0.000000</td>\n",
       "      <td>0.000000</td>\n",
       "      <td>0.0</td>\n",
       "      <td>1.808764</td>\n",
       "      <td>0.0</td>\n",
       "      <td>0.0</td>\n",
       "      <td>0.000000</td>\n",
       "      <td>0.0</td>\n",
       "      <td>0.0</td>\n",
       "      <td>...</td>\n",
       "      <td>0.0</td>\n",
       "      <td>0.000000</td>\n",
       "      <td>0.0</td>\n",
       "      <td>1.674375</td>\n",
       "      <td>0.00000</td>\n",
       "      <td>0.000000</td>\n",
       "      <td>0.000000</td>\n",
       "      <td>0.000000</td>\n",
       "      <td>0.0</td>\n",
       "      <td>2.511579</td>\n",
       "    </tr>\n",
       "    <tr>\n",
       "      <th>ENSDARG00000000068</th>\n",
       "      <td>0.000000</td>\n",
       "      <td>0.000000</td>\n",
       "      <td>0.000000</td>\n",
       "      <td>0.0</td>\n",
       "      <td>0.000000</td>\n",
       "      <td>0.0</td>\n",
       "      <td>0.0</td>\n",
       "      <td>0.000000</td>\n",
       "      <td>0.0</td>\n",
       "      <td>0.0</td>\n",
       "      <td>...</td>\n",
       "      <td>0.0</td>\n",
       "      <td>0.000000</td>\n",
       "      <td>0.0</td>\n",
       "      <td>0.000000</td>\n",
       "      <td>0.00000</td>\n",
       "      <td>0.000000</td>\n",
       "      <td>1.793946</td>\n",
       "      <td>0.000000</td>\n",
       "      <td>0.0</td>\n",
       "      <td>0.000000</td>\n",
       "    </tr>\n",
       "  </tbody>\n",
       "</table>\n",
       "<p>5 rows × 384 columns</p>\n",
       "</div>"
      ],
      "text/plain": [
       "                    DIM_1_C12  DIM_1_H6  DIM_2_A5  HIGH_2_E9  HIGH_1_B12  \\\n",
       "0                                                                          \n",
       "ENSDARG00000000001   0.000000  0.000000  0.592149        0.0    0.000000   \n",
       "ENSDARG00000000002   0.679401  0.000000  0.000000        0.0    0.000000   \n",
       "ENSDARG00000000018   0.000000  1.516867  0.000000        0.0    0.000000   \n",
       "ENSDARG00000000019   0.000000  0.000000  0.000000        0.0    1.808764   \n",
       "ENSDARG00000000068   0.000000  0.000000  0.000000        0.0    0.000000   \n",
       "\n",
       "                    HIGH_2_C11  HIGH_1_G12  DIM_2_D1  HIGH_1_G1  HIGH_1_H11  \\\n",
       "0                                                                             \n",
       "ENSDARG00000000001         0.0         0.0  2.036273        0.0         0.0   \n",
       "ENSDARG00000000002         0.0         0.0  0.000000        0.0         0.0   \n",
       "ENSDARG00000000018         0.0         0.0  0.000000        0.0         0.0   \n",
       "ENSDARG00000000019         0.0         0.0  0.000000        0.0         0.0   \n",
       "ENSDARG00000000068         0.0         0.0  0.000000        0.0         0.0   \n",
       "\n",
       "                      ...      HIGH_2_E4  HIGH_2_D3  HIGH_1_G11  DIM_2_F4  \\\n",
       "0                     ...                                                   \n",
       "ENSDARG00000000001    ...            0.0   0.371572         0.0  0.000000   \n",
       "ENSDARG00000000002    ...            0.0   0.000000         0.0  0.000000   \n",
       "ENSDARG00000000018    ...            0.0   0.000000         0.0  2.001289   \n",
       "ENSDARG00000000019    ...            0.0   0.000000         0.0  1.674375   \n",
       "ENSDARG00000000068    ...            0.0   0.000000         0.0  0.000000   \n",
       "\n",
       "                    DIM_1_A5  DIM_1_D12  DIM_2_A1  DIM_2_E12  DIM_2_B8  \\\n",
       "0                                                                        \n",
       "ENSDARG00000000001   0.00000   0.000000  0.000000   0.000000       0.0   \n",
       "ENSDARG00000000002   0.00000   0.000000  0.000000   0.655281       0.0   \n",
       "ENSDARG00000000018   1.36034   2.181481  1.804201   2.095152       0.0   \n",
       "ENSDARG00000000019   0.00000   0.000000  0.000000   0.000000       0.0   \n",
       "ENSDARG00000000068   0.00000   0.000000  1.793946   0.000000       0.0   \n",
       "\n",
       "                    HIGH_1_A5  \n",
       "0                              \n",
       "ENSDARG00000000001   0.000000  \n",
       "ENSDARG00000000002   0.000000  \n",
       "ENSDARG00000000018   0.000000  \n",
       "ENSDARG00000000019   2.511579  \n",
       "ENSDARG00000000068   0.000000  \n",
       "\n",
       "[5 rows x 384 columns]"
      ]
     },
     "execution_count": 190,
     "metadata": {},
     "output_type": "execute_result"
    }
   ],
   "source": [
    "macaulay2016_expression.head()"
   ]
  },
  {
   "cell_type": "code",
   "execution_count": null,
   "metadata": {
    "collapsed": true
   },
   "outputs": [],
   "source": [
    "ica = decomposition.FastICA(n_components=4, random_state=3984)\n",
    "decomposed = ica.fit_transform(macaulay2016_expression_genes.T)\n",
    "\n",
    "embedder = TSNE(n_components=2, perplexity=75, random_state=254)\n",
    "embedded = pd.DataFrame(embedder.fit_transform(decomposed))"
   ]
  },
  {
   "cell_type": "code",
   "execution_count": 188,
   "metadata": {
    "collapsed": false
   },
   "outputs": [
    {
     "ename": "ValueError",
     "evalue": "to_rgba: Invalid rgba arg \"nan\"\nto_rgb: Invalid rgb arg \"nan\"\ncannot convert argument to rgb sequence",
     "output_type": "error",
     "traceback": [
      "\u001b[0;31m---------------------------------------------------------------------------\u001b[0m",
      "\u001b[0;31mValueError\u001b[0m                                Traceback (most recent call last)",
      "\u001b[0;32m/Users/olga/anaconda3/envs/single-cell-bioinformatics/lib/python3.5/site-packages/matplotlib/colors.py\u001b[0m in \u001b[0;36mto_rgba\u001b[0;34m(self, arg, alpha)\u001b[0m\n\u001b[1;32m    367\u001b[0m                     raise ValueError(\n\u001b[0;32m--> 368\u001b[0;31m                             'length of rgba sequence should be either 3 or 4')\n\u001b[0m\u001b[1;32m    369\u001b[0m             \u001b[0;32melse\u001b[0m\u001b[0;34m:\u001b[0m\u001b[0;34m\u001b[0m\u001b[0m\n",
      "\u001b[0;31mValueError\u001b[0m: length of rgba sequence should be either 3 or 4",
      "\nDuring handling of the above exception, another exception occurred:\n",
      "\u001b[0;31mValueError\u001b[0m                                Traceback (most recent call last)",
      "\u001b[0;32m/Users/olga/anaconda3/envs/single-cell-bioinformatics/lib/python3.5/site-packages/matplotlib/colors.py\u001b[0m in \u001b[0;36mto_rgba_array\u001b[0;34m(self, c, alpha)\u001b[0m\n\u001b[1;32m    398\u001b[0m             \u001b[0;31m# Single value? Put it in an array with a single row.\u001b[0m\u001b[0;34m\u001b[0m\u001b[0;34m\u001b[0m\u001b[0m\n\u001b[0;32m--> 399\u001b[0;31m             \u001b[0;32mreturn\u001b[0m \u001b[0mnp\u001b[0m\u001b[0;34m.\u001b[0m\u001b[0marray\u001b[0m\u001b[0;34m(\u001b[0m\u001b[0;34m[\u001b[0m\u001b[0mself\u001b[0m\u001b[0;34m.\u001b[0m\u001b[0mto_rgba\u001b[0m\u001b[0;34m(\u001b[0m\u001b[0mc\u001b[0m\u001b[0;34m,\u001b[0m \u001b[0malpha\u001b[0m\u001b[0;34m)\u001b[0m\u001b[0;34m]\u001b[0m\u001b[0;34m,\u001b[0m \u001b[0mdtype\u001b[0m\u001b[0;34m=\u001b[0m\u001b[0mnp\u001b[0m\u001b[0;34m.\u001b[0m\u001b[0mfloat\u001b[0m\u001b[0;34m)\u001b[0m\u001b[0;34m\u001b[0m\u001b[0m\n\u001b[0m\u001b[1;32m    400\u001b[0m         \u001b[0;32mexcept\u001b[0m \u001b[0mValueError\u001b[0m\u001b[0;34m:\u001b[0m\u001b[0;34m\u001b[0m\u001b[0m\n",
      "\u001b[0;32m/Users/olga/anaconda3/envs/single-cell-bioinformatics/lib/python3.5/site-packages/matplotlib/colors.py\u001b[0m in \u001b[0;36mto_rgba\u001b[0;34m(self, arg, alpha)\u001b[0m\n\u001b[1;32m    375\u001b[0m             raise ValueError(\n\u001b[0;32m--> 376\u001b[0;31m                 'to_rgba: Invalid rgba arg \"%s\"\\n%s' % (str(arg), exc))\n\u001b[0m\u001b[1;32m    377\u001b[0m \u001b[0;34m\u001b[0m\u001b[0m\n",
      "\u001b[0;31mValueError\u001b[0m: to_rgba: Invalid rgba arg \"DIM_1_C12     (0.9031141926260556, 0.541853160717908, 0.7649...\nDIM_1_H6      (0.5543252860798557, 0.6271126712069792, 0.795...\nDIM_2_A5      (0.6537178214858562, 0.8470895900445826, 0.328...\nHIGH_2_E9     (0.6537178214858562, 0.8470895900445826, 0.328...\nHIGH_1_B12    (0.6537178214858562, 0.8470895900445826, 0.328...\nHIGH_2_C11    (0.6537178214858562, 0.8470895900445826, 0.328...\nHIGH_1_G12    (0.6537178214858562, 0.8470895900445826, 0.328...\nDIM_2_D1      (0.9031141926260556, 0.541853160717908, 0.7649...\nHIGH_1_G1     (0.6537178214858562, 0.8470895900445826, 0.328...\nHIGH_1_H11    (0.6537178214858562, 0.8470895900445826, 0.328...\nDIM_1_F12                                                   NaN\nDIM_2_F11     (0.9031141926260556, 0.541853160717908, 0.7649...\nHIGH_2_D6     (0.6537178214858562, 0.8470895900445826, 0.328...\nHIGH_2_A10    (0.6537178214858562, 0.8470895900445826, 0.328...\nDIM_2_H5      (0.9813148796558381, 0.555386416351094, 0.3874...\nDIM_1_G4      (0.5543252860798557, 0.6271126712069792, 0.795...\nHIGH_2_G7     (0.4000000059604645, 0.7607843279838562, 0.647...\nHIGH_2_H9     (0.6537178214858562, 0.8470895900445826, 0.328...\nDIM_1_F6      (0.5543252860798557, 0.6271126712069792, 0.795...\nHIGH_1_A11    (0.6537178214858562, 0.8470895900445826, 0.328...\nDIM_1_G2      (0.9031141926260556, 0.541853160717908, 0.7649...\nHIGH_1_E9     (0.6537178214858562, 0.8470895900445826, 0.328...\nHIGH_1_F1     (0.6537178214858562, 0.8470895900445826, 0.328...\nHIGH_2_F3     (0.9031141926260556, 0.541853160717908, 0.7649...\nDIM_1_D7      (0.9031141926260556, 0.541853160717908, 0.7649...\nHIGH_1_G3     (0.6537178214858562, 0.8470895900445826, 0.328...\nHIGH_1_A2                                       (0.8, 0.8, 0.8)\nHIGH_2_E12    (0.6537178214858562, 0.8470895900445826, 0.328...\nDIM_2_D8      (0.9031141926260556, 0.541853160717908, 0.7649...\nDIM_2_H12     (0.9813148796558381, 0.555386416351094, 0.3874...\n                                    ...                        \nHIGH_1_B4     (0.6537178214858562, 0.8470895900445826, 0.328...\nDIM_2_C7      (0.4000000059604645, 0.7607843279838562, 0.647...\nDIM_1_A8      (0.9031141926260556, 0.541853160717908, 0.7649...\nDIM_2_F5      (0.9031141926260556, 0.541853160717908, 0.7649...\nDIM_1_D2      (0.9031141926260556, 0.541853160717908, 0.7649...\nDIM_2_D2      (0.9031141926260556, 0.541853160717908, 0.7649...\nHIGH_1_A7     (0.6537178214858562, 0.8470895900445826, 0.328...\nHIGH_1_E8     (0.6537178214858562, 0.8470895900445826, 0.328...\nHIGH_1_F10    (0.6537178214858562, 0.8470895900445826, 0.328...\nHIGH_1_E7     (0.6537178214858562, 0.8470895900445826, 0.328...\nDIM_1_D5      (0.9031141926260556, 0.541853160717908, 0.7649...\nDIM_1_C7      (0.9031141926260556, 0.541853160717908, 0.7649...\nDIM_2_G11     (0.9031141926260556, 0.541853160717908, 0.7649...\nDIM_2_E10     (0.4000000059604645, 0.7607843279838562, 0.647...\nDIM_1_H3      (0.9031141926260556, 0.541853160717908, 0.7649...\nHIGH_1_D4                                                   NaN\nHIGH_1_G5     (0.5543252860798557, 0.6271126712069792, 0.795...\nHIGH_2_A4     (0.6537178214858562, 0.8470895900445826, 0.328...\nDIM_2_C11     (0.4000000059604645, 0.7607843279838562, 0.647...\nHIGH_1_C3     (0.6537178214858562, 0.8470895900445826, 0.328...\nHIGH_2_E4     (0.6537178214858562, 0.8470895900445826, 0.328...\nHIGH_2_D3     (0.6537178214858562, 0.8470895900445826, 0.328...\nHIGH_1_G11    (0.6537178214858562, 0.8470895900445826, 0.328...\nDIM_2_F4      (0.9031141926260556, 0.541853160717908, 0.7649...\nDIM_1_A5      (0.9813148796558381, 0.555386416351094, 0.3874...\nDIM_1_D12     (0.5543252860798557, 0.6271126712069792, 0.795...\nDIM_2_A1      (0.9031141926260556, 0.541853160717908, 0.7649...\nDIM_2_E12     (0.5543252860798557, 0.6271126712069792, 0.795...\nDIM_2_B8      (0.9031141926260556, 0.541853160717908, 0.7649...\nHIGH_1_A5     (0.6537178214858562, 0.8470895900445826, 0.328...\nName: cluster_color, dtype: object\"\nlength of rgba sequence should be either 3 or 4",
      "\nDuring handling of the above exception, another exception occurred:\n",
      "\u001b[0;31mValueError\u001b[0m                                Traceback (most recent call last)",
      "\u001b[0;32m/Users/olga/anaconda3/envs/single-cell-bioinformatics/lib/python3.5/site-packages/matplotlib/colors.py\u001b[0m in \u001b[0;36mto_rgb\u001b[0;34m(self, arg)\u001b[0m\n\u001b[1;32m    321\u001b[0m                 raise ValueError(\n\u001b[0;32m--> 322\u001b[0;31m                     'cannot convert argument to rgb sequence')\n\u001b[0m\u001b[1;32m    323\u001b[0m \u001b[0;34m\u001b[0m\u001b[0m\n",
      "\u001b[0;31mValueError\u001b[0m: cannot convert argument to rgb sequence",
      "\nDuring handling of the above exception, another exception occurred:\n",
      "\u001b[0;31mValueError\u001b[0m                                Traceback (most recent call last)",
      "\u001b[0;32m/Users/olga/anaconda3/envs/single-cell-bioinformatics/lib/python3.5/site-packages/matplotlib/colors.py\u001b[0m in \u001b[0;36mto_rgba\u001b[0;34m(self, arg, alpha)\u001b[0m\n\u001b[1;32m    369\u001b[0m             \u001b[0;32melse\u001b[0m\u001b[0;34m:\u001b[0m\u001b[0;34m\u001b[0m\u001b[0m\n\u001b[0;32m--> 370\u001b[0;31m                 \u001b[0mr\u001b[0m\u001b[0;34m,\u001b[0m \u001b[0mg\u001b[0m\u001b[0;34m,\u001b[0m \u001b[0mb\u001b[0m \u001b[0;34m=\u001b[0m \u001b[0mself\u001b[0m\u001b[0;34m.\u001b[0m\u001b[0mto_rgb\u001b[0m\u001b[0;34m(\u001b[0m\u001b[0marg\u001b[0m\u001b[0;34m)\u001b[0m\u001b[0;34m\u001b[0m\u001b[0m\n\u001b[0m\u001b[1;32m    371\u001b[0m             \u001b[0;32mif\u001b[0m \u001b[0malpha\u001b[0m \u001b[0;32mis\u001b[0m \u001b[0;32mNone\u001b[0m\u001b[0;34m:\u001b[0m\u001b[0;34m\u001b[0m\u001b[0m\n",
      "\u001b[0;32m/Users/olga/anaconda3/envs/single-cell-bioinformatics/lib/python3.5/site-packages/matplotlib/colors.py\u001b[0m in \u001b[0;36mto_rgb\u001b[0;34m(self, arg)\u001b[0m\n\u001b[1;32m    327\u001b[0m             raise ValueError(\n\u001b[0;32m--> 328\u001b[0;31m                 'to_rgb: Invalid rgb arg \"%s\"\\n%s' % (str(arg), exc))\n\u001b[0m\u001b[1;32m    329\u001b[0m             \u001b[0;31m# Error messages could be improved by handling TypeError\u001b[0m\u001b[0;34m\u001b[0m\u001b[0;34m\u001b[0m\u001b[0m\n",
      "\u001b[0;31mValueError\u001b[0m: to_rgb: Invalid rgb arg \"nan\"\ncannot convert argument to rgb sequence",
      "\nDuring handling of the above exception, another exception occurred:\n",
      "\u001b[0;31mValueError\u001b[0m                                Traceback (most recent call last)",
      "\u001b[0;32m<ipython-input-188-9ddd96583ae1>\u001b[0m in \u001b[0;36m<module>\u001b[0;34m()\u001b[0m\n\u001b[1;32m      1\u001b[0m \u001b[0msns\u001b[0m\u001b[0;34m.\u001b[0m\u001b[0mset\u001b[0m\u001b[0;34m(\u001b[0m\u001b[0mstyle\u001b[0m\u001b[0;34m=\u001b[0m\u001b[0;34m'white'\u001b[0m\u001b[0;34m)\u001b[0m\u001b[0;34m\u001b[0m\u001b[0m\n\u001b[1;32m      2\u001b[0m \u001b[0mfig\u001b[0m\u001b[0;34m,\u001b[0m \u001b[0max\u001b[0m \u001b[0;34m=\u001b[0m \u001b[0mplt\u001b[0m\u001b[0;34m.\u001b[0m\u001b[0msubplots\u001b[0m\u001b[0;34m(\u001b[0m\u001b[0mfigsize\u001b[0m\u001b[0;34m=\u001b[0m\u001b[0;34m(\u001b[0m\u001b[0;36m4\u001b[0m\u001b[0;34m,\u001b[0m \u001b[0;36m4\u001b[0m\u001b[0;34m)\u001b[0m\u001b[0;34m)\u001b[0m\u001b[0;34m\u001b[0m\u001b[0m\n\u001b[0;32m----> 3\u001b[0;31m \u001b[0max\u001b[0m\u001b[0;34m.\u001b[0m\u001b[0mscatter\u001b[0m\u001b[0;34m(\u001b[0m\u001b[0membedded\u001b[0m\u001b[0;34m[\u001b[0m\u001b[0;36m0\u001b[0m\u001b[0;34m]\u001b[0m\u001b[0;34m,\u001b[0m \u001b[0membedded\u001b[0m\u001b[0;34m[\u001b[0m\u001b[0;36m1\u001b[0m\u001b[0;34m]\u001b[0m\u001b[0;34m,\u001b[0m \u001b[0mc\u001b[0m\u001b[0;34m=\u001b[0m\u001b[0mcell_color\u001b[0m\u001b[0;34m,\u001b[0m \u001b[0ms\u001b[0m\u001b[0;34m=\u001b[0m\u001b[0;36m40\u001b[0m\u001b[0;34m)\u001b[0m\u001b[0;34m\u001b[0m\u001b[0m\n\u001b[0m\u001b[1;32m      4\u001b[0m \u001b[0;31m# Empty the tick labels\u001b[0m\u001b[0;34m\u001b[0m\u001b[0;34m\u001b[0m\u001b[0m\n\u001b[1;32m      5\u001b[0m \u001b[0max\u001b[0m\u001b[0;34m.\u001b[0m\u001b[0mset\u001b[0m\u001b[0;34m(\u001b[0m\u001b[0mxticks\u001b[0m\u001b[0;34m=\u001b[0m\u001b[0;34m[\u001b[0m\u001b[0;34m]\u001b[0m\u001b[0;34m,\u001b[0m \u001b[0myticks\u001b[0m\u001b[0;34m=\u001b[0m\u001b[0;34m[\u001b[0m\u001b[0;34m]\u001b[0m\u001b[0;34m)\u001b[0m\u001b[0;34m\u001b[0m\u001b[0m\n",
      "\u001b[0;32m/Users/olga/anaconda3/envs/single-cell-bioinformatics/lib/python3.5/site-packages/matplotlib/__init__.py\u001b[0m in \u001b[0;36minner\u001b[0;34m(ax, *args, **kwargs)\u001b[0m\n\u001b[1;32m   1810\u001b[0m                     warnings.warn(msg % (label_namer, func.__name__),\n\u001b[1;32m   1811\u001b[0m                                   RuntimeWarning, stacklevel=2)\n\u001b[0;32m-> 1812\u001b[0;31m             \u001b[0;32mreturn\u001b[0m \u001b[0mfunc\u001b[0m\u001b[0;34m(\u001b[0m\u001b[0max\u001b[0m\u001b[0;34m,\u001b[0m \u001b[0;34m*\u001b[0m\u001b[0margs\u001b[0m\u001b[0;34m,\u001b[0m \u001b[0;34m**\u001b[0m\u001b[0mkwargs\u001b[0m\u001b[0;34m)\u001b[0m\u001b[0;34m\u001b[0m\u001b[0m\n\u001b[0m\u001b[1;32m   1813\u001b[0m         \u001b[0mpre_doc\u001b[0m \u001b[0;34m=\u001b[0m \u001b[0minner\u001b[0m\u001b[0;34m.\u001b[0m\u001b[0m__doc__\u001b[0m\u001b[0;34m\u001b[0m\u001b[0m\n\u001b[1;32m   1814\u001b[0m         \u001b[0;32mif\u001b[0m \u001b[0mpre_doc\u001b[0m \u001b[0;32mis\u001b[0m \u001b[0;32mNone\u001b[0m\u001b[0;34m:\u001b[0m\u001b[0;34m\u001b[0m\u001b[0m\n",
      "\u001b[0;32m/Users/olga/anaconda3/envs/single-cell-bioinformatics/lib/python3.5/site-packages/matplotlib/axes/_axes.py\u001b[0m in \u001b[0;36mscatter\u001b[0;34m(self, x, y, s, c, marker, cmap, norm, vmin, vmax, alpha, linewidths, verts, edgecolors, **kwargs)\u001b[0m\n\u001b[1;32m   3891\u001b[0m                 \u001b[0moffsets\u001b[0m\u001b[0;34m=\u001b[0m\u001b[0moffsets\u001b[0m\u001b[0;34m,\u001b[0m\u001b[0;34m\u001b[0m\u001b[0m\n\u001b[1;32m   3892\u001b[0m                 \u001b[0mtransOffset\u001b[0m\u001b[0;34m=\u001b[0m\u001b[0mkwargs\u001b[0m\u001b[0;34m.\u001b[0m\u001b[0mpop\u001b[0m\u001b[0;34m(\u001b[0m\u001b[0;34m'transform'\u001b[0m\u001b[0;34m,\u001b[0m \u001b[0mself\u001b[0m\u001b[0;34m.\u001b[0m\u001b[0mtransData\u001b[0m\u001b[0;34m)\u001b[0m\u001b[0;34m,\u001b[0m\u001b[0;34m\u001b[0m\u001b[0m\n\u001b[0;32m-> 3893\u001b[0;31m                 \u001b[0malpha\u001b[0m\u001b[0;34m=\u001b[0m\u001b[0malpha\u001b[0m\u001b[0;34m\u001b[0m\u001b[0m\n\u001b[0m\u001b[1;32m   3894\u001b[0m                 )\n\u001b[1;32m   3895\u001b[0m         \u001b[0mcollection\u001b[0m\u001b[0;34m.\u001b[0m\u001b[0mset_transform\u001b[0m\u001b[0;34m(\u001b[0m\u001b[0mmtransforms\u001b[0m\u001b[0;34m.\u001b[0m\u001b[0mIdentityTransform\u001b[0m\u001b[0;34m(\u001b[0m\u001b[0;34m)\u001b[0m\u001b[0;34m)\u001b[0m\u001b[0;34m\u001b[0m\u001b[0m\n",
      "\u001b[0;32m/Users/olga/anaconda3/envs/single-cell-bioinformatics/lib/python3.5/site-packages/matplotlib/collections.py\u001b[0m in \u001b[0;36m__init__\u001b[0;34m(self, paths, sizes, **kwargs)\u001b[0m\n\u001b[1;32m    829\u001b[0m         \"\"\"\n\u001b[1;32m    830\u001b[0m \u001b[0;34m\u001b[0m\u001b[0m\n\u001b[0;32m--> 831\u001b[0;31m         \u001b[0mCollection\u001b[0m\u001b[0;34m.\u001b[0m\u001b[0m__init__\u001b[0m\u001b[0;34m(\u001b[0m\u001b[0mself\u001b[0m\u001b[0;34m,\u001b[0m \u001b[0;34m**\u001b[0m\u001b[0mkwargs\u001b[0m\u001b[0;34m)\u001b[0m\u001b[0;34m\u001b[0m\u001b[0m\n\u001b[0m\u001b[1;32m    832\u001b[0m         \u001b[0mself\u001b[0m\u001b[0;34m.\u001b[0m\u001b[0mset_paths\u001b[0m\u001b[0;34m(\u001b[0m\u001b[0mpaths\u001b[0m\u001b[0;34m)\u001b[0m\u001b[0;34m\u001b[0m\u001b[0m\n\u001b[1;32m    833\u001b[0m         \u001b[0mself\u001b[0m\u001b[0;34m.\u001b[0m\u001b[0mset_sizes\u001b[0m\u001b[0;34m(\u001b[0m\u001b[0msizes\u001b[0m\u001b[0;34m)\u001b[0m\u001b[0;34m\u001b[0m\u001b[0m\n",
      "\u001b[0;32m/Users/olga/anaconda3/envs/single-cell-bioinformatics/lib/python3.5/site-packages/matplotlib/collections.py\u001b[0m in \u001b[0;36m__init__\u001b[0;34m(self, edgecolors, facecolors, linewidths, linestyles, antialiaseds, offsets, transOffset, norm, cmap, pickradius, hatch, urls, offset_position, zorder, **kwargs)\u001b[0m\n\u001b[1;32m    115\u001b[0m \u001b[0;34m\u001b[0m\u001b[0m\n\u001b[1;32m    116\u001b[0m         \u001b[0mself\u001b[0m\u001b[0;34m.\u001b[0m\u001b[0mset_edgecolor\u001b[0m\u001b[0;34m(\u001b[0m\u001b[0medgecolors\u001b[0m\u001b[0;34m)\u001b[0m\u001b[0;34m\u001b[0m\u001b[0m\n\u001b[0;32m--> 117\u001b[0;31m         \u001b[0mself\u001b[0m\u001b[0;34m.\u001b[0m\u001b[0mset_facecolor\u001b[0m\u001b[0;34m(\u001b[0m\u001b[0mfacecolors\u001b[0m\u001b[0;34m)\u001b[0m\u001b[0;34m\u001b[0m\u001b[0m\n\u001b[0m\u001b[1;32m    118\u001b[0m         \u001b[0mself\u001b[0m\u001b[0;34m.\u001b[0m\u001b[0mset_linewidth\u001b[0m\u001b[0;34m(\u001b[0m\u001b[0mlinewidths\u001b[0m\u001b[0;34m)\u001b[0m\u001b[0;34m\u001b[0m\u001b[0m\n\u001b[1;32m    119\u001b[0m         \u001b[0mself\u001b[0m\u001b[0;34m.\u001b[0m\u001b[0mset_linestyle\u001b[0m\u001b[0;34m(\u001b[0m\u001b[0mlinestyles\u001b[0m\u001b[0;34m)\u001b[0m\u001b[0;34m\u001b[0m\u001b[0m\n",
      "\u001b[0;32m/Users/olga/anaconda3/envs/single-cell-bioinformatics/lib/python3.5/site-packages/matplotlib/collections.py\u001b[0m in \u001b[0;36mset_facecolor\u001b[0;34m(self, c)\u001b[0m\n\u001b[1;32m    610\u001b[0m             \u001b[0mc\u001b[0m \u001b[0;34m=\u001b[0m \u001b[0mmpl\u001b[0m\u001b[0;34m.\u001b[0m\u001b[0mrcParams\u001b[0m\u001b[0;34m[\u001b[0m\u001b[0;34m'patch.facecolor'\u001b[0m\u001b[0;34m]\u001b[0m\u001b[0;34m\u001b[0m\u001b[0m\n\u001b[1;32m    611\u001b[0m         \u001b[0mself\u001b[0m\u001b[0;34m.\u001b[0m\u001b[0m_facecolors_original\u001b[0m \u001b[0;34m=\u001b[0m \u001b[0mc\u001b[0m\u001b[0;34m\u001b[0m\u001b[0m\n\u001b[0;32m--> 612\u001b[0;31m         \u001b[0mself\u001b[0m\u001b[0;34m.\u001b[0m\u001b[0m_facecolors\u001b[0m \u001b[0;34m=\u001b[0m \u001b[0mmcolors\u001b[0m\u001b[0;34m.\u001b[0m\u001b[0mcolorConverter\u001b[0m\u001b[0;34m.\u001b[0m\u001b[0mto_rgba_array\u001b[0m\u001b[0;34m(\u001b[0m\u001b[0mc\u001b[0m\u001b[0;34m,\u001b[0m \u001b[0mself\u001b[0m\u001b[0;34m.\u001b[0m\u001b[0m_alpha\u001b[0m\u001b[0;34m)\u001b[0m\u001b[0;34m\u001b[0m\u001b[0m\n\u001b[0m\u001b[1;32m    613\u001b[0m         \u001b[0mself\u001b[0m\u001b[0;34m.\u001b[0m\u001b[0mstale\u001b[0m \u001b[0;34m=\u001b[0m \u001b[0;32mTrue\u001b[0m\u001b[0;34m\u001b[0m\u001b[0m\n\u001b[1;32m    614\u001b[0m \u001b[0;34m\u001b[0m\u001b[0m\n",
      "\u001b[0;32m/Users/olga/anaconda3/envs/single-cell-bioinformatics/lib/python3.5/site-packages/matplotlib/colors.py\u001b[0m in \u001b[0;36mto_rgba_array\u001b[0;34m(self, c, alpha)\u001b[0m\n\u001b[1;32m    420\u001b[0m             \u001b[0mresult\u001b[0m \u001b[0;34m=\u001b[0m \u001b[0mnp\u001b[0m\u001b[0;34m.\u001b[0m\u001b[0mzeros\u001b[0m\u001b[0;34m(\u001b[0m\u001b[0;34m(\u001b[0m\u001b[0mnc\u001b[0m\u001b[0;34m,\u001b[0m \u001b[0;36m4\u001b[0m\u001b[0;34m)\u001b[0m\u001b[0;34m,\u001b[0m \u001b[0mdtype\u001b[0m\u001b[0;34m=\u001b[0m\u001b[0mnp\u001b[0m\u001b[0;34m.\u001b[0m\u001b[0mfloat\u001b[0m\u001b[0;34m)\u001b[0m\u001b[0;34m\u001b[0m\u001b[0m\n\u001b[1;32m    421\u001b[0m             \u001b[0;32mfor\u001b[0m \u001b[0mi\u001b[0m\u001b[0;34m,\u001b[0m \u001b[0mcc\u001b[0m \u001b[0;32min\u001b[0m \u001b[0menumerate\u001b[0m\u001b[0;34m(\u001b[0m\u001b[0mc\u001b[0m\u001b[0;34m)\u001b[0m\u001b[0;34m:\u001b[0m\u001b[0;34m\u001b[0m\u001b[0m\n\u001b[0;32m--> 422\u001b[0;31m                 \u001b[0mresult\u001b[0m\u001b[0;34m[\u001b[0m\u001b[0mi\u001b[0m\u001b[0;34m]\u001b[0m \u001b[0;34m=\u001b[0m \u001b[0mself\u001b[0m\u001b[0;34m.\u001b[0m\u001b[0mto_rgba\u001b[0m\u001b[0;34m(\u001b[0m\u001b[0mcc\u001b[0m\u001b[0;34m,\u001b[0m \u001b[0malpha\u001b[0m\u001b[0;34m)\u001b[0m\u001b[0;34m\u001b[0m\u001b[0m\n\u001b[0m\u001b[1;32m    423\u001b[0m             \u001b[0;32mreturn\u001b[0m \u001b[0mresult\u001b[0m\u001b[0;34m\u001b[0m\u001b[0m\n\u001b[1;32m    424\u001b[0m \u001b[0;34m\u001b[0m\u001b[0m\n",
      "\u001b[0;32m/Users/olga/anaconda3/envs/single-cell-bioinformatics/lib/python3.5/site-packages/matplotlib/colors.py\u001b[0m in \u001b[0;36mto_rgba\u001b[0;34m(self, arg, alpha)\u001b[0m\n\u001b[1;32m    374\u001b[0m         \u001b[0;32mexcept\u001b[0m \u001b[0;34m(\u001b[0m\u001b[0mTypeError\u001b[0m\u001b[0;34m,\u001b[0m \u001b[0mValueError\u001b[0m\u001b[0;34m)\u001b[0m \u001b[0;32mas\u001b[0m \u001b[0mexc\u001b[0m\u001b[0;34m:\u001b[0m\u001b[0;34m\u001b[0m\u001b[0m\n\u001b[1;32m    375\u001b[0m             raise ValueError(\n\u001b[0;32m--> 376\u001b[0;31m                 'to_rgba: Invalid rgba arg \"%s\"\\n%s' % (str(arg), exc))\n\u001b[0m\u001b[1;32m    377\u001b[0m \u001b[0;34m\u001b[0m\u001b[0m\n\u001b[1;32m    378\u001b[0m     \u001b[0;32mdef\u001b[0m \u001b[0mto_rgba_array\u001b[0m\u001b[0;34m(\u001b[0m\u001b[0mself\u001b[0m\u001b[0;34m,\u001b[0m \u001b[0mc\u001b[0m\u001b[0;34m,\u001b[0m \u001b[0malpha\u001b[0m\u001b[0;34m=\u001b[0m\u001b[0;32mNone\u001b[0m\u001b[0;34m)\u001b[0m\u001b[0;34m:\u001b[0m\u001b[0;34m\u001b[0m\u001b[0m\n",
      "\u001b[0;31mValueError\u001b[0m: to_rgba: Invalid rgba arg \"nan\"\nto_rgb: Invalid rgb arg \"nan\"\ncannot convert argument to rgb sequence"
     ]
    },
    {
     "name": "stdout",
     "output_type": "stream",
     "text": [
      "> \u001b[0;32m/Users/olga/anaconda3/envs/single-cell-bioinformatics/lib/python3.5/site-packages/matplotlib/colors.py\u001b[0m(376)\u001b[0;36mto_rgba\u001b[0;34m()\u001b[0m\n",
      "\u001b[0;32m    374 \u001b[0;31m        \u001b[0;32mexcept\u001b[0m \u001b[0;34m(\u001b[0m\u001b[0mTypeError\u001b[0m\u001b[0;34m,\u001b[0m \u001b[0mValueError\u001b[0m\u001b[0;34m)\u001b[0m \u001b[0;32mas\u001b[0m \u001b[0mexc\u001b[0m\u001b[0;34m:\u001b[0m\u001b[0;34m\u001b[0m\u001b[0m\n",
      "\u001b[0m\u001b[0;32m    375 \u001b[0;31m            raise ValueError(\n",
      "\u001b[0m\u001b[0;32m--> 376 \u001b[0;31m                'to_rgba: Invalid rgba arg \"%s\"\\n%s' % (str(arg), exc))\n",
      "\u001b[0m\u001b[0;32m    377 \u001b[0;31m\u001b[0;34m\u001b[0m\u001b[0m\n",
      "\u001b[0m\u001b[0;32m    378 \u001b[0;31m    \u001b[0;32mdef\u001b[0m \u001b[0mto_rgba_array\u001b[0m\u001b[0;34m(\u001b[0m\u001b[0mself\u001b[0m\u001b[0;34m,\u001b[0m \u001b[0mc\u001b[0m\u001b[0;34m,\u001b[0m \u001b[0malpha\u001b[0m\u001b[0;34m=\u001b[0m\u001b[0;32mNone\u001b[0m\u001b[0;34m)\u001b[0m\u001b[0;34m:\u001b[0m\u001b[0;34m\u001b[0m\u001b[0m\n",
      "\u001b[0m\n",
      "\u0001\u0002ipdb> \u0001\u0002q\n"
     ]
    },
    {
     "name": "stderr",
     "output_type": "stream",
     "text": [
      "/Users/olga/anaconda3/envs/single-cell-bioinformatics/lib/python3.5/site-packages/matplotlib/figure.py:1744: UserWarning: This figure includes Axes that are not compatible with tight_layout, so its results might be incorrect.\n",
      "  warnings.warn(\"This figure includes Axes that are not \"\n"
     ]
    },
    {
     "data": {
      "image/png": "[encoded data removed]",
      "text/plain": [
       "<matplotlib.figure.Figure at 0x14284eda0>"
      ]
     },
     "metadata": {},
     "output_type": "display_data"
    }
   ],
   "source": [
    "sns.set(style='white') \n",
    "fig, ax = plt.subplots(figsize=(4, 4))\n",
    "ax.scatter(embedded[0], embedded[1], c=cell_color, s=40)\n",
    "# Empty the tick labels\n",
    "ax.set(xticks=[], yticks=[])\n",
    "sns.despine(bottom=True, left=True, ax=ax)\n",
    "fig.tight_layout()"
   ]
  },
  {
   "cell_type": "code",
   "execution_count": 166,
   "metadata": {
    "collapsed": false
   },
   "outputs": [
    {
     "data": {
      "text/html": [
       "<div>\n",
       "<table border=\"1\" class=\"dataframe\">\n",
       "  <thead>\n",
       "    <tr style=\"text-align: right;\">\n",
       "      <th></th>\n",
       "      <th>DIM_1_C12</th>\n",
       "      <th>DIM_1_H6</th>\n",
       "      <th>DIM_2_A5</th>\n",
       "      <th>HIGH_2_E9</th>\n",
       "      <th>HIGH_1_B12</th>\n",
       "      <th>HIGH_2_C11</th>\n",
       "      <th>HIGH_1_G12</th>\n",
       "      <th>DIM_2_D1</th>\n",
       "      <th>HIGH_1_G1</th>\n",
       "      <th>HIGH_1_H11</th>\n",
       "      <th>...</th>\n",
       "      <th>HIGH_2_E4</th>\n",
       "      <th>HIGH_2_D3</th>\n",
       "      <th>HIGH_1_G11</th>\n",
       "      <th>DIM_2_F4</th>\n",
       "      <th>DIM_1_A5</th>\n",
       "      <th>DIM_1_D12</th>\n",
       "      <th>DIM_2_A1</th>\n",
       "      <th>DIM_2_E12</th>\n",
       "      <th>DIM_2_B8</th>\n",
       "      <th>HIGH_1_A5</th>\n",
       "    </tr>\n",
       "    <tr>\n",
       "      <th>0</th>\n",
       "      <th></th>\n",
       "      <th></th>\n",
       "      <th></th>\n",
       "      <th></th>\n",
       "      <th></th>\n",
       "      <th></th>\n",
       "      <th></th>\n",
       "      <th></th>\n",
       "      <th></th>\n",
       "      <th></th>\n",
       "      <th></th>\n",
       "      <th></th>\n",
       "      <th></th>\n",
       "      <th></th>\n",
       "      <th></th>\n",
       "      <th></th>\n",
       "      <th></th>\n",
       "      <th></th>\n",
       "      <th></th>\n",
       "      <th></th>\n",
       "      <th></th>\n",
       "    </tr>\n",
       "  </thead>\n",
       "  <tbody>\n",
       "    <tr>\n",
       "      <th>ENSDARG00000000001</th>\n",
       "      <td>0.000000</td>\n",
       "      <td>0.000000</td>\n",
       "      <td>0.592149</td>\n",
       "      <td>0.0</td>\n",
       "      <td>0.000000</td>\n",
       "      <td>0.0</td>\n",
       "      <td>0.0</td>\n",
       "      <td>2.036273</td>\n",
       "      <td>0.0</td>\n",
       "      <td>0.0</td>\n",
       "      <td>...</td>\n",
       "      <td>0.0</td>\n",
       "      <td>0.371572</td>\n",
       "      <td>0.0</td>\n",
       "      <td>0.000000</td>\n",
       "      <td>0.00000</td>\n",
       "      <td>0.000000</td>\n",
       "      <td>0.000000</td>\n",
       "      <td>0.000000</td>\n",
       "      <td>0.0</td>\n",
       "      <td>0.000000</td>\n",
       "    </tr>\n",
       "    <tr>\n",
       "      <th>ENSDARG00000000002</th>\n",
       "      <td>0.679401</td>\n",
       "      <td>0.000000</td>\n",
       "      <td>0.000000</td>\n",
       "      <td>0.0</td>\n",
       "      <td>0.000000</td>\n",
       "      <td>0.0</td>\n",
       "      <td>0.0</td>\n",
       "      <td>0.000000</td>\n",
       "      <td>0.0</td>\n",
       "      <td>0.0</td>\n",
       "      <td>...</td>\n",
       "      <td>0.0</td>\n",
       "      <td>0.000000</td>\n",
       "      <td>0.0</td>\n",
       "      <td>0.000000</td>\n",
       "      <td>0.00000</td>\n",
       "      <td>0.000000</td>\n",
       "      <td>0.000000</td>\n",
       "      <td>0.655281</td>\n",
       "      <td>0.0</td>\n",
       "      <td>0.000000</td>\n",
       "    </tr>\n",
       "    <tr>\n",
       "      <th>ENSDARG00000000018</th>\n",
       "      <td>0.000000</td>\n",
       "      <td>1.516867</td>\n",
       "      <td>0.000000</td>\n",
       "      <td>0.0</td>\n",
       "      <td>0.000000</td>\n",
       "      <td>0.0</td>\n",
       "      <td>0.0</td>\n",
       "      <td>0.000000</td>\n",
       "      <td>0.0</td>\n",
       "      <td>0.0</td>\n",
       "      <td>...</td>\n",
       "      <td>0.0</td>\n",
       "      <td>0.000000</td>\n",
       "      <td>0.0</td>\n",
       "      <td>2.001289</td>\n",
       "      <td>1.36034</td>\n",
       "      <td>2.181481</td>\n",
       "      <td>1.804201</td>\n",
       "      <td>2.095152</td>\n",
       "      <td>0.0</td>\n",
       "      <td>0.000000</td>\n",
       "    </tr>\n",
       "    <tr>\n",
       "      <th>ENSDARG00000000019</th>\n",
       "      <td>0.000000</td>\n",
       "      <td>0.000000</td>\n",
       "      <td>0.000000</td>\n",
       "      <td>0.0</td>\n",
       "      <td>1.808764</td>\n",
       "      <td>0.0</td>\n",
       "      <td>0.0</td>\n",
       "      <td>0.000000</td>\n",
       "      <td>0.0</td>\n",
       "      <td>0.0</td>\n",
       "      <td>...</td>\n",
       "      <td>0.0</td>\n",
       "      <td>0.000000</td>\n",
       "      <td>0.0</td>\n",
       "      <td>1.674375</td>\n",
       "      <td>0.00000</td>\n",
       "      <td>0.000000</td>\n",
       "      <td>0.000000</td>\n",
       "      <td>0.000000</td>\n",
       "      <td>0.0</td>\n",
       "      <td>2.511579</td>\n",
       "    </tr>\n",
       "    <tr>\n",
       "      <th>ENSDARG00000000068</th>\n",
       "      <td>0.000000</td>\n",
       "      <td>0.000000</td>\n",
       "      <td>0.000000</td>\n",
       "      <td>0.0</td>\n",
       "      <td>0.000000</td>\n",
       "      <td>0.0</td>\n",
       "      <td>0.0</td>\n",
       "      <td>0.000000</td>\n",
       "      <td>0.0</td>\n",
       "      <td>0.0</td>\n",
       "      <td>...</td>\n",
       "      <td>0.0</td>\n",
       "      <td>0.000000</td>\n",
       "      <td>0.0</td>\n",
       "      <td>0.000000</td>\n",
       "      <td>0.00000</td>\n",
       "      <td>0.000000</td>\n",
       "      <td>1.793946</td>\n",
       "      <td>0.000000</td>\n",
       "      <td>0.0</td>\n",
       "      <td>0.000000</td>\n",
       "    </tr>\n",
       "  </tbody>\n",
       "</table>\n",
       "<p>5 rows × 384 columns</p>\n",
       "</div>"
      ],
      "text/plain": [
       "                    DIM_1_C12  DIM_1_H6  DIM_2_A5  HIGH_2_E9  HIGH_1_B12  \\\n",
       "0                                                                          \n",
       "ENSDARG00000000001   0.000000  0.000000  0.592149        0.0    0.000000   \n",
       "ENSDARG00000000002   0.679401  0.000000  0.000000        0.0    0.000000   \n",
       "ENSDARG00000000018   0.000000  1.516867  0.000000        0.0    0.000000   \n",
       "ENSDARG00000000019   0.000000  0.000000  0.000000        0.0    1.808764   \n",
       "ENSDARG00000000068   0.000000  0.000000  0.000000        0.0    0.000000   \n",
       "\n",
       "                    HIGH_2_C11  HIGH_1_G12  DIM_2_D1  HIGH_1_G1  HIGH_1_H11  \\\n",
       "0                                                                             \n",
       "ENSDARG00000000001         0.0         0.0  2.036273        0.0         0.0   \n",
       "ENSDARG00000000002         0.0         0.0  0.000000        0.0         0.0   \n",
       "ENSDARG00000000018         0.0         0.0  0.000000        0.0         0.0   \n",
       "ENSDARG00000000019         0.0         0.0  0.000000        0.0         0.0   \n",
       "ENSDARG00000000068         0.0         0.0  0.000000        0.0         0.0   \n",
       "\n",
       "                      ...      HIGH_2_E4  HIGH_2_D3  HIGH_1_G11  DIM_2_F4  \\\n",
       "0                     ...                                                   \n",
       "ENSDARG00000000001    ...            0.0   0.371572         0.0  0.000000   \n",
       "ENSDARG00000000002    ...            0.0   0.000000         0.0  0.000000   \n",
       "ENSDARG00000000018    ...            0.0   0.000000         0.0  2.001289   \n",
       "ENSDARG00000000019    ...            0.0   0.000000         0.0  1.674375   \n",
       "ENSDARG00000000068    ...            0.0   0.000000         0.0  0.000000   \n",
       "\n",
       "                    DIM_1_A5  DIM_1_D12  DIM_2_A1  DIM_2_E12  DIM_2_B8  \\\n",
       "0                                                                        \n",
       "ENSDARG00000000001   0.00000   0.000000  0.000000   0.000000       0.0   \n",
       "ENSDARG00000000002   0.00000   0.000000  0.000000   0.655281       0.0   \n",
       "ENSDARG00000000018   1.36034   2.181481  1.804201   2.095152       0.0   \n",
       "ENSDARG00000000019   0.00000   0.000000  0.000000   0.000000       0.0   \n",
       "ENSDARG00000000068   0.00000   0.000000  1.793946   0.000000       0.0   \n",
       "\n",
       "                    HIGH_1_A5  \n",
       "0                              \n",
       "ENSDARG00000000001   0.000000  \n",
       "ENSDARG00000000002   0.000000  \n",
       "ENSDARG00000000018   0.000000  \n",
       "ENSDARG00000000019   2.511579  \n",
       "ENSDARG00000000068   0.000000  \n",
       "\n",
       "[5 rows x 384 columns]"
      ]
     },
     "execution_count": 166,
     "metadata": {},
     "output_type": "execute_result"
    }
   ],
   "source": [
    "macaulay2016_expression.head()"
   ]
  },
  {
   "cell_type": "code",
   "execution_count": null,
   "metadata": {
    "collapsed": true
   },
   "outputs": [],
   "source": []
  }
 ],
 "metadata": {
  "kernelspec": {
   "display_name": "Python 3",
   "language": "python",
   "name": "python3"
  },
  "language_info": {
   "codemirror_mode": {
    "name": "ipython",
    "version": 3
   },
   "file_extension": ".py",
   "mimetype": "text/x-python",
   "name": "python",
   "nbconvert_exporter": "python",
   "pygments_lexer": "ipython3",
   "version": "3.5.1"
  }
 },
 "nbformat": 4,
 "nbformat_minor": 0
}
