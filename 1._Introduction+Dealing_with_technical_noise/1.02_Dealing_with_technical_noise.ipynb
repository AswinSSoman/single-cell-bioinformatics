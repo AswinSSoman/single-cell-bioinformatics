{
 "cells": [
  {
   "cell_type": "markdown",
   "metadata": {},
   "source": [
    "# Technical noise and artefacts\n",
    "\n",
    "## Single cell quality control\n",
    "\n",
    "Need to simultaneously pick the samples you'll use and the genes you'll use. But the relative quality of the cells also depends on which genes you use to assess that quality, so what's a biologist to do??\n",
    "\n",
    "\n",
    "![](figures/kolodziejczyk2015_fig2A_quality_control.png)\n",
    "Kolodziejczyk et al, Mol Cell (2015)\n",
    "\n",
    "\n",
    "### Samples first\n",
    "\n",
    "Most of the time, the bad cells will be obvious with any metric you use. Here are some examples of metrics you can use for each cell:\n",
    "\n",
    "- GC content of library \n",
    "    - Should be similar to generic transcriptome\n",
    "- Numbers of reads mapped\n",
    "    - Should be in your defined range. For some experiments that's <50,000 reads, for others, that's <1 million reads.\n",
    "- Proportion of reads mapped to mitochondria vs genome \n",
    "    - High mt/genome ratio suggests apoptotic cell\n",
    "- Proportion of reads mapped to spike-ins vs genome\n",
    "    - High spike-in/genome ratio suggests low mRNA content of cell (which may be biologically true or a technical artefact - you decide)\n",
    "    \n",
    "## Normalization"
   ]
  },
  {
   "cell_type": "code",
   "execution_count": null,
   "metadata": {
    "collapsed": true
   },
   "outputs": [],
   "source": []
  }
 ],
 "metadata": {
  "kernelspec": {
   "display_name": "Python 3",
   "language": "python",
   "name": "python3"
  },
  "language_info": {
   "codemirror_mode": {
    "name": "ipython",
    "version": 3
   },
   "file_extension": ".py",
   "mimetype": "text/x-python",
   "name": "python",
   "nbconvert_exporter": "python",
   "pygments_lexer": "ipython3",
   "version": "3.5.1"
  }
 },
 "nbformat": 4,
 "nbformat_minor": 0
}
