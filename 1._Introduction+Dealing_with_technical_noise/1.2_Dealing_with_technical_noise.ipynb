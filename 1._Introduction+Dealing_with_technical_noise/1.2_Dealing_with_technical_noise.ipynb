{
 "cells": [
  {
   "cell_type": "markdown",
   "metadata": {},
   "source": [
    "# Technical noise and artefacts\n",
    "\n",
    "## Single cell quality control\n",
    "\n",
    "Need to simultaneously pick the samples you'll use and the genes you'll use. But the relative quality of the cells also depends on which genes you use to assess that quality, so what's a biologist to do??\n",
    "\n",
    "\n",
    "![](figures/kolodziejczyk2015_fig2A_quality_control.png)\n",
    "Kolodziejczyk et al, Mol Cell (2015)\n",
    "\n",
    "\n",
    "### Samples first\n",
    "\n",
    "Most of the time, the bad cells will be obvious with any metric you use. Here are some examples of metrics you can use for each cell:\n",
    "\n",
    "- Number of cells\n",
    "    - Should be one!\n",
    "    - Can observe this from visual inspection of the microfluidic chip or droplet\n",
    "- GC content of library \n",
    "    - Should be similar to generic transcriptome\n",
    "- Numbers of reads mapped\n",
    "    - Should be in your defined range. For some experiments that's <50,000 reads, for others, that's <1 million reads.\n",
    "- Percentage of reads mapped\n",
    "    - Usually at least 80% mapping to the genome\n",
    "- Proportion of reads mapped to mitochondria vs genome \n",
    "    - High mt/genome ratio suggests apoptotic cell\n",
    "- Proportion of reads mapped to spike-ins vs genome\n",
    "    - High spike-in/genome ratio suggests low mRNA content of cell (which may be biologically true or a technical artefact - you decide)\n",
    "- Proportion of reads mapped to mitochondria vs genome\n",
    "    - High mitochondrial/genome ratio suggests the cell was apoptosing as it was captured\n",
    "    \n"
   ]
  },
  {
   "cell_type": "code",
   "execution_count": 1,
   "metadata": {
    "collapsed": false
   },
   "outputs": [
    {
     "name": "stderr",
     "output_type": "stream",
     "text": [
      "/Users/olga/anaconda3/envs/single-cell-bioinformatics/lib/python3.5/site-packages/matplotlib/__init__.py:872: UserWarning: axes.color_cycle is deprecated and replaced with axes.prop_cycle; please use the latter.\n",
      "  warnings.warn(self.msg_depr % (key, alt_key))\n"
     ]
    },
    {
     "data": {
      "text/html": [
       "<div>\n",
       "<table border=\"1\" class=\"dataframe\">\n",
       "  <thead>\n",
       "    <tr style=\"text-align: right;\">\n",
       "      <th></th>\n",
       "      <th>% Parent</th>\n",
       "      <th>% Total</th>\n",
       "      <th>3'UTR_Exons</th>\n",
       "      <th>488</th>\n",
       "      <th>5'UTR_Exons</th>\n",
       "      <th>561</th>\n",
       "      <th>Average mapped length</th>\n",
       "      <th>CDS_Exons</th>\n",
       "      <th>Cells</th>\n",
       "      <th>ERCC Content</th>\n",
       "      <th>...</th>\n",
       "      <th>molecule_r2</th>\n",
       "      <th>outlier_component</th>\n",
       "      <th>total_molecules</th>\n",
       "      <th>within_large_component</th>\n",
       "      <th>within_small_component</th>\n",
       "      <th>cluster_color</th>\n",
       "      <th>tsne_0</th>\n",
       "      <th>tsne_1</th>\n",
       "      <th>log_488</th>\n",
       "      <th>log_SSC</th>\n",
       "    </tr>\n",
       "    <tr>\n",
       "      <th>Well</th>\n",
       "      <th></th>\n",
       "      <th></th>\n",
       "      <th></th>\n",
       "      <th></th>\n",
       "      <th></th>\n",
       "      <th></th>\n",
       "      <th></th>\n",
       "      <th></th>\n",
       "      <th></th>\n",
       "      <th></th>\n",
       "      <th></th>\n",
       "      <th></th>\n",
       "      <th></th>\n",
       "      <th></th>\n",
       "      <th></th>\n",
       "      <th></th>\n",
       "      <th></th>\n",
       "      <th></th>\n",
       "      <th></th>\n",
       "      <th></th>\n",
       "      <th></th>\n",
       "    </tr>\n",
       "  </thead>\n",
       "  <tbody>\n",
       "    <tr>\n",
       "      <th>DIM_1_A1</th>\n",
       "      <td>NaN</td>\n",
       "      <td>100.00%</td>\n",
       "      <td>615178</td>\n",
       "      <td>80.0</td>\n",
       "      <td>118167</td>\n",
       "      <td>6.0</td>\n",
       "      <td>229.53</td>\n",
       "      <td>1273306</td>\n",
       "      <td>1.0</td>\n",
       "      <td>116339.14620</td>\n",
       "      <td>...</td>\n",
       "      <td>0.849279</td>\n",
       "      <td>-0.119395</td>\n",
       "      <td>2884413.0</td>\n",
       "      <td>0.070390</td>\n",
       "      <td>-0.104144</td>\n",
       "      <td>(0.55432528607985565, 0.62711267120697922, 0.7...</td>\n",
       "      <td>-0.357368</td>\n",
       "      <td>12.650468</td>\n",
       "      <td>1.903090</td>\n",
       "      <td>1.995635</td>\n",
       "    </tr>\n",
       "    <tr>\n",
       "      <th>DIM_1_A10</th>\n",
       "      <td>NaN</td>\n",
       "      <td>100.00%</td>\n",
       "      <td>625664</td>\n",
       "      <td>39.0</td>\n",
       "      <td>99645</td>\n",
       "      <td>1.0</td>\n",
       "      <td>230.31</td>\n",
       "      <td>1032911</td>\n",
       "      <td>1.0</td>\n",
       "      <td>279412.04190</td>\n",
       "      <td>...</td>\n",
       "      <td>0.853730</td>\n",
       "      <td>0.017293</td>\n",
       "      <td>794642.0</td>\n",
       "      <td>0.073285</td>\n",
       "      <td>0.020246</td>\n",
       "      <td>(0.90311419262605563, 0.54185316071790801, 0.7...</td>\n",
       "      <td>-0.001426</td>\n",
       "      <td>6.763604</td>\n",
       "      <td>1.591065</td>\n",
       "      <td>1.579784</td>\n",
       "    </tr>\n",
       "    <tr>\n",
       "      <th>DIM_1_A11</th>\n",
       "      <td>NaN</td>\n",
       "      <td>100.00%</td>\n",
       "      <td>733798</td>\n",
       "      <td>53.0</td>\n",
       "      <td>245374</td>\n",
       "      <td>1.0</td>\n",
       "      <td>230.64</td>\n",
       "      <td>3031565</td>\n",
       "      <td>1.0</td>\n",
       "      <td>24324.44224</td>\n",
       "      <td>...</td>\n",
       "      <td>0.778746</td>\n",
       "      <td>-0.036702</td>\n",
       "      <td>9513110.0</td>\n",
       "      <td>-0.016871</td>\n",
       "      <td>-0.179175</td>\n",
       "      <td>(0.55432528607985565, 0.62711267120697922, 0.7...</td>\n",
       "      <td>-8.698019</td>\n",
       "      <td>8.706809</td>\n",
       "      <td>1.724276</td>\n",
       "      <td>2.206826</td>\n",
       "    </tr>\n",
       "    <tr>\n",
       "      <th>DIM_1_A12</th>\n",
       "      <td>NaN</td>\n",
       "      <td>100.00%</td>\n",
       "      <td>827658</td>\n",
       "      <td>337.0</td>\n",
       "      <td>148061</td>\n",
       "      <td>9.0</td>\n",
       "      <td>230.22</td>\n",
       "      <td>1597099</td>\n",
       "      <td>1.0</td>\n",
       "      <td>186802.23200</td>\n",
       "      <td>...</td>\n",
       "      <td>0.901161</td>\n",
       "      <td>0.034679</td>\n",
       "      <td>1243023.0</td>\n",
       "      <td>0.045065</td>\n",
       "      <td>-0.065027</td>\n",
       "      <td>(0.55432528607985565, 0.62711267120697922, 0.7...</td>\n",
       "      <td>-4.495216</td>\n",
       "      <td>11.184408</td>\n",
       "      <td>2.527630</td>\n",
       "      <td>2.068186</td>\n",
       "    </tr>\n",
       "    <tr>\n",
       "      <th>DIM_1_A2</th>\n",
       "      <td>NaN</td>\n",
       "      <td>100.00%</td>\n",
       "      <td>187244</td>\n",
       "      <td>83.0</td>\n",
       "      <td>38552</td>\n",
       "      <td>5.0</td>\n",
       "      <td>229.60</td>\n",
       "      <td>322876</td>\n",
       "      <td>1.0</td>\n",
       "      <td>251667.90200</td>\n",
       "      <td>...</td>\n",
       "      <td>0.817718</td>\n",
       "      <td>0.072677</td>\n",
       "      <td>902531.0</td>\n",
       "      <td>0.074522</td>\n",
       "      <td>0.049654</td>\n",
       "      <td>(0.90311419262605563, 0.54185316071790801, 0.7...</td>\n",
       "      <td>-1.362267</td>\n",
       "      <td>3.037966</td>\n",
       "      <td>1.919078</td>\n",
       "      <td>1.892095</td>\n",
       "    </tr>\n",
       "  </tbody>\n",
       "</table>\n",
       "<p>5 rows × 49 columns</p>\n",
       "</div>"
      ],
      "text/plain": [
       "           % Parent  % Total  3'UTR_Exons    488  5'UTR_Exons  561  \\\n",
       "Well                                                                 \n",
       "DIM_1_A1        NaN  100.00%       615178   80.0       118167  6.0   \n",
       "DIM_1_A10       NaN  100.00%       625664   39.0        99645  1.0   \n",
       "DIM_1_A11       NaN  100.00%       733798   53.0       245374  1.0   \n",
       "DIM_1_A12       NaN  100.00%       827658  337.0       148061  9.0   \n",
       "DIM_1_A2        NaN  100.00%       187244   83.0        38552  5.0   \n",
       "\n",
       "           Average mapped length  CDS_Exons  Cells  ERCC Content    ...     \\\n",
       "Well                                                                ...      \n",
       "DIM_1_A1                  229.53    1273306    1.0  116339.14620    ...      \n",
       "DIM_1_A10                 230.31    1032911    1.0  279412.04190    ...      \n",
       "DIM_1_A11                 230.64    3031565    1.0   24324.44224    ...      \n",
       "DIM_1_A12                 230.22    1597099    1.0  186802.23200    ...      \n",
       "DIM_1_A2                  229.60     322876    1.0  251667.90200    ...      \n",
       "\n",
       "           molecule_r2  outlier_component  total_molecules  \\\n",
       "Well                                                         \n",
       "DIM_1_A1      0.849279          -0.119395        2884413.0   \n",
       "DIM_1_A10     0.853730           0.017293         794642.0   \n",
       "DIM_1_A11     0.778746          -0.036702        9513110.0   \n",
       "DIM_1_A12     0.901161           0.034679        1243023.0   \n",
       "DIM_1_A2      0.817718           0.072677         902531.0   \n",
       "\n",
       "           within_large_component  within_small_component  \\\n",
       "Well                                                        \n",
       "DIM_1_A1                 0.070390               -0.104144   \n",
       "DIM_1_A10                0.073285                0.020246   \n",
       "DIM_1_A11               -0.016871               -0.179175   \n",
       "DIM_1_A12                0.045065               -0.065027   \n",
       "DIM_1_A2                 0.074522                0.049654   \n",
       "\n",
       "                                               cluster_color    tsne_0  \\\n",
       "Well                                                                     \n",
       "DIM_1_A1   (0.55432528607985565, 0.62711267120697922, 0.7... -0.357368   \n",
       "DIM_1_A10  (0.90311419262605563, 0.54185316071790801, 0.7... -0.001426   \n",
       "DIM_1_A11  (0.55432528607985565, 0.62711267120697922, 0.7... -8.698019   \n",
       "DIM_1_A12  (0.55432528607985565, 0.62711267120697922, 0.7... -4.495216   \n",
       "DIM_1_A2   (0.90311419262605563, 0.54185316071790801, 0.7... -1.362267   \n",
       "\n",
       "              tsne_1   log_488   log_SSC  \n",
       "Well                                      \n",
       "DIM_1_A1   12.650468  1.903090  1.995635  \n",
       "DIM_1_A10   6.763604  1.591065  1.579784  \n",
       "DIM_1_A11   8.706809  1.724276  2.206826  \n",
       "DIM_1_A12  11.184408  2.527630  2.068186  \n",
       "DIM_1_A2    3.037966  1.919078  1.892095  \n",
       "\n",
       "[5 rows x 49 columns]"
      ]
     },
     "execution_count": 1,
     "metadata": {},
     "output_type": "execute_result"
    }
   ],
   "source": [
    "import pandas as pd\n",
    "\n",
    "macaulay2016 = pd.read_csv('../4._Case_Study/supplementary-data-1-sample-info/original_experiment_sample_info.csv', \n",
    "                              index_col=0)\n",
    "macaulay2016.head()"
   ]
  },
  {
   "cell_type": "code",
   "execution_count": 2,
   "metadata": {
    "collapsed": false
   },
   "outputs": [
    {
     "name": "stderr",
     "output_type": "stream",
     "text": [
      "/Users/olga/anaconda3/envs/single-cell-bioinformatics/lib/python3.5/site-packages/IPython/html.py:14: ShimWarning: The `IPython.html` package has been deprecated. You should import from `notebook` instead. `IPython.html.widgets` has moved to `ipywidgets`.\n",
      "  \"`IPython.html.widgets` has moved to `ipywidgets`.\", ShimWarning)\n"
     ]
    },
    {
     "ename": "ImportError",
     "evalue": "No module named 'ipywidgets.widgets.domwidget'",
     "output_type": "error",
     "traceback": [
      "\u001b[0;31m---------------------------------------------------------------------------\u001b[0m",
      "\u001b[0;31mImportError\u001b[0m                               Traceback (most recent call last)",
      "\u001b[0;32m<ipython-input-2-27a999ef76ba>\u001b[0m in \u001b[0;36m<module>\u001b[0;34m()\u001b[0m\n\u001b[1;32m      5\u001b[0m \u001b[0;32mimport\u001b[0m \u001b[0mmatplotlib\u001b[0m\u001b[0;34m.\u001b[0m\u001b[0mpyplot\u001b[0m \u001b[0;32mas\u001b[0m \u001b[0mplt\u001b[0m\u001b[0;34m\u001b[0m\u001b[0m\n\u001b[1;32m      6\u001b[0m \u001b[0;34m\u001b[0m\u001b[0m\n\u001b[0;32m----> 7\u001b[0;31m \u001b[0;32mimport\u001b[0m \u001b[0mipywidgets\u001b[0m\u001b[0;34m\u001b[0m\u001b[0m\n\u001b[0m",
      "\u001b[0;32m/Users/olga/anaconda3/envs/single-cell-bioinformatics/lib/python3.5/site-packages/ipywidgets/__init__.py\u001b[0m in \u001b[0;36m<module>\u001b[0;34m()\u001b[0m\n\u001b[1;32m     20\u001b[0m \u001b[0;32mfrom\u001b[0m \u001b[0mIPython\u001b[0m \u001b[0;32mimport\u001b[0m \u001b[0mget_ipython\u001b[0m\u001b[0;34m\u001b[0m\u001b[0m\n\u001b[1;32m     21\u001b[0m \u001b[0;32mfrom\u001b[0m \u001b[0;34m.\u001b[0m\u001b[0m_version\u001b[0m \u001b[0;32mimport\u001b[0m \u001b[0mversion_info\u001b[0m\u001b[0;34m,\u001b[0m \u001b[0m__version__\u001b[0m\u001b[0;34m,\u001b[0m \u001b[0m__frontend_version__\u001b[0m\u001b[0;34m\u001b[0m\u001b[0m\n\u001b[0;32m---> 22\u001b[0;31m \u001b[0;32mfrom\u001b[0m \u001b[0;34m.\u001b[0m\u001b[0mwidgets\u001b[0m \u001b[0;32mimport\u001b[0m \u001b[0;34m*\u001b[0m\u001b[0;34m\u001b[0m\u001b[0m\n\u001b[0m\u001b[1;32m     23\u001b[0m \u001b[0;34m\u001b[0m\u001b[0m\n\u001b[1;32m     24\u001b[0m \u001b[0;34m\u001b[0m\u001b[0m\n",
      "\u001b[0;32m/Users/olga/anaconda3/envs/single-cell-bioinformatics/lib/python3.5/site-packages/ipywidgets/widgets/__init__.py\u001b[0m in \u001b[0;36m<module>\u001b[0;34m()\u001b[0m\n\u001b[1;32m      1\u001b[0m \u001b[0;32mfrom\u001b[0m \u001b[0;34m.\u001b[0m\u001b[0mwidget\u001b[0m \u001b[0;32mimport\u001b[0m \u001b[0mWidget\u001b[0m\u001b[0;34m,\u001b[0m \u001b[0mCallbackDispatcher\u001b[0m\u001b[0;34m,\u001b[0m \u001b[0mregister\u001b[0m\u001b[0;34m,\u001b[0m \u001b[0mwidget_serialization\u001b[0m\u001b[0;34m,\u001b[0m \u001b[0mhandle_version_comm_opened\u001b[0m\u001b[0;34m\u001b[0m\u001b[0m\n\u001b[0;32m----> 2\u001b[0;31m \u001b[0;32mfrom\u001b[0m \u001b[0;34m.\u001b[0m\u001b[0mdomwidget\u001b[0m \u001b[0;32mimport\u001b[0m \u001b[0mDOMWidget\u001b[0m\u001b[0;34m\u001b[0m\u001b[0m\n\u001b[0m\u001b[1;32m      3\u001b[0m \u001b[0;34m\u001b[0m\u001b[0m\n\u001b[1;32m      4\u001b[0m \u001b[0;32mfrom\u001b[0m \u001b[0;34m.\u001b[0m\u001b[0mtrait_types\u001b[0m \u001b[0;32mimport\u001b[0m \u001b[0mColor\u001b[0m\u001b[0;34m,\u001b[0m \u001b[0mEventfulDict\u001b[0m\u001b[0;34m,\u001b[0m \u001b[0mEventfulList\u001b[0m\u001b[0;34m\u001b[0m\u001b[0m\n\u001b[1;32m      5\u001b[0m \u001b[0;34m\u001b[0m\u001b[0m\n",
      "\u001b[0;31mImportError\u001b[0m: No module named 'ipywidgets.widgets.domwidget'"
     ]
    }
   ],
   "source": [
    "import seaborn as sns\n",
    "sns.set(context='notebook', style='white')\n",
    "%matplotlib inline\n",
    "\n",
    "import matplotlib.pyplot as plt\n",
    "\n",
    "import ipywidgets"
   ]
  },
  {
   "cell_type": "code",
   "execution_count": null,
   "metadata": {
    "collapsed": false
   },
   "outputs": [],
   "source": [
    "from rpy2.robjects import pandas2ri\n",
    "pandas2ri.activate()\n",
    "\n",
    "import rpy2.robjects as robjects\n",
    "import pandas.rpy.common as com\n",
    "print(robjects.r.load(\"/Users/olga/workspace-git/HSMMSingleCell/data/HSMM_sample_sheet.rda\"))\n",
    "\n",
    "trapnell2014 = com.load_data('HSMM_sample_sheet')\n",
    "trapnell2014.head()"
   ]
  },
  {
   "cell_type": "code",
   "execution_count": null,
   "metadata": {
    "collapsed": true
   },
   "outputs": [],
   "source": [
    "robjects.r"
   ]
  },
  {
   "cell_type": "code",
   "execution_count": null,
   "metadata": {
    "collapsed": false
   },
   "outputs": [],
   "source": [
    "robjects.r.load('scRNASeqMouseJaitinSpleen')"
   ]
  },
  {
   "cell_type": "code",
   "execution_count": null,
   "metadata": {
    "collapsed": false
   },
   "outputs": [],
   "source": [
    "mkdir data"
   ]
  },
  {
   "cell_type": "code",
   "execution_count": null,
   "metadata": {
    "collapsed": true
   },
   "outputs": [],
   "source": [
    "trapnell2014.to_csv('data/trapnell2014_metadata.csv')"
   ]
  },
  {
   "cell_type": "code",
   "execution_count": null,
   "metadata": {
    "collapsed": false
   },
   "outputs": [],
   "source": [
    "fig, ax = plt.subplots(figsize=(30, 3))\n",
    "trapnell2014['Mapped.Fragments'].plot(kind='bar')"
   ]
  },
  {
   "cell_type": "code",
   "execution_count": null,
   "metadata": {
    "collapsed": false
   },
   "outputs": [],
   "source": [
    "fig, ax = plt.subplots()\n",
    "ax.set_yscale('log')\n",
    "sns.barplot(y='Mapped.Fragments', x='Media', hue='Hours', data=trapnell2014, ax=ax)\n",
    "sns.despine()"
   ]
  },
  {
   "cell_type": "code",
   "execution_count": null,
   "metadata": {
    "collapsed": true
   },
   "outputs": [],
   "source": [
    "import pandas as pd"
   ]
  },
  {
   "cell_type": "code",
   "execution_count": null,
   "metadata": {
    "collapsed": false
   },
   "outputs": [],
   "source": [
    "shalek2014 = pd.read_excel('/Users/olga/Downloads/nature13437-s3.xls')\n",
    "shalek2014.head()"
   ]
  },
  {
   "cell_type": "code",
   "execution_count": null,
   "metadata": {
    "collapsed": true
   },
   "outputs": [],
   "source": [
    "pd.Series.str.extract"
   ]
  },
  {
   "cell_type": "code",
   "execution_count": null,
   "metadata": {
    "collapsed": false
   },
   "outputs": [],
   "source": [
    "shalek2014['Group'] = shalek2014['Experiment'].str.extract('(\\w+)_S\\d+_rsem')\n",
    "shalek2014.head()"
   ]
  },
  {
   "cell_type": "code",
   "execution_count": null,
   "metadata": {
    "collapsed": false
   },
   "outputs": [],
   "source": [
    "fig, ax = plt.subplots(figsize=(6, 8))\n",
    "# ax.set_yscale('log') \n",
    "sns.barplot(x='Total Reads', y='Group', data=shalek2014, ax=ax, orient='h')\n",
    "sns.despine()"
   ]
  },
  {
   "cell_type": "code",
   "execution_count": null,
   "metadata": {
    "collapsed": false
   },
   "outputs": [],
   "source": [
    "fig, ax = plt.subplots(figsize=(6, 8))\n",
    "# ax.set_yscale('log') \n",
    "sns.barplot(x='Aligned Reads % (Transcriptome)', y='Group', data=shalek2014, ax=ax, orient='h')\n",
    "sns.despine()"
   ]
  },
  {
   "cell_type": "code",
   "execution_count": null,
   "metadata": {
    "collapsed": false
   },
   "outputs": [],
   "source": [
    "fig, ax = plt.subplots(figsize=(6, 8))\n",
    "# ax.set_yscale('log') \n",
    "sns.countplot(y='Group', data=shalek2014, ax=ax, orient='h')\n",
    "sns.despine()\n",
    "ax.set_title(\"Number of cells per group\")"
   ]
  },
  {
   "cell_type": "code",
   "execution_count": null,
   "metadata": {
    "collapsed": true
   },
   "outputs": [],
   "source": [
    "qc_columns = ['MT Content', 'ERCC Content', 'detected_genes', 'total_molecules']\n",
    "\n",
    "\n",
    "macaulay2016.loc['apoptosing_cell', qc_columns] = 200000, 5000, 2000, \n",
    "macaulay2016.loc['low_mrna_content', qc_columns] = 1500, 800000, 2000,\n",
    "macaulay2016.loc['too_few_genes', qc_columns] = 1500, 5000, 500, \n",
    "macaulay2016.loc['too_few_molecules', qc_columns] = 1500, 5000, 500, "
   ]
  },
  {
   "cell_type": "code",
   "execution_count": null,
   "metadata": {
    "collapsed": false
   },
   "outputs": [],
   "source": [
    "def explore_quality_control(x, y, logy):\n",
    "    x = x.lower()\n",
    "    if x == 'batch':\n",
    "        fig, axes = plt.subplots(figsize=(8, 3), ncols=2)\n",
    "        ax = axes[0]\n",
    "        if logy:\n",
    "            ax.set_yscale('log')\n",
    "        sns.boxplot(y=y, x=x, data=macaulay2016, ax=ax, palette='Paired')\n",
    "        ax.set(title=y)\n",
    "        \n",
    "        ax = axes[1]\n",
    "        sns.countplot(x, data=macaulay2016)\n",
    "        ax.set(ylabel=\"Number of cells\", title='Cells per batch')\n",
    "    else:\n",
    "        fig, ax = plt.subplots(figsize=(30, 3))\n",
    "        macaulay2016[y].plot(kind='bar', logy=logy, ax=ax)\n",
    "        ax.set(ylim=(0, macaulay2016[y].max()*1.05), title=y)\n",
    "        \n",
    "    sns.despine()\n",
    "    fig.tight_layout()\n",
    "\n",
    "ipywidgets.interact(explore_quality_control,\n",
    "                    x=ipywidgets.Dropdown(value='Cells', options=['Cells', 'Batch'], description='x-axis'),\n",
    "                    y=ipywidgets.Dropdown(value='MT Content', options=['MT Content', 'ERCC Content', \n",
    "                                                                       'detected_genes', 'total_molecules'],\n",
    "                                          description='y-axis'),\n",
    "                    logy=ipywidgets.Checkbox(value=False, description='Set the y-axis as log10-scale?'));"
   ]
  },
  {
   "cell_type": "markdown",
   "metadata": {},
   "source": [
    "## Normalization"
   ]
  },
  {
   "cell_type": "markdown",
   "metadata": {
    "collapsed": true
   },
   "source": [
    "## Dealing with zeros\n",
    "\n"
   ]
  },
  {
   "cell_type": "code",
   "execution_count": null,
   "metadata": {
    "collapsed": false
   },
   "outputs": [],
   "source": [
    "from rpy2.robjects import pandas2ri\n",
    "pandas2ri.activate()\n",
    "\n",
    "import rpy2.robjects as robjects\n",
    "import pandas.rpy.common as com\n",
    "print(robjects.r.load(\"/Users/olga/workspace-git/HSMMSingleCell/data/HSMM_expr_matrix.rda\"))\n",
    "\n",
    "trapnell2014_expression = com.load_data('HSMM_expr_matrix')\n",
    "trapnell2014_expression.head()"
   ]
  },
  {
   "cell_type": "code",
   "execution_count": null,
   "metadata": {
    "collapsed": false
   },
   "outputs": [],
   "source": [
    "trapnell2014_expression.tail()"
   ]
  },
  {
   "cell_type": "code",
   "execution_count": null,
   "metadata": {
    "collapsed": false
   },
   "outputs": [],
   "source": [
    "macaulay2016_expression = np.log10(pd.read_csv('../4._Case_Study/macaulay2016/gene_expression_s.csv', index_col=0)+1)\n",
    "macaulay2016_expression.head()"
   ]
  },
  {
   "cell_type": "code",
   "execution_count": null,
   "metadata": {
    "collapsed": false
   },
   "outputs": [],
   "source": [
    "ercc_names = [x for x in macaulay2016_expression.index if 'ERCC' in x]"
   ]
  },
  {
   "cell_type": "code",
   "execution_count": null,
   "metadata": {
    "collapsed": true
   },
   "outputs": [],
   "source": [
    "ercc = macaulay2016_expression.loc[ercc_names]"
   ]
  },
  {
   "cell_type": "code",
   "execution_count": null,
   "metadata": {
    "collapsed": false
   },
   "outputs": [],
   "source": [
    "macaulay2016_expression_genes = macaulay2016_expression.loc[macaulay2016_expression.index.difference(ercc_names)]"
   ]
  },
  {
   "cell_type": "code",
   "execution_count": null,
   "metadata": {
    "collapsed": false
   },
   "outputs": [],
   "source": [
    "macaulay2016_expression_genes.shape"
   ]
  },
  {
   "cell_type": "code",
   "execution_count": null,
   "metadata": {
    "collapsed": true
   },
   "outputs": [],
   "source": [
    "macaulay2016_expression_genes_T = macaulay2016_expression_genes.T"
   ]
  },
  {
   "cell_type": "code",
   "execution_count": null,
   "metadata": {
    "collapsed": true
   },
   "outputs": [],
   "source": []
  },
  {
   "cell_type": "code",
   "execution_count": null,
   "metadata": {
    "collapsed": false
   },
   "outputs": [],
   "source": [
    "macaulay2016_expression_genes.head()"
   ]
  },
  {
   "cell_type": "code",
   "execution_count": null,
   "metadata": {
    "collapsed": true
   },
   "outputs": [],
   "source": [
    "import numpy as np"
   ]
  },
  {
   "cell_type": "code",
   "execution_count": null,
   "metadata": {
    "collapsed": false
   },
   "outputs": [],
   "source": [
    "expression = macaulay2016_expression_genes"
   ]
  },
  {
   "cell_type": "code",
   "execution_count": null,
   "metadata": {
    "collapsed": true
   },
   "outputs": [],
   "source": [
    "mean_expression = macaulay2016_expression_genes_T.mean()\n",
    "std_expression = macaulay2016_expression_genes_T.std()"
   ]
  },
  {
   "cell_type": "code",
   "execution_count": null,
   "metadata": {
    "collapsed": true
   },
   "outputs": [],
   "source": [
    "mean_ercc = ercc.T.mean()\n",
    "std_ercc = ercc.T.std()"
   ]
  },
  {
   "cell_type": "code",
   "execution_count": null,
   "metadata": {
    "collapsed": true
   },
   "outputs": [],
   "source": [
    "coefficient_of_variation_expression = np.square(std_expression/mean_expression)\n",
    "cv_ercc = np.square(std_ercc/mean_ercc)"
   ]
  },
  {
   "cell_type": "code",
   "execution_count": null,
   "metadata": {
    "collapsed": false
   },
   "outputs": [],
   "source": [
    "np.log(10)/np.log(2)"
   ]
  },
  {
   "cell_type": "code",
   "execution_count": null,
   "metadata": {
    "collapsed": false
   },
   "outputs": [],
   "source": [
    "fig, ax = plt.subplots(figsize=(4, 3))\n",
    "ax.semilogy(mean_expression, coefficient_of_variation_expression, 'o', alpha=0.25, markeredgewidth=0.5)\n",
    "ax.semilogy(mean_ercc, cv_ercc, 'o', color='Crimson', markeredgewidth=0.5) \n",
    "ax.set(xlabel='Mean expression ($\\log_{10}(TPM+1)$)', ylabel='$CV^2$')\n",
    "sns.despine()"
   ]
  },
  {
   "cell_type": "code",
   "execution_count": null,
   "metadata": {
    "collapsed": true
   },
   "outputs": [],
   "source": [
    "from sklearn.decomposition import FastICA\n",
    "from sklearn.manifold import TSNE"
   ]
  },
  {
   "cell_type": "code",
   "execution_count": null,
   "metadata": {
    "collapsed": false
   },
   "outputs": [],
   "source": [
    "expression.head()"
   ]
  },
  {
   "cell_type": "code",
   "execution_count": null,
   "metadata": {
    "collapsed": false
   },
   "outputs": [],
   "source": [
    "macaulay2016_expression.shape"
   ]
  },
  {
   "cell_type": "code",
   "execution_count": null,
   "metadata": {
    "collapsed": false
   },
   "outputs": [],
   "source": [
    "genes = macaulay2016_expression\n",
    "\n",
    "ercc_idx = filter(lambda i: 'ERCC' in i, macaulay2016_expression.index)\n",
    "egenes = genes.drop(ercc_idx)\n",
    "egenes = egenes.drop('GFP')\n",
    "\n",
    "# Convert from RPKM to TPM\n",
    "egenes = (egenes / egenes.sum()) * 1e6\n",
    "\n",
    "mask = (egenes > 1).sum(1) > 2\n",
    "egenes = egenes.ix[mask]\n",
    "original_expression_data = np.log10(egenes.T + 1).copy()\n"
   ]
  },
  {
   "cell_type": "code",
   "execution_count": null,
   "metadata": {
    "collapsed": false
   },
   "outputs": [],
   "source": [
    "egenes.shape"
   ]
  },
  {
   "cell_type": "code",
   "execution_count": null,
   "metadata": {
    "collapsed": true
   },
   "outputs": [],
   "source": [
    "genes_detected_per_cell = (macaulay2016_expression_genes > 0).sum()\n",
    "cells_detected_per_gene = (macaulay2016_expression_genes_T > 0).sum()"
   ]
  },
  {
   "cell_type": "code",
   "execution_count": null,
   "metadata": {
    "collapsed": false
   },
   "outputs": [],
   "source": [
    "fig, ax = plt.subplots(figsize=(30, 3))\n",
    "sns.boxplot(macaulay2016_expression_genes)"
   ]
  },
  {
   "cell_type": "code",
   "execution_count": null,
   "metadata": {
    "collapsed": false
   },
   "outputs": [],
   "source": [
    "macaulay2016_expression_original = pd.read_csv('../4._Case_Study/macaulay2016/gene_expression_s.csv', index_col=0)\n",
    "macaulay2016_expression_original.head()"
   ]
  },
  {
   "cell_type": "code",
   "execution_count": null,
   "metadata": {
    "collapsed": true
   },
   "outputs": [],
   "source": [
    "macaulay2016_expression_original_genes = macaulay2016_expression_original.loc[macaulay2016_expression_original.index.difference(ercc_names)]\n",
    "# Convert from RPKM to TPM by rescaling each sample (column)\n",
    "macaulay2016_expression_original_genes = (macaulay2016_expression_original_genes / macaulay2016_expression_original_genes.sum()) * 1e6\n"
   ]
  },
  {
   "cell_type": "code",
   "execution_count": null,
   "metadata": {
    "collapsed": true
   },
   "outputs": [],
   "source": [
    "sns.set(style='white')"
   ]
  },
  {
   "cell_type": "code",
   "execution_count": null,
   "metadata": {
    "collapsed": true
   },
   "outputs": [],
   "source": [
    "range(23)"
   ]
  },
  {
   "cell_type": "code",
   "execution_count": null,
   "metadata": {
    "collapsed": false
   },
   "outputs": [],
   "source": [
    "def explore_thresholds(min_log_tpm, min_n_cells, log_base):\n",
    "    if log_base == 'e':\n",
    "        expression = np.log(macaulay2016_expression_original_genes + 1)\n",
    "    elif log_base == '2':\n",
    "        expression = np.log2(macaulay2016_expression_original_genes + 1)\n",
    "    elif log_base == '10':\n",
    "        expression = np.log10(macaulay2016_expression_original_genes + 1)\n",
    "    else:\n",
    "        raise ValueError(\"Not a valid log base\")\n",
    "        \n",
    "    genes_detected_per_cell = (expression > min_tpm).sum(axis=0)\n",
    "    cells_detected_per_gene = (expression > min_tpm).sum(axis=1)\n",
    "    \n",
    "    mask = (expression > min_log_tpm).sum(1) > min_n_cells\n",
    "    expression = expression.ix[mask]\n",
    "        \n",
    "    fig, ax = plt.subplots(figsize=(30, 3))\n",
    "    genes_detected_per_cell.plot(kind='bar')\n",
    "\n",
    "    fig, axes = plt.subplots(figsize=(8, 3))\n",
    "    ax = axes[0]\n",
    "    sns.distplot(cells_detected_per_gene, kde=False)\n",
    "    ymin, ymax = ax.get_ylim()\n",
    "    ax.vlines(min_n_cells, ymin, ymax, linestyle='--')\n",
    "    ax.set(xlim=(0, 400), xlabel='Number of cells', ylabel='Number of genes')\n",
    "\n",
    "    \n",
    "    ica = decomposition.FastICA(n_components=4, random_state=3984)\n",
    "    decomposed = ica.fit_transform(expression.T)\n",
    "\n",
    "    embedder = TSNE(n_components=2, perplexity=75, random_state=254)\n",
    "    embedded = pd.DataFrame(embedder.fit_transform(decomposed))\n",
    "\n",
    "\n",
    "    ax = axes[1]\n",
    "    cell_color = macaulay2016.loc[expression.columns, 'sample_coloe']\n",
    "    ax.scatter(embedded[0], embedded[1], c=cell_color, s=40)\n",
    "    # Empty the tick labels\n",
    "    ax.set(xticks=[], yticks=[])\n",
    "    sns.despine(bottom=True, left=True, ax=ax)\n",
    "    fig.tight_layout()\n",
    "    \n",
    "    sns.despine()\n",
    "ipywidgets.interact(explore_thresholds, min_log_tpm=ipywidgets.IntSlider(min=0, max=10, value=1), \n",
    "                    min_n_cells=ipywidgets.IntSlider(min=0, max=50, value=2), \n",
    "                    log_base=ipywidgets.Dropdown(options=['e', '2', '10'], value=10))"
   ]
  },
  {
   "cell_type": "code",
   "execution_count": null,
   "metadata": {
    "collapsed": false
   },
   "outputs": [],
   "source": [
    "fig, ax = plt.subplots(figsize=(30, 3))\n",
    "genes_detected_per_cell.plot(kind='bar')"
   ]
  },
  {
   "cell_type": "code",
   "execution_count": null,
   "metadata": {
    "collapsed": false
   },
   "outputs": [],
   "source": [
    "fig, ax = plt.subplots(figsize=(4, 3))\n",
    "sns.distplot(cells_detected_per_gene, kde=False)\n",
    "ax.set(xlim=(0, 400), xlabel='Number of cells', ylabel='Number of genes')\n",
    "sns.despine()"
   ]
  },
  {
   "cell_type": "code",
   "execution_count": null,
   "metadata": {
    "collapsed": false
   },
   "outputs": [],
   "source": [
    "genes_detected_per_cell['DIM_1_F12']"
   ]
  },
  {
   "cell_type": "code",
   "execution_count": null,
   "metadata": {
    "collapsed": true
   },
   "outputs": [],
   "source": [
    "import matplotlib as mpl"
   ]
  },
  {
   "cell_type": "code",
   "execution_count": null,
   "metadata": {
    "collapsed": false
   },
   "outputs": [],
   "source": [
    "%pdb"
   ]
  },
  {
   "cell_type": "code",
   "execution_count": null,
   "metadata": {
    "collapsed": false
   },
   "outputs": [],
   "source": [
    "cell_color = macaulay2016.loc[expression.columns, 'cluster_color'].map(\n",
    "    lambda x: eval(x) if isinstance(x, str) else x)\n",
    "cell_color = cell_color.replace('nan', np.nan)\n",
    "cell_color.head()"
   ]
  },
  {
   "cell_type": "code",
   "execution_count": null,
   "metadata": {
    "collapsed": false
   },
   "outputs": [],
   "source": [
    "cell_color.values.shape"
   ]
  },
  {
   "cell_type": "code",
   "execution_count": null,
   "metadata": {
    "collapsed": false
   },
   "outputs": [],
   "source": [
    "np.array(cell_color.values).shape"
   ]
  },
  {
   "cell_type": "code",
   "execution_count": null,
   "metadata": {
    "collapsed": false
   },
   "outputs": [],
   "source": [
    "decomposed.shape"
   ]
  },
  {
   "cell_type": "code",
   "execution_count": null,
   "metadata": {
    "collapsed": false
   },
   "outputs": [],
   "source": [
    "decomposed"
   ]
  },
  {
   "cell_type": "code",
   "execution_count": null,
   "metadata": {
    "collapsed": false
   },
   "outputs": [],
   "source": [
    "macaulay2016_expression.head()"
   ]
  },
  {
   "cell_type": "code",
   "execution_count": null,
   "metadata": {
    "collapsed": true
   },
   "outputs": [],
   "source": [
    "ica = decomposition.FastICA(n_components=4, random_state=3984)\n",
    "decomposed = ica.fit_transform(macaulay2016_expression_genes.T)\n",
    "\n",
    "embedder = TSNE(n_components=2, perplexity=75, random_state=254)\n",
    "embedded = pd.DataFrame(embedder.fit_transform(decomposed))\n",
    "\n",
    "sns.set(style='white') \n",
    "fig, ax = plt.subplots(figsize=(4, 4))\n",
    "ax.scatter(embedded[0], embedded[1], c=cell_color, s=40)\n",
    "# Empty the tick labels\n",
    "ax.set(xticks=[], yticks=[])\n",
    "sns.despine(bottom=True, left=True, ax=ax)\n",
    "fig.tight_layout()"
   ]
  },
  {
   "cell_type": "code",
   "execution_count": null,
   "metadata": {
    "collapsed": false
   },
   "outputs": [],
   "source": [
    "macaulay2016_expression.head()"
   ]
  },
  {
   "cell_type": "code",
   "execution_count": null,
   "metadata": {
    "collapsed": true
   },
   "outputs": [],
   "source": []
  }
 ],
 "metadata": {
  "kernelspec": {
   "display_name": "Python 3",
   "language": "python",
   "name": "python3"
  },
  "language_info": {
   "codemirror_mode": {
    "name": "ipython",
    "version": 3
   },
   "file_extension": ".py",
   "mimetype": "text/x-python",
   "name": "python",
   "nbconvert_exporter": "python",
   "pygments_lexer": "ipython3",
   "version": "3.5.1"
  }
 },
 "nbformat": 4,
 "nbformat_minor": 0
}
