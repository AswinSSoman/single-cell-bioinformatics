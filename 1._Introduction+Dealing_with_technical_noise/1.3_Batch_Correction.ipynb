{
 "cells": [
  {
   "cell_type": "markdown",
   "metadata": {},
   "source": [
    "# Batch correction\n",
    "\n",
    "What is batch correction? A \"Batch\" is when experiments have been performed at different times and there's some obvious difference between them. Single-cell experiments are often inherently \"batchy\" because you can only perform so many single cell captures at once, and you do multiple captures, over different days, with different samples. How do you correct for the technical noise without deleting the true biological signal?\n",
    "\n",
    "## Avoiding batch effects\n",
    "\n",
    "First things first, it's best to design your experiments to minimize batch effects. For example, if you can mix your samples such that there are multiple representations of samples per single-cell capture, then this will help because you will have representations of both biological and technical variance across batches, rather than BOTH biological and technical variance.\n",
    "\n",
    "![](figures/hicks_figure1.png)\n",
    "\n",
    "[Hicks et al, preprint](http://biorxiv.org/content/early/2015/12/27/025528)\n",
    "\n",
    "### Bad: Technical variance is the same as biological variance\n",
    "\n",
    "![Don't confound your biological and technical variance](figures/batch_effects-01.png)\n",
    "\n",
    "Here, when you try to correct for batch effects between captures, it's impossible to know whether you're removing the technical noise of the different captures, or the biological signal of the data.\n",
    "\n",
    "### Good: Technical variance is different from biological variance\n",
    "The idea here is that you would ahead of time, mix the cells from your samples in equal proportions and then perform cell capture on the mixed samples, so you would get different technical batches, but they wouldn't be counfounded by the biological signals.\n",
    "\n",
    "![Spread your biological signal across technical replicates](figures/batch_effects-02.png)\n",
    "\n",
    "Here, when you correct for batch effects, the technical batches and biological signals are separate.\n",
    "\n",
    "### If it's completely impossible to do multiple biological samples in the same technical replicate...\n",
    "\n",
    "For example, if you have to harvest your cells at parcticular timepoints, here are some ways that you can try to mitigate the batch effects:\n",
    "\n",
    "* Repeat the timepoint \n",
    "* Save an aliquot of cells from each timepoint and run another experiment with the mixed aliquots"
   ]
  },
  {
   "cell_type": "markdown",
   "metadata": {},
   "source": [
    "## Correcting batch effects\n",
    "Okay so say your data are such that you couldn't have mixed your biological samples ahead of time. What do you do?\n",
    "\n",
    "\n",
    "There's two main ways to approach batch correction: using groups of samples or groups of features (genes).\n",
    "\n",
    "### Sample-batchy\n",
    "\n",
    "This is when you have groups of samples that may have some biological difference between them, but also have technical differences between them. Say, you performed single-cell capture on several different days from different mice, of somewhat overlapping ages. You know that you have the biological signal from the different mice and the different ages, but you *also* have the technical signal from the different batches. BUT there's no getting around that you had to sacrifice the mice and collect their cells in one batch\n",
    "\n",
    "### Feature-batchy\n",
    "\n",
    "This is when you think particular groups of genes are contributing to the batch effects.\n",
    "\n",
    "How to find these features:\n",
    "\n",
    "* Numerical feature (e.g. RIN) associated with each sample\n",
    "* Cell cycle genes (??Buetttner 2015?)\n",
    "* (RUVseq) - Use an external dataset (e.g. bulk samples) to find non-differentially expressed genes and use them to correct between groups"
   ]
  },
  {
   "cell_type": "code",
   "execution_count": null,
   "metadata": {
    "collapsed": false
   },
   "outputs": [],
   "source": [
    "from __future__ import print_function\n",
    "\n",
    "# Interactive Python (IPython - now Jupyter) widgets for interactive exploration\n",
    "import ipywidgets\n",
    "\n",
    "# Numerical python library\n",
    "import numpy as np\n",
    "\n",
    "# PLotting library\n",
    "import matplotlib.pyplot as plt\n",
    "\n",
    "# Dataframes in python\n",
    "import pandas as pd\n",
    "\n",
    "# Linear model correction\n",
    "import patsy \n",
    "\n",
    "# Even better plotting\n",
    "import seaborn as sns\n",
    "\n",
    "# Batch effect correction\n",
    "# This import statement only works because there's a folder called \"combat_py\" here, not that there's a module installed\n",
    "from combat_py.combat import combat\n",
    "\n",
    "\n",
    "# Use the styles and colors that I like\n",
    "sns.set(style='white', context='talk', palette='Set2')\n",
    "%matplotlib inline"
   ]
  },
  {
   "cell_type": "markdown",
   "metadata": {},
   "source": [
    "### Feature-batchy"
   ]
  },
  {
   "cell_type": "code",
   "execution_count": null,
   "metadata": {
    "collapsed": true
   },
   "outputs": [],
   "source": [
    "np.random.seed(2016)\n",
    "\n",
    "n_samples = 10\n",
    "n_genes = 20\n",
    "\n",
    "half_genes = int(n_genes/2)\n",
    "half_samples = int(n_samples/2)\n",
    "size = n_samples * n_genes\n",
    "\n",
    "genes = ['Gene_{}'.format(str(i+1).zfill(2)) for i in range(n_genes)]\n",
    "samples = ['Sample_{}'.format(str(i+1).zfill(2)) for i in range(n_samples)]\n",
    "\n",
    "data = pd.DataFrame(np.random.randn(size).reshape(n_samples, n_genes), index=samples, columns=genes)\n",
    "\n",
    "# Add biological variance\n",
    "data.iloc[:half_samples, :half_genes] += 1\n",
    "data.iloc[:half_samples, half_genes:] += -1\n",
    "data.iloc[half_samples:, half_genes:] += 1\n",
    "data.iloc[half_samples:, :half_genes] += -1\n",
    "\n",
    "# Biological samples\n",
    "mouse_groups = pd.Series(dict(zip(data.index, (['Mouse_01'] * int(n_samples/2)) + (['Mouse_02'] * int(n_samples/2)))), \n",
    "                         name=\"Mouse\")\n",
    "mouse_to_color = dict(zip(['Mouse_01', 'Mouse_02'], ['lightgrey', 'black']))\n",
    "mouse_colors = [mouse_to_color[mouse_groups[x]] for x in samples]\n",
    "\n",
    "# Gene colors\n",
    "gene_colors = sns.color_palette('husl', n_colors=n_genes)"
   ]
  },
  {
   "cell_type": "markdown",
   "metadata": {},
   "source": [
    "### Plot original biological variance data"
   ]
  },
  {
   "cell_type": "code",
   "execution_count": null,
   "metadata": {
    "collapsed": false
   },
   "outputs": [],
   "source": [
    "g = sns.clustermap(data, row_colors=mouse_colors, col_cluster=False, row_cluster=False, linewidth=0.5, \n",
    "                   col_colors=gene_colors,\n",
    "                   cbar_kws=dict(label='Normalized Expression'))\n",
    "plt.setp(g.ax_heatmap.get_yticklabels(), rotation=0);"
   ]
  },
  {
   "cell_type": "code",
   "execution_count": null,
   "metadata": {
    "collapsed": true
   },
   "outputs": [],
   "source": [
    "def make_tidy(data, sample_groups):\n",
    "    tidy = data.unstack()\n",
    "    tidy = tidy.reset_index()\n",
    "    tidy = tidy.rename(columns={'level_0': 'Gene', 'level_1': \"Sample\", 0: \"Normalized Expression\"})\n",
    "    tidy = tidy.join(sample_groups, on='Sample')\n",
    "    return tidy"
   ]
  },
  {
   "cell_type": "code",
   "execution_count": null,
   "metadata": {
    "collapsed": false
   },
   "outputs": [],
   "source": [
    "tidy = make_tidy(data, mouse_groups)"
   ]
  },
  {
   "cell_type": "code",
   "execution_count": null,
   "metadata": {
    "collapsed": false
   },
   "outputs": [],
   "source": [
    "fig, ax = plt.subplots()\n",
    "sns.boxplot(hue='Gene', y='Normalized Expression', data=tidy, x='Mouse')\n",
    "ax.legend_.set_visible(False)"
   ]
  },
  {
   "cell_type": "markdown",
   "metadata": {},
   "source": [
    "### Add technical noise"
   ]
  },
  {
   "cell_type": "code",
   "execution_count": null,
   "metadata": {
    "collapsed": false
   },
   "outputs": [],
   "source": [
    "# Choose odd-numbered samples to be in batch1 and even numbered samples to be in batch 2\n",
    "batch1_samples = samples[::2]\n",
    "batch2_samples = data.index.difference(batch1_samples)\n",
    "batches = pd.Series(dict((x, 'Batch_01') if x in batch1_samples else (x, \"Batch_02\") for x in samples), name=\"Batch\")\n",
    "\n",
    "# Add random noise for all genes except the last two in each batch\n",
    "noisy_data = data.copy()\n",
    "noisy_data.ix[batch1_samples, :-2] += np.random.normal(size=n_genes-2, scale=2)\n",
    "noisy_data.ix[batch2_samples, :-2] += np.random.normal(size=n_genes-2, scale=2)\n",
    "\n",
    "\n",
    "# Assign colors for batches\n",
    "batch_to_color = dict(zip([\"Batch_01\", \"Batch_02\"], sns.color_palette()))\n",
    "batch_colors = [batch_to_color[batches[x]] for x in samples]\n",
    "row_colors = [mouse_colors, batch_colors]\n",
    "\n",
    "\n",
    "g = sns.clustermap(noisy_data, row_colors=row_colors, col_cluster=False, row_cluster=False, linewidth=0.5, \n",
    "                   col_colors=gene_colors, cbar_kws=dict(label='Normalized Expression'))\n",
    "plt.setp(g.ax_heatmap.get_yticklabels(), rotation=0);"
   ]
  },
  {
   "cell_type": "markdown",
   "metadata": {},
   "source": [
    "We can see that there's some batch effect - for batch1 (light grey), `Gene_15` is in general lower, and `Gene_01` is in general higher. And for batch2 (black), `Gene_16` is in general higher.\n",
    "\n",
    "But, Gene_19 and Gene_20 are unaffected."
   ]
  },
  {
   "cell_type": "code",
   "execution_count": null,
   "metadata": {
    "collapsed": false
   },
   "outputs": [],
   "source": [
    "tidy_noisy = make_tidy(noisy_data, mouse_groups)\n",
    "tidy_noisy = tidy_noisy.join(batches, on='Sample')\n",
    "tidy_noisy.head()"
   ]
  },
  {
   "cell_type": "markdown",
   "metadata": {},
   "source": [
    "Lets plot the boxplots of data the same way, with the x-axis as the mouse they came from and the y-axis ad the genes"
   ]
  },
  {
   "cell_type": "code",
   "execution_count": null,
   "metadata": {
    "collapsed": false
   },
   "outputs": [],
   "source": [
    "fig, ax = plt.subplots()\n",
    "sns.boxplot(hue='Gene', y='Normalized Expression', data=tidy_noisy, x='Mouse')\n",
    "ax.legend_.set_visible(False)"
   ]
  },
  {
   "cell_type": "markdown",
   "metadata": {},
   "source": [
    "We can see that compared to before, where we had clear differences in gene expression from genes 1-10 and 11-19 in the two mice, we don't see it as much with the noisy data.\n",
    "\n",
    "Now let's plot the data a different way, with the x-axis as the *batch*"
   ]
  },
  {
   "cell_type": "code",
   "execution_count": null,
   "metadata": {
    "collapsed": false
   },
   "outputs": [],
   "source": [
    "fig, ax = plt.subplots()\n",
    "sns.boxplot(hue='Gene', y='Normalized Expression', data=tidy_noisy, x='Batch')\n",
    "ax.legend_.set_visible(False)"
   ]
  },
  {
   "cell_type": "markdown",
   "metadata": {},
   "source": [
    "## How to quantify the batch effect?"
   ]
  },
  {
   "cell_type": "code",
   "execution_count": null,
   "metadata": {
    "collapsed": false
   },
   "outputs": [],
   "source": [
    "fig, ax = plt.subplots()\n",
    "sns.pointplot(hue='Batch', x='Normalized Expression', data=tidy_noisy, y='Gene', orient='horizontal', \n",
    "              scale=0.5, palette=batch_colors)"
   ]
  },
  {
   "cell_type": "code",
   "execution_count": null,
   "metadata": {
    "collapsed": false
   },
   "outputs": [],
   "source": [
    "fig, ax = plt.subplots()\n",
    "sns.pointplot(hue='Batch', x='Normalized Expression', data=tidy_noisy, y='Gene', orient='horizontal', scale=0.5)\n",
    "sns.pointplot(x='Normalized Expression', data=tidy_noisy, y='Gene', orient='horizontal', scale=0.75, color='k', \n",
    "              linestyle=None)"
   ]
  },
  {
   "cell_type": "markdown",
   "metadata": {},
   "source": [
    "## How to get rid of the batch effect?\n",
    "\n",
    "\n",
    "### COMBAT\n",
    "We will use \"COMBAT\" to get rid of the batch effect. What combat does is basically what we just did with our eyes and intuition - find genes whose gene expression varies greatly between batches, and adjust the expression of the gene so it's closer to the mean total expression across batches.\n",
    "\n",
    "\n",
    "(may need to whiteboard here)"
   ]
  },
  {
   "cell_type": "markdown",
   "metadata": {},
   "source": [
    "Create metadata matrix"
   ]
  },
  {
   "cell_type": "code",
   "execution_count": null,
   "metadata": {
    "collapsed": false
   },
   "outputs": [],
   "source": [
    "metadata = pd.concat([batches, mouse_groups], axis=1)\n",
    "metadata"
   ]
  },
  {
   "cell_type": "code",
   "execution_count": null,
   "metadata": {
    "collapsed": false
   },
   "outputs": [],
   "source": [
    "\n",
    "def remove_batch_effects_with_combat(batch, keep_constant=None, cluster_on_correlations=False):\n",
    "    if keep_constant is not None or keep_constant in metadata:\n",
    "        # We'll use patsy (statistical models in python) to create a \"Design matrix\" which encodes the batch as \n",
    "        # a boolean (0 or 1) value so the computer cna understand it.\n",
    "        model = patsy.dmatrix('~ {}'.format(keep_constant), metadata, return_type=\"dataframe\")\n",
    "    elif keep_constant == 'null' or keep_constant is None:\n",
    "        model = None\n",
    "        \n",
    "    # --- Correct for batch effects --- #\n",
    "    corrected_data = combat(noisy_data.T, metadata[batch], model)\n",
    "    \n",
    "    # Transpose so samples are the rows and the features are the columns\n",
    "    corrected_data = corrected_data.T\n",
    "\n",
    "    # --- Plot the heatmap --- #\n",
    "    if cluster_on_correlations:\n",
    "        g = sns.clustermap(corrected_data.T.corr(), row_colors=row_colors, col_cluster=True, row_cluster=True, linewidth=0.5, \n",
    "                           vmin=-1, vmax=1, col_colors=row_colors, cbar_kws=dict(label='Pearson R'))\n",
    "        plt.setp(g.ax_heatmap.get_yticklabels(), rotation=0);\n",
    "    else:\n",
    "        g = sns.clustermap(corrected_data, row_colors=row_colors, col_cluster=False, row_cluster=False, linewidth=0.5, \n",
    "                       col_colors=gene_colors, cbar_kws=dict(label='Normalized Expression'))\n",
    "        plt.setp(g.ax_heatmap.get_yticklabels(), rotation=0);\n",
    "        \n",
    "    # Uncomment the line below to save the batch corrected heatmap\n",
    "    # g.savefig('combat_batch_corrected_clustermap.pdf')\n",
    "    \n",
    "    # --- Quantification of the batch effect correction --- #\n",
    "    # Create a \"tidy\" version of the dataframe for plotting\n",
    "    tidy_corrected = make_tidy(corrected_data, mouse_groups)\n",
    "    tidy_corrected = tidy_corrected.join(batches, on='Sample')\n",
    "    tidy_corrected.head()\n",
    "\n",
    "    # Set up the figure\n",
    "    # 4 columns of figure panels\n",
    "    figure_columns = 4\n",
    "    width = 4.5 * figure_columns\n",
    "    height = 4\n",
    "    fig, axes = plt.subplots(ncols=figure_columns, figsize=(width, height))\n",
    "\n",
    "    # PLot original data vs the corrected data\n",
    "    ax = axes[0]\n",
    "    ax.plot(data.values.flat, corrected_data.values.flat, 'o', \n",
    "            # Everything in the next line is my personal preference so it looks nice\n",
    "            alpha=0.5, markeredgecolor='k', markeredgewidth=0.5)\n",
    "    ax.set(xlabel='Original (Batchy) data', ylabel='COMBAT corrected data')\n",
    "\n",
    "    # PLot the mean gene expression within batch in colors, and the mean gene expression across both batches in black\n",
    "    ax = axes[1]\n",
    "    sns.pointplot(hue='Batch', x='Normalized Expression', data=tidy_corrected, y='Gene', orient='horizontal', scale=.5, ax=ax)\n",
    "    sns.pointplot(x='Normalized Expression', data=tidy_corrected, y='Gene', orient='horizontal', \n",
    "                  scale=0.75, color='k', linestyle=None, ax=ax)\n",
    "\n",
    "    # PLot the gene epxression distribution per mouse\n",
    "    ax = axes[2]\n",
    "    sns.boxplot(hue='Gene', y='Normalized Expression', data=tidy_corrected, x='Mouse', ax=ax, \n",
    "                # Adjusting linewidth for my personal preference\n",
    "                linewidth=1)\n",
    "    # Don't show legend because it's too big\n",
    "    ax.legend_.set_visible(False)\n",
    "    \n",
    "    \n",
    "    # --- Plot boxplots of average difference between gene expression in batches --- #\n",
    "    # Gete mean gene expression within batch for the original noisy data\n",
    "    mean_batch_expression = noisy_data.groupby(batches).mean()\n",
    "    noisy_batch_diff = (mean_batch_expression.loc['Batch_01'] - mean_batch_expression.loc['Batch_02']).abs()\n",
    "    noisy_batch_diff.name = 'mean(|batch1 - batch2|)'\n",
    "    noisy_batch_diff = noisy_batch_diff.reset_index()\n",
    "    noisy_batch_diff['Data type'] = 'Noisy'\n",
    "\n",
    "    # Get mean gene expression within batch for the corrected data\n",
    "    mean_corrected_batch_expression = corrected_data.groupby(batches).mean()\n",
    "    corrected_batch_diff = (mean_corrected_batch_expression.loc['Batch_01'] - mean_corrected_batch_expression.loc['Batch_02']).abs()\n",
    "    corrected_batch_diff.name = 'mean(|batch1 - batch2|)'\n",
    "    corrected_batch_diff = corrected_batch_diff.reset_index()\n",
    "    corrected_batch_diff['Data type'] = 'Corrected'\n",
    "\n",
    "    # Compile the two tables into one (concatenate)\n",
    "    batch_differences = pd.concat([noisy_batch_diff, corrected_batch_diff])\n",
    "    batch_differences.head()\n",
    "\n",
    "    sns.boxplot(x='Data type', y='mean(|batch1 - batch2|)', data=batch_differences, ax=axes[3])\n",
    "\n",
    "    # Remove right and top axes lines so it looks nicer\n",
    "    sns.despine()\n",
    "\n",
    "    # Magically adjust the figure panels (axes) so they fit nicely\n",
    "    fig.tight_layout()\n",
    "\n",
    "    # Uncomment the line below to save the figure of three panels\n",
    "    # fig.savefig('combat_batch_corrected_panels.pdf')\n",
    "\n",
    "\n",
    "ipywidgets.interact(\n",
    "    remove_batch_effects_with_combat,\n",
    "    batch=ipywidgets.Dropdown(options=['Mouse', 'Batch'], value=\"Batch\", description='Batch to correct for'), \n",
    "    keep_constant=ipywidgets.Dropdown(value=None, options=[None, 'Mouse', 'Batch', 'Mouse + Batch'], \n",
    "                                      description='Variable of interest'),\n",
    "    cluster_on_correlations=ipywidgets.Checkbox(value=False, description=\"Cluster on (Pearson) correlations between samples\"));"
   ]
  },
  {
   "cell_type": "markdown",
   "metadata": {},
   "source": [
    "Try doing these and see how they compare. Do you see similar trends to the original data? Do any of these create errors? Why would that be?\n",
    "\n",
    "1. Batch to correct for = Batch, Variable of interest = Mouse\n",
    "2. Batch to correct for = Mouse, Variable of interest = Batch\n",
    "3. Batch to correct for = Batch, Variable of interest = Mouse + Batch\n",
    "4. ... your own combinations!\n",
    "\n",
    "With each of these try turning \"Cluster on (Pearson) correlations between samples\" on and off.\n",
    "This is a nice way that we can visualize the improvement in reducing the batch-dependent signal."
   ]
  },
  {
   "cell_type": "markdown",
   "metadata": {},
   "source": [
    "\n",
    "\n",
    "## Feature-batchy\n",
    "\n",
    "What if there are specific genes or features that are contributing to the batches?\n",
    "\n",
    "This is the idea behind correcting for cell-cycle genes or some other feature that you know is associated with the data, e.g. the RNA Integrity Number (RIN).\n",
    "\n",
    "Let's add some feature-batchy noise to our original data"
   ]
  },
  {
   "cell_type": "code",
   "execution_count": null,
   "metadata": {
    "collapsed": false
   },
   "outputs": [],
   "source": [
    "metadata['RIN'] = np.arange( len(samples)) + 0.5\n",
    "metadata"
   ]
  },
  {
   "cell_type": "markdown",
   "metadata": {},
   "source": [
    "Add noise and plot it. Use first and last genes as controls that dno't have any noise"
   ]
  },
  {
   "cell_type": "code",
   "execution_count": null,
   "metadata": {
    "collapsed": false
   },
   "outputs": [],
   "source": [
    "# rin_noise = metadata['RIN'].apply(lambda x: pd.Series(np.random.normal(loc=x, size=n_genes), index=genes))\n",
    "rin_noise = metadata['RIN'].apply(lambda x: pd.Series(np.ones(n_genes-2)*x, index=genes[1:-1]))\n",
    "rin_noise = rin_noise.reindex(columns=genes)\n",
    "rin_noise = rin_noise.fillna(0)\n",
    "\n",
    "g = sns.clustermap(rin_noise, row_colors=mouse_colors, col_cluster=False, row_cluster=False, linewidth=0.5, \n",
    "                   col_colors=gene_colors, cbar_kws=dict(label='RIN Noise'))\n",
    "plt.setp(g.ax_heatmap.get_yticklabels(), rotation=0);"
   ]
  },
  {
   "cell_type": "markdown",
   "metadata": {},
   "source": [
    "Add the noise to the data and re-center so that each gene's mean is approximately zero."
   ]
  },
  {
   "cell_type": "code",
   "execution_count": null,
   "metadata": {
    "collapsed": false
   },
   "outputs": [],
   "source": [
    "rin_batchy_data = data + rin_noise\n",
    "rin_batchy_data\n",
    "\n",
    "# Renormalize the data so genes are 0-centered\n",
    "\n",
    "rin_batchy_data = (rin_batchy_data - rin_batchy_data.mean())/rin_batchy_data.std()\n",
    "\n",
    "g = sns.clustermap(rin_batchy_data, row_colors=mouse_colors, col_cluster=False, row_cluster=False, linewidth=0.5, \n",
    "                   col_colors=gene_colors, cbar_kws=dict(label='Normalized Expression'))\n",
    "plt.setp(g.ax_heatmap.get_yticklabels(), rotation=0);"
   ]
  },
  {
   "cell_type": "markdown",
   "metadata": {},
   "source": [
    "If we plot the RIN vs the RIN-batchy gene expression, we'll see that from this one variable, we see an increase in expression! Of course, we could also have created a variable that linearly decreases expression. "
   ]
  },
  {
   "cell_type": "code",
   "execution_count": null,
   "metadata": {
    "collapsed": false
   },
   "outputs": [],
   "source": [
    "\n",
    "tidy_rin_batchy = make_tidy(rin_batchy_data, mouse_groups)\n",
    "tidy_rin_batchy = tidy_rin_batchy.join(metadata['RIN'], on='Sample')\n",
    "\n",
    "\n",
    "g = sns.FacetGrid(tidy_rin_batchy, hue='Gene')\n",
    "g.map(plt.plot, 'RIN', 'Normalized Expression', alpha=0.5)"
   ]
  },
  {
   "cell_type": "markdown",
   "metadata": {},
   "source": [
    "### Use RIN to predict gene expression\n",
    "\n",
    "We will use linear regression to use RIN as our dependent variable and predict gene expression from there. Then we'll create a new, corrected matrix, with the influence of RIN removed"
   ]
  },
  {
   "cell_type": "code",
   "execution_count": null,
   "metadata": {
    "collapsed": false
   },
   "outputs": [],
   "source": [
    "from __future__ import print_function\n",
    "import six\n",
    "from sklearn import linear_model\n",
    "\n",
    "regressor = linear_model.LinearRegression()\n",
    "regressor\n",
    "\n",
    "# Use RIN as the \"X\" - the \"dependent\" variable, the one you expect your gene expression to vary with.\n",
    "\n",
    "regressor.fit(metadata['RIN'].to_frame(), rin_batchy_data)\n",
    "\n",
    "# Use RIN to predict gene expression\n",
    "rin_dependent_data = pd.DataFrame(regressor.predict(metadata['RIN'].to_frame()), columns=genes, index=samples)\n",
    "rin_dependent_data\n",
    "\n",
    "from sklearn.metrics import r2_score\n",
    "\n",
    "# explained_variance = r2_score(rin_batchy_data, rin_dependent_data)\n",
    "# six.print_(\"Explained variance by RIN:\", explained_variance)\n",
    "\n",
    "rin_corrected_data = rin_batchy_data - rin_dependent_data\n",
    "rin_corrected_data\n",
    "\n",
    "# Somewhat contrived, but try to predict the newly corrected data with RIN\n",
    "\n",
    "r2_score(rin_corrected_data, rin_dependent_data)\n",
    "\n",
    "tidy_rin_corrected = make_tidy(rin_corrected_data, mouse_groups)\n",
    "tidy_rin_corrected = tidy_rin_corrected.join(metadata['RIN'], on=\"Sample\")\n",
    "tidy_rin_corrected.head()\n",
    "\n",
    "g = sns.FacetGrid(tidy_rin_corrected, hue='Gene')\n",
    "g.map(plt.plot, 'RIN', 'Normalized Expression', alpha=0.5)\n",
    "\n",
    "g = sns.clustermap(rin_corrected_data, row_colors=mouse_colors, col_cluster=False, row_cluster=False, linewidth=0.5, \n",
    "                   col_colors=gene_colors, cbar_kws=dict(label='Normalized Expression'))\n",
    "plt.setp(g.ax_heatmap.get_yticklabels(), rotation=0);\n",
    "\n",
    "sns.clustermap(rin_corrected_data.T.corr(), row_colors=mouse_colors,linewidth=0.5, \n",
    "                   col_colors=mouse_colors, cbar_kws=dict(label='Pearson R'))\n",
    "plt.setp(g.ax_heatmap.get_yticklabels(), rotation=0);"
   ]
  },
  {
   "cell_type": "markdown",
   "metadata": {},
   "source": [
    "Now the data dcoens't vary by RIN! But.... now we over-corrected and removed the biological signal as well."
   ]
  },
  {
   "cell_type": "markdown",
   "metadata": {},
   "source": [
    "### Other options to talk about\n",
    "\n",
    "As you have seen, dealing with batch effects in single-cell data is supremely difficult and the best thing you can do for yourself is design your experiment nicely so you don't have to.\n",
    "\n",
    "* [SVA](http://www.biostat.jhsph.edu/~jleek/papers/sva.pdf)\n",
    "    * Can specify that you want to correct for something (like RIN) but don't correct for what you're interested in. But... often in single cell data you're trying to find new populations so you don't know *a prior* what you want to not be corrected for\n",
    "* [RUVseq](http://www.nature.com/nbt/journal/v32/n9/full/nbt.2931.html)\n",
    "    * With the \"RUVg\" version can specify a set of control genes that you know aren't supposed to change between groups (maybe from a bulk experiment) but they say in their manual not to use the normalized counts for differential expression, only for exploration, because you may have corrected for something you actually *DID* want but didn't know\n",
    "* [scLVM](https://github.com/PMBio/scLVM)\n",
    "    * This method claims to account for differences in cell cycle stage and help to put all cells onto the same scale, so you can then do pseudotime ordering and clustering and all that jazz."
   ]
  }
 ],
 "metadata": {
  "kernelspec": {
   "display_name": "Python 3",
   "language": "python",
   "name": "python3"
  },
  "language_info": {
   "codemirror_mode": {
    "name": "ipython",
    "version": 3
   },
   "file_extension": ".py",
   "mimetype": "text/x-python",
   "name": "python",
   "nbconvert_exporter": "python",
   "pygments_lexer": "ipython3",
   "version": "3.5.1"
  }
 },
 "nbformat": 4,
 "nbformat_minor": 0
}
