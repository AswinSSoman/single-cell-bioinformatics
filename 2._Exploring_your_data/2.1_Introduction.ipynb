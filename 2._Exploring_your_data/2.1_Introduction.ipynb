{
 "cells": [
  {
   "cell_type": "markdown",
   "metadata": {},
   "source": [
    "# Exploring your data with unsupervised machine learning\n",
    "\n",
    "Flowchart of machine learning from Scikit-learn.\n",
    "\n",
    "![](http://scikit-learn.org/stable/_static/ml_map.png)\n",
    "\n",
    "We're staying in the bottom half of the flowchart today - data exploration.\n",
    "\n",
    "\n",
    "## [Clustering](2.2_Hierarchical_clustering.ipynb)\n",
    "\n",
    "The point of \"clustering\" is to group similar things together, and keep different things far apart. We'll see that depends on how you define \"similar\" and \"far apart\" :)\n",
    "\n",
    "* Distance metrics (defines \"similar\")\n",
    "* Linkage methods (defines \"far apart\")\n",
    "\n",
    "## Dimensionality reduction\n",
    "\n",
    "Dimensionality reduction algorithms like PCA, ICA, MDS, t-SNE (we'll get into the acronyms in a second) are all trying to accomplish the same thing: *smush your high dimensional data into a palatable number of dimensions* (often <10).\n",
    "\n",
    "### [Matrix decomposition](2.3_Matrix_Decomposition.ipynb)\n",
    "\n",
    "* PCA\n",
    "* ICA\n",
    "\n",
    "### [Manifold learning](2.4_Manifold_learning.ipynb)\n",
    "\n",
    "* MDS\n",
    "* t-SNE\n",
    "\n",
    "## [Comparison of methods on handwritten digits dataset](2._Exploring_your_data/2.5_Comparison_on_digits_dataset.ipynb)\n",
    "\n",
    "We'll use a commonly used machine learning dataset of handwritten digits to explore differences between all the algorithms we've looked at so far.\n",
    "\n",
    "![](figures/digits.png)"
   ]
  }
 ],
 "metadata": {
  "kernelspec": {
   "display_name": "Python 3",
   "language": "python",
   "name": "python3"
  },
  "language_info": {
   "codemirror_mode": {
    "name": "ipython",
    "version": 3
   },
   "file_extension": ".py",
   "mimetype": "text/x-python",
   "name": "python",
   "nbconvert_exporter": "python",
   "pygments_lexer": "ipython3",
   "version": "3.5.1"
  }
 },
 "nbformat": 4,
 "nbformat_minor": 0
}
