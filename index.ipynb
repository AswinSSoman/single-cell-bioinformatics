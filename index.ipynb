{
 "cells": [
  {
   "cell_type": "markdown",
   "metadata": {},
   "source": [
    "# Single-cell Bioinformatics"
   ]
  },
  {
   "cell_type": "markdown",
   "metadata": {},
   "source": [
    "<iframe src=\"https://docs.google.com/spreadsheets/d/1GOiINX3nSU90d1mrj044WgDgNJLt-Fo3P_OJAPWaPSg/pubhtml?gid=1097983735&amp;single=true&amp;widget=true&amp;headers=false\"></iframe>\n",
    "\n",
    "| Day                     | Hours | Title                                                                          | Topics                                                                                                                                                                                                                                                                                                                                                                                                                                                                                                                                                                                                                                                                                                                 | Homework                                                                                                                                                                                                                                                                                         |\n",
    "|-------------------------|-------|--------------------------------------------------------------------------------|------------------------------------------------------------------------------------------------------------------------------------------------------------------------------------------------------------------------------------------------------------------------------------------------------------------------------------------------------------------------------------------------------------------------------------------------------------------------------------------------------------------------------------------------------------------------------------------------------------------------------------------------------------------------------------------------------------------------|--------------------------------------------------------------------------------------------------------------------------------------------------------------------------------------------------------------------------------------------------------------------------------------------------|\n",
    "| Wednesday, June 8, 2016 | 4     | Matchmaking: Getting the publicly available deets on your data                 | 1. Introduction to single-cell and expectations for bioinformatics (30m)<br>2. Overview of mapping and alignment pipeline (1hr)<br>    - Hands-on activity - STAR, samtools, featurecounts (30m)<br>3. Overview of machine learning preliminaries (30m) [sklearn_tutorial - 02.1, 02.2]<br>4. Overview/Journal club of Macaulay2016 + Shalek2013 (30m)<br>    - Downloading data from GEO (shalek2013) (15m)<br>    - Using pandas to filtering on number of expressed genes (1h)<br>    - Show GitHub repo for Macaulay2016 dataset (for advanced students to have something to do later) (15m)<br>        - This includes the Macaulay2016 expression matrix too because the matrix wasn't deposited to ArrayExpress | - Mapping/alignment spillover<br>- Downloading public data and filtering on expressed genes spillover<br>- Find another single cell paper with GEO/ArrayExpress accession, download its data, and compare gene expression filtering strategies (Will use this dataset throughout the course)<br> |\n",
    "| Friday, June 10, 2016   | 3     | First date: Exploratory analysis with matrix decomposition                     | 1. Talk about homework and problems with datasets (30m)<br>2. Unsupervised learning - Matrix decomposition [sklearn_tutorial - 04.1 for PCA] (PCA, ICA) (1hr)<br>3. Application of PCA vs ICA on REAL biological data - Macaulay2016 + Shalek2013 (1hr)<br>    - Dataframe manipulation<br>    - Filtering on number of expressed genes<br>4. Unsupervised Learning - Manifold learning (MDS, t-SNE) (1hr)<br>5. Apply t-SNE/MDS/ICA/PCA on Macaulay2016 + Shalek2013 datasets (1hr)<br>                                                                                                                                                                                                                               | - Application spillover<br>- Same single cell dataset, compare all dimensionality reduction algorithms                                                                                                                                                                                           |\n",
    "| Saturday, June 11, 2016 | 3     | One-month anniversary: Give your boo some clusters                             | 1. Talk about homework and problems with datasets (30m) <br>2. Unsupervised learning - Hierarchical clustering, w/wo correlations (30m)<br>3. K-Means clustering - sklearn_tutorial 04.2 (30m)<br>4. Application of hierarchical clustering & K-means clustering on Macaulay2016 + Shalek2013 datasets (1hr 30m)                                                                                                                                                                                                                                                                                                                                                                                                       | - Application spillover<br>- Same dataset, compare cluster finding and classifiers                                                                                                                                                                                                               |\n",
    "| Monday, June 13, 2016   | 1     | One-year anniversary: Find what makes your data tick using supervised learning | 3. Supervised machine learning: SVMs and RandomForests [sklearn_tutorial - 03.1] (1hr)<br>4. Application of supervised learning to Macaulay dataset (30m)<br>1. Macaulay GO analysis of enriched genes to compare classifiers                                                                                                                                                                                                                                                                                                                                                                                                                                                                                          | - Application spillover<br>- Same dataset, compare enriched genes                                                                                                                                                                                                                                |\n",
    "| Saturday, June 18, 2016 | 3     | Pseudotime                                                                     | 1. Pseudotime ordering - overview of algorithms<br>2. Psuedotime demo - wishbone? (1hr)<br>2. batch effects (1hr)                                                                                                                                                                                                                                                                                                                                                                                                                                                                                                                                                                                                      |                                                                                                                                                                                                                                                                                                  |\n",
    "| Sunday, June 19, 2016   | 6     |                                                                                | 1. Office Hours<br>2. Google-Fu<br>3. Dealing with software errors<br>4. How to get help with software (github, stackoverflow)                                                                                                                                                                                                                                                                                                                                                                                                                                                                                                                                                                                         |                                                                                                                                                                                                                                                                                                  |\n",
    "| ***Total***                   | ***20***    |                                                                                |                                                                                                                                                                                                                                                                                                                                                                                                                                                                                                                                                                                                                                                                                                                        |                                                                                                                                                                                                                                                                                                  |"
   ]
  },
  {
   "cell_type": "markdown",
   "metadata": {},
   "source": [
    "## 1. [Wed 2016-06-08] Matchmaking: Getting the publicly available deets on your data\n",
    "\n",
    "1. Introduction to single-cell and expectations for bioinformatics (30m)\n",
    "2. Overview of mapping and alignment pipeline (1hr)\n",
    "    - Hands-on activity - STAR, samtools, featurecounts (30m)\n",
    "3. Overview of machine learning preliminaries (30m) [sklearn_tutorial - 02.1, 02.2]\n",
    "4. Overview/Journal club of Macaulay2016 + Shalek2013 (30m)\n",
    "    - Downloading data from GEO (shalek2013) (15m)\n",
    "    - Using pandas to filtering on number of expressed genes (1h)\n",
    "    - Show GitHub repo for Macaulay2016 dataset (for advanced students to have something to do later) (15m)\n",
    "        - This includes the Macaulay2016 expression matrix too because the matrix wasn't deposited to ArrayExpress\n",
    "\n",
    "### Homework 1\n",
    "- Mapping/alignment spillover\n",
    "- Find another single cell paper with GEO/ArrayExpress accession, download its data, and compare gene expression filtering strategies (Will use this dataset throughout the course)\n",
    "\n",
    "## 2. [Fri 2016-06-10] First date: Exploratory analysis with matrix decomposition\n",
    "\n",
    "1. Talk about homework and problems with datasets (30m)\n",
    "2. Unsupervised learning - Matrix decomposition [sklearn_tutorial - 04.1 for PCA] (PCA, ICA) (1hr)\n",
    "3. Application of PCA vs ICA on REAL biological data - Macaulay2016 + Shalek2013 (1hr)\n",
    "    - Dataframe manipulation\n",
    "    - Filtering on number of expressed genes\n",
    "4. Unsupervised Learning - Manifold learning (MDS, t-SNE) (1hr)\n",
    "5. Apply t-SNE/MDS/ICA/PCA on Macaulay2016 + Shalek2013 datasets (1hr)\n",
    "\n",
    "### Homework 2\n",
    "- Application spillover\n",
    "- Using the same single cell dataset as Homework 1, compare all dimensionality reduction algorithms\n",
    "\n",
    "## 3. [Sat 2016-06-11] One-month anniversary: Give your boo some clusters\n",
    "\n",
    "1. Talk about homework and problems with datasets (30m) \n",
    "2. Unsupervised learning - Hierarchical clustering, w/wo correlations (30m)\n",
    "3. K-Means clustering - sklearn_tutorial 04.2 (30m)\n",
    "4. Application of hierarchical clustering & K-means clustering on Macaulay2016 + Shalek2013 datasets (1hr 30m)\"\n",
    "\n",
    "## 4. [Mon 2016-06-11] One-year anniversary: Find what makes your data tick using supervised learning\n",
    "\n",
    "Be a good listener.\n",
    "\n",
    "1. Supervised machine learning: SVMs and RandomForests [sklearn_tutorial - 03.1] (1hr)\n",
    "2. Application of supervised learning to Macaulay2016 + Shalek2013 datasets (1hr)\n",
    "    - GO analysis of enriched genes to compare classifiers (1hr)\n",
    "\n",
    "## 5. \n",
    "\n",
    "1. Pseudotime ordering - overview of algorithms\n",
    "2. Psuedotime demo - wishbone? (1hr)\n",
    "2. batch effects (1hr)\""
   ]
  },
  {
   "cell_type": "code",
   "execution_count": null,
   "metadata": {
    "collapsed": true
   },
   "outputs": [],
   "source": []
  }
 ],
 "metadata": {
  "kernelspec": {
   "display_name": "Python 3 (single-cell-bioinformatics)",
   "language": "python",
   "name": "python3"
  },
  "language_info": {
   "codemirror_mode": {
    "name": "ipython",
    "version": 3
   },
   "file_extension": ".py",
   "mimetype": "text/x-python",
   "name": "python",
   "nbconvert_exporter": "python",
   "pygments_lexer": "ipython3",
   "version": "3.5.1"
  }
 },
 "nbformat": 4,
 "nbformat_minor": 0
}
