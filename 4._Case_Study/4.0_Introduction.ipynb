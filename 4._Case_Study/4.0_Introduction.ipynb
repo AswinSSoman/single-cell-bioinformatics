{
 "cells": [
  {
   "cell_type": "markdown",
   "metadata": {},
   "source": [
    "# Case Study: Macaulay & Svensson, *Cell Reports* (2016)\n",
    "Olga: print this paper for people to have\n",
    "\n",
    "This \"Case Study\" is somewhat like a journal club except instead of just presenting the paper, we're going to re-work through some of these analyses ourselves and see how the interpretation of the data changes by using different algorithms\n",
    "\n",
    "We will be using In this paper, co-authors Macaulay and Svensson studied haematopoesis in Zebrafish by doing...\n",
    "\n",
    "* Clustered cells into groups (Figure 1)\n",
    "* Ordered them by psuedotime (Figure 2)\n",
    "* Showed expression of known (Figure 3) and novel (Figure 4) lineage markers\n",
    "* Found a novel early committed group in the kidney before circulation in the blood (Figure 5)\n",
    "* Identified genes that were differentially regulated over pseudotime (Figure 6)\n",
    "* Investigated usage of duplicated genes during thrombopoeisis (Figure 7)\n",
    "\n",
    "The computational scientist, [Valentine Svensson](http://nxn.se/), kindly provided the [notebooks and analyses on GitHub](https://github.com/Teichlab/spectrum-of-differentiation-supplements), and the exercises today are adapted from them. We're going to follow along, playing with different parameters as much as we can, until it gets to the very domain-specific analyses. The full set of notebooks are here:\n",
    "\n",
    "1. [Find state change clusters](macaulay2016/1. Find state change clusters.ipynb) (will do today, interactively)\n",
    "2. [Find cluster marker genes.ipynb](macaulay2016/2. Find cluster marker genes.ipynb)\n",
    "3. [Progression ordering and plots.ipynb](macaulay2016/3. Progression ordering and plots.ipynb) (will run today, but not suitable for interactivity)\n",
    "4. [Gaussian process pseudotime analysis.ipynb](macaulay2016/4. Gaussian process pseudotime analysis.ipynb)\n",
    "5. [Ohnolog taxonomy.ipynb](macaulay2016/5. Ohnolog taxonomy.ipynb)\n",
    "6. [Followup results.ipynb](macaulay2016/6. Followup results.ipynb)\n",
    "7. [Alternative pseudotime calculation.ipynb](macaulay2016/7. Alternative pseudotime calculation.ipynb)\n",
    "\n",
    "\n",
    "## [Click me to get started!](4.1_Case_Study.ipynb)\n",
    "\n",
    "## [Course feedback survey](https://docs.google.com/forms/d/1MY9ZHvMsYaORh7H_SAgSmCWlI0bDp28yfEj8kfr0kww/viewform)\n",
    "\n",
    "Once we're done with the day, please fill out the survey above."
   ]
  }
 ],
 "metadata": {
  "kernelspec": {
   "display_name": "Python 3",
   "language": "python",
   "name": "python3"
  },
  "language_info": {
   "codemirror_mode": {
    "name": "ipython",
    "version": 3
   },
   "file_extension": ".py",
   "mimetype": "text/x-python",
   "name": "python",
   "nbconvert_exporter": "python",
   "pygments_lexer": "ipython3",
   "version": "3.5.1"
  }
 },
 "nbformat": 4,
 "nbformat_minor": 0
}
