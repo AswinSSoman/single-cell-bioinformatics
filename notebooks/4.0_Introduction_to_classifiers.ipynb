{
 "cells": [
  {
   "cell_type": "markdown",
   "metadata": {},
   "source": [
    "# Asking hypothesis-driven questions\n",
    "\n",
    "\n",
    "![](figures/sklearn_ml_map.png)\n",
    "\n",
    "Up to now, we've discussed exploratory data analyses and used unsupervised machine learning to investigate the broad trends in our data.\n",
    "\n",
    "## Supervised learning\n",
    "\n",
    "So far we've talked only about *unsupervised* learning methods. Using hierarchical clustering or PCA/ICA/MDS/t-SNE, we didn't give the algorithm any knowledge about the groups we originally had. This is called \"unsupervised\" because the computer is playing around with the data on its own and you haven't told the program anything about *what* to look for, just to look.\n",
    "\n",
    "## Unsupervised learning\n",
    "\n",
    "Unsupervised learning is where you tell the machine learning algorithm the question you're looking for:\n",
    "\n",
    "* What genes tell group X and Y samples apart?\n",
    "* What genes change along differentiation?\n",
    "\n",
    "And then the algorithm goes and finds them. In this course we'll talk about two different kinds of supervised learning that are related to single-cell analysis.\n",
    "\n",
    "### Classifiers\n",
    "\n",
    "* Overfitting\n",
    "* [Support Vector Machines (SVMs)](../sklearn_tutorial/notebooks/03.1-Classification-SVMs.ipynb)\n",
    "* [DecisionTrees and their precocious sibling, Randomized Trees](../sklearn_tutorial/notebooks/03.2-Regression-Forests.ipynb)\n",
    "* [Applying classifiers to Shalek2013 and Macaulay2016 datasets with Gene Ontology](4.3_Apply_classifiers_to_Shalek2013_Macaulay2016_with_gene_ontology.ipynb)\n",
    "\n",
    "### Pseudotime ordering (next time)\n",
    "\n",
    "The pseudotime algorithms (that I know of) are all single-cell analysis specific, as in for biology and not for anything else.\n",
    "\n",
    "\n",
    "* Monocle\n",
    "* Wanderlust\n",
    "* Wishbone"
   ]
  }
 ],
 "metadata": {
  "kernelspec": {
   "display_name": "Python 3 (single-cell-bioinformatics)",
   "language": "python",
   "name": "python3"
  },
  "language_info": {
   "codemirror_mode": {
    "name": "ipython",
    "version": 3
   },
   "file_extension": ".py",
   "mimetype": "text/x-python",
   "name": "python",
   "nbconvert_exporter": "python",
   "pygments_lexer": "ipython3",
   "version": "3.5.1"
  }
 },
 "nbformat": 4,
 "nbformat_minor": 0
}
