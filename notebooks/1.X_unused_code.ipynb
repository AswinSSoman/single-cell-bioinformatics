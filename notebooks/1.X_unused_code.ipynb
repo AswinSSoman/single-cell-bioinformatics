{
 "cells": [
  {
   "cell_type": "markdown",
   "metadata": {},
   "source": [
    "Loading an Rdata file into a pandas dataframe"
   ]
  },
  {
   "cell_type": "code",
   "execution_count": null,
   "metadata": {
    "collapsed": true
   },
   "outputs": [],
   "source": [
    "from rpy2.robjects import pandas2ri\n",
    "pandas2ri.activate()\n",
    "\n",
    "import rpy2.robjects as robjects\n",
    "import pandas.rpy.common as com\n",
    "print(robjects.r.load(\"/Users/olga/workspace-git/HSMMSingleCell/data/HSMM_expr_matrix.rda\"))\n",
    "\n",
    "trapnell2014_expression = com.load_data('HSMM_expr_matrix')\n",
    "trapnell2014_expression.head()"
   ]
  }
 ],
 "metadata": {
  "kernelspec": {
   "display_name": "Python 3",
   "language": "python",
   "name": "python3"
  },
  "language_info": {
   "codemirror_mode": {
    "name": "ipython",
    "version": 3
   },
   "file_extension": ".py",
   "mimetype": "text/x-python",
   "name": "python",
   "nbconvert_exporter": "python",
   "pygments_lexer": "ipython3",
   "version": "3.5.1"
  }
 },
 "nbformat": 4,
 "nbformat_minor": 0
}
