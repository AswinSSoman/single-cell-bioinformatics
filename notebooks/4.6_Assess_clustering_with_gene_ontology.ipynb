{
 "cells": [
  {
   "cell_type": "markdown",
   "metadata": {},
   "source": [
    "# Applying classifiers to Shalek2013\n",
    "\n",
    "We're going to use the classifier knowledge that we've learned so far and apply it to the shalek2013 and macaulay2016 datasets.\n",
    "\n",
    "For the GO analysis, we'll need a few other packages:\n",
    "\n",
    "* `mygene` for looking up the gene ontology categories of genes\n",
    "* `goatools` for performing gene ontology enrichment analysis\n",
    "* `fishers_exact_test` for `goatools`\n",
    "\n",
    "Use the following commands at your terminal to install the packages. Some of them are on Github so it's important to get the whole command right.\n",
    "\n",
    "```\n",
    "$ pip install mygene\n",
    "$ pip install git+git://github.com/olgabot/goatools.git\n",
    "$ pip install git+https://github.com/brentp/fishers_exact_test.git\n",
    "```"
   ]
  },
  {
   "cell_type": "code",
   "execution_count": 3,
   "metadata": {
    "collapsed": false
   },
   "outputs": [],
   "source": [
    "# Alphabetical order is standard\n",
    "# We're doing \"import superlongname as abbrev\" for our laziness - this way we don't have to type out the whole thing each time.\n",
    "\n",
    "# Python plotting library\n",
    "import matplotlib.pyplot as plt\n",
    "\n",
    "# Numerical python library (pronounced \"num-pie\")\n",
    "import numpy as np\n",
    "\n",
    "# Dataframes in Python\n",
    "import pandas as pd\n",
    "\n",
    "# Statistical plotting library we'll use\n",
    "import seaborn as sns\n",
    "sns.set(style='whitegrid')\n",
    "\n",
    "# Label processing\n",
    "from sklearn import preprocessing\n",
    "\n",
    "# Matrix decomposition\n",
    "from sklearn.decomposition import PCA, FastICA\n",
    "\n",
    "# Classification\n",
    "from sklearn.svm import SVC\n",
    "\n",
    "# Gene ontology\n",
    "import goatools\n",
    "import mygene\n",
    "\n",
    "# This is necessary to show the plotted figures inside the notebook -- \"inline\" with the notebook cells\n",
    "%matplotlib inline\n"
   ]
  },
  {
   "cell_type": "markdown",
   "metadata": {},
   "source": [
    "Utility functions for gene ontology"
   ]
  },
  {
   "cell_type": "code",
   "execution_count": 4,
   "metadata": {
    "collapsed": true
   },
   "outputs": [],
   "source": [
    "GO_KEYS = 'go.BP', 'go.MF', 'go.CC'\n",
    "\n",
    "def parse_mygene_output(mygene_output):\n",
    "    \"\"\"Convert mygene.querymany output to a gene id to go term mapping (dictionary)\n",
    "    \n",
    "    Parameters\n",
    "    ----------\n",
    "    mygene_output : dict or list\n",
    "        Dictionary (returnall=True) or list (returnall=False) of \n",
    "        output from mygene.querymany\n",
    "        \n",
    "    Output\n",
    "    ------\n",
    "    gene_name_to_go : dict\n",
    "        Mapping of gene name to a set of GO ids    \n",
    "    \"\"\"\n",
    "    # if \"returnall=True\" was specified, need to get just the \"out\" key\n",
    "    if isinstance(mygene_output, dict):\n",
    "        mygene_output = mygene_output['out']\n",
    "\n",
    "    gene_name_to_go = collections.defaultdict(set)\n",
    "\n",
    "    for line in mygene_output:\n",
    "        gene_name = line['query']\n",
    "        for go_key in GO_KEYS:\n",
    "            try:\n",
    "                go_terms = line[go_key]\n",
    "            except KeyError:\n",
    "                continue\n",
    "            if isinstance(go_terms, dict):\n",
    "                go_ids = set([go_terms['id']])\n",
    "            else:\n",
    "                go_ids = set(x['id'] for x in go_terms)\n",
    "            gene_name_to_go[gene_name] |= go_ids\n",
    "    return gene_name_to_go\n"
   ]
  },
  {
   "cell_type": "markdown",
   "metadata": {},
   "source": [
    "## Read in the Shalek2013 data and classify it"
   ]
  },
  {
   "cell_type": "code",
   "execution_count": 5,
   "metadata": {
    "collapsed": false
   },
   "outputs": [
    {
     "data": {
      "text/plain": [
       "SVC(C=1.0, cache_size=200, class_weight=None, coef0=0.0,\n",
       "  decision_function_shape=None, degree=3, gamma='auto', kernel='linear',\n",
       "  max_iter=-1, probability=False, random_state=None, shrinking=True,\n",
       "  tol=0.001, verbose=False)"
      ]
     },
     "execution_count": 5,
     "metadata": {},
     "output_type": "execute_result"
    }
   ],
   "source": [
    "metadata = pd.read_csv('../data/shalek2013/metadata.csv', \n",
    "                               \n",
    "                                     # Sets the first (Python starts counting from 0 not 1) column as the row names\n",
    "                                      index_col=0)\n",
    "expression = pd.read_csv('../data/shalek2013/expression.csv', \n",
    "                               \n",
    "                                     # Sets the first (Python starts counting from 0 not 1) column as the row names\n",
    "                                      index_col=0)\n",
    "expression_feature = pd.read_csv('../data/shalek2013/expression_feature.csv', \n",
    "                               \n",
    "                                     # Sets the first (Python starts counting from 0 not 1) column as the row names\n",
    "                                      index_col=0)\n",
    "\n",
    "# creating new column indicating color\n",
    "metadata['color'] = metadata['maturity'].map(\n",
    "    lambda x: 'MediumTurquoise' if x == 'immature' else 'Teal')\n",
    "metadata.loc[metadata['pooled'], 'color'] = 'black'\n",
    "\n",
    "# Create a column indicating both maturity and pooled for coloring with seaborn, e.g. sns.pairplot\n",
    "metadata['group'] = metadata['maturity']\n",
    "metadata.loc[metadata['pooled'], 'group'] = 'pooled'\n",
    "\n",
    "# Create a palette and ordering for using with sns.pairplot\n",
    "palette = ['MediumTurquoise', 'Teal', 'black']\n",
    "order = ['immature', 'mature', 'pooled']\n",
    "\n",
    "\n",
    "singles_ids = [x for x in expression.index if x.startswith('S')]\n",
    "singles = expression.loc[singles_ids]\n",
    "\n",
    "# Use only the genes that are substantially expressed in single cells\n",
    "\n",
    "singles = singles.loc[:, (singles > 1).sum() >= 3]\n",
    "singles.shape\n",
    "\n",
    "# Now because computers only understand numbers, we'll convert the \n",
    "# category label of \"mature\" and \"immature\" into integers to a using a \n",
    "# `LabelEncoder`. Let's look at that column again, only for mature cells:\n",
    "\n",
    "singles_maturity = metadata.loc[singles.index, 'maturity']\n",
    "\n",
    "# Instantiate the encoder\n",
    "encoder = preprocessing.LabelEncoder()\n",
    "\n",
    "# Get number of categories and transform \"mature\"/\"immature\" to numbers\n",
    "target = encoder.fit_transform(singles_maturity)\n",
    "\n",
    "## Run the classifier!!\n",
    "\n",
    "# Yay so now we can run a classifier!\n",
    "\n",
    "\n",
    "classifier = SVC(kernel='linear')\n",
    "classifier.fit(singles, target)"
   ]
  },
  {
   "cell_type": "markdown",
   "metadata": {},
   "source": [
    "### Make the `coefficients` series"
   ]
  },
  {
   "cell_type": "code",
   "execution_count": 6,
   "metadata": {
    "collapsed": false
   },
   "outputs": [
    {
     "name": "stderr",
     "output_type": "stream",
     "text": [
      "/Users/olga/anaconda3/envs/single-cell-bioinformatics/lib/python3.5/site-packages/pandas/types/dtypes.py:127: FutureWarning: elementwise comparison failed; returning scalar instead, but in the future will perform elementwise comparison\n",
      "  if string == 'category':\n"
     ]
    },
    {
     "data": {
      "text/plain": [
       "NPL        -1.387786e-04\n",
       "QK          1.543810e-04\n",
       "AK163153    3.543145e-04\n",
       "AGPAT4     -4.594230e-04\n",
       "IGF2R       2.282964e-07\n",
       "dtype: float64"
      ]
     },
     "execution_count": 6,
     "metadata": {},
     "output_type": "execute_result"
    }
   ],
   "source": [
    "coefficients = pd.Series(classifier.coef_.flat, index=singles.columns)\n",
    "coefficients.head()"
   ]
  },
  {
   "cell_type": "markdown",
   "metadata": {},
   "source": [
    "Let's remind ourselves of the distribution of the coefficients again"
   ]
  },
  {
   "cell_type": "code",
   "execution_count": 7,
   "metadata": {
    "collapsed": false
   },
   "outputs": [
    {
     "name": "stderr",
     "output_type": "stream",
     "text": [
      "/Users/olga/anaconda3/envs/single-cell-bioinformatics/lib/python3.5/site-packages/statsmodels/nonparametric/kdetools.py:20: VisibleDeprecationWarning: using a non-integer number instead of an integer will result in an error in the future\n",
      "  y = X[:m/2+1] + np.r_[0,X[m/2+1:],0]*1j\n"
     ]
    },
    {
     "data": {
      "text/plain": [
       "<matplotlib.collections.LineCollection at 0x111be4eb8>"
      ]
     },
     "execution_count": 7,
     "metadata": {},
     "output_type": "execute_result"
    },
    {
     "name": "stderr",
     "output_type": "stream",
     "text": [
      "/Users/olga/anaconda3/envs/single-cell-bioinformatics/lib/python3.5/site-packages/matplotlib/figure.py:1744: UserWarning: This figure includes Axes that are not compatible with tight_layout, so its results might be incorrect.\n",
      "  warnings.warn(\"This figure includes Axes that are not \"\n"
     ]
    },
    {
     "data": {
      "image/png": "[encoded data removed]",
      "text/plain": [
       "<matplotlib.figure.Figure at 0x111be4da0>"
      ]
     },
     "metadata": {},
     "output_type": "display_data"
    }
   ],
   "source": [
    "mean = coefficients.mean()\n",
    "std = coefficients.std()\n",
    "multiplier = 2\n",
    "lower_cutoff = mean - multiplier * std\n",
    "upper_cutoff = mean + multiplier * std\n",
    "\n",
    "fig, ax = plt.subplots()\n",
    "sns.distplot(coefficients)\n",
    "\n",
    "# Add vertical lines\n",
    "ymin, ymax = ax.get_ylim()\n",
    "ax.vlines([lower_cutoff, upper_cutoff], ymin, ymax, linestyle='--', color='Crimson')"
   ]
  },
  {
   "cell_type": "code",
   "execution_count": 15,
   "metadata": {
    "collapsed": false
   },
   "outputs": [
    {
     "name": "stdout",
     "output_type": "stream",
     "text": [
      "(172,)\n"
     ]
    },
    {
     "data": {
      "text/plain": [
       "FPR1    -0.000507\n",
       "FPR2    -0.000580\n",
       "PRDX6   -0.000543\n",
       "MYO1F   -0.000872\n",
       "TNF     -0.000727\n",
       "dtype: float64"
      ]
     },
     "execution_count": 15,
     "metadata": {},
     "output_type": "execute_result"
    }
   ],
   "source": [
    "below_cutoff = coefficients[coefficients < lower_cutoff]\n",
    "print(below_cutoff.shape)\n",
    "below_cutoff.head()"
   ]
  },
  {
   "cell_type": "markdown",
   "metadata": {},
   "source": [
    "How can we ***biologically*** assess what genes are found by our classifier? One way is through Gene Ontology enrichment"
   ]
  },
  {
   "cell_type": "markdown",
   "metadata": {},
   "source": [
    "## Evaluating classifiers through Gene Ontology (GO) Enrichment\n",
    "\n",
    "Gene ontology is a tree (aka directed acyclic graph or \"dag\") of gene annotations. The topmost node is the most general, and the bottommost nodes are the most specific. Here is an example GO graph.\n",
    "\n",
    "![](figures/example_go_graph.png)\n",
    "\n",
    "Three GO Domains:\n",
    "\n",
    "* Cellular Component (CC)\n",
    "* Molecular Function (MF)\n",
    "* Biological Process (BP)"
   ]
  },
  {
   "cell_type": "markdown",
   "metadata": {},
   "source": [
    "### Perform GO enrichment analysis (GOEA)\n",
    "\n",
    "\n",
    "#### GOEA Step 1: Download GO graph file of \"obo\" type (same for all species)\n",
    "\n",
    "This will download the file `\"go-basic.obo\"` if it doesn't already exist. This only needs to be done once."
   ]
  },
  {
   "cell_type": "code",
   "execution_count": 8,
   "metadata": {
    "collapsed": false
   },
   "outputs": [
    {
     "name": "stdout",
     "output_type": "stream",
     "text": [
      "  EXISTS: go-basic.obo\n"
     ]
    },
    {
     "data": {
      "text/plain": [
       "'go-basic.obo'"
      ]
     },
     "execution_count": 8,
     "metadata": {},
     "output_type": "execute_result"
    }
   ],
   "source": [
    "from goatools.base import download_go_basic_obo\n",
    "obo_fname = download_go_basic_obo()\n",
    "\n",
    "# Show the filename\n",
    "obo_fname"
   ]
  },
  {
   "cell_type": "markdown",
   "metadata": {},
   "source": [
    "#### GOEA Step 2: Create the GO graph (same for all species)\n",
    "\n",
    "(this may take some time to build the graph)"
   ]
  },
  {
   "cell_type": "code",
   "execution_count": 10,
   "metadata": {
    "collapsed": false
   },
   "outputs": [
    {
     "name": "stderr",
     "output_type": "stream",
     "text": [
      "load obo file go-basic.obo\n"
     ]
    },
    {
     "name": "stdout",
     "output_type": "stream",
     "text": [
      "go-basic.obo: format-version(1.2) data-version(releases/2016-06-15)\n"
     ]
    },
    {
     "name": "stderr",
     "output_type": "stream",
     "text": [
      "46823 nodes imported\n"
     ]
    }
   ],
   "source": [
    "obo_dag = goatools.obo_parser.GODag(obo_file=obo_fname)"
   ]
  },
  {
   "cell_type": "markdown",
   "metadata": {},
   "source": [
    "#### GOEA Step 3: Get gene ID to GO id mapping (species-specific and experiment-specific)\n",
    "\n",
    "Here we are establishing the background for our GOEA. Defining your background is **very important** because, for example, tehre are lots of neural genes so if you use all human genes as background in your study of which genes are upregulated in Neuron Type X vs Neuron Type Y, you'll get a bunch of neuron genes (which is true) but not the smaller differences between X and Y. Typicall, you use *all expressed genes* as the background.\n",
    "\n",
    "For our data, we can access all expressed genes very simply by getting the column names in the dataframe: `singles.columns`, which is the dataframe we used for classifying and shows *all expressed genes in single cells.* This will be our background."
   ]
  },
  {
   "cell_type": "code",
   "execution_count": 12,
   "metadata": {
    "collapsed": false
   },
   "outputs": [
    {
     "name": "stdout",
     "output_type": "stream",
     "text": [
      "querying 1-1000...done.\n",
      "querying 1001-2000...done.\n",
      "querying 2001-3000...done.\n",
      "querying 3001-4000...done.\n",
      "querying 4001-5000...done.\n",
      "querying 5001-6000...done.\n",
      "querying 6001-6013...done.\n",
      "Finished.\n",
      "107 input query terms found dup hits:\n",
      "\t[('C330024D21RIK', 2), ('A230072C01RIK', 2), ('MARCKSL1-PS4', 2), ('SLFN10-PS', 2), ('GM9104', 2), (\n",
      "737 input query terms found no hit:\n",
      "\t['AK163153', 'AK036897', 'AK138383', 'AK164875', 'AK043564', 'AK134158', 'GM4769', '1110058L19RIK', \n"
     ]
    }
   ],
   "source": [
    "# Initialize the \"mygene.info\" (http://mygene.info/) interface\n",
    "mg = mygene.MyGeneInfo()\n",
    "\n",
    "mygene_output = mg.querymany(singles.columns, \n",
    "                             scopes='symbol', fields=['go.BP', 'go.MF', 'go.CC'], species='mouse', \n",
    "                             returnall=True)\n",
    "\n",
    "gene_name_to_go = parse_mygene_output(mygene_output)"
   ]
  },
  {
   "cell_type": "markdown",
   "metadata": {},
   "source": [
    "#### GOEA Step 4: Create a GO enrichment calculator object `go_enricher` (species- and experiment-specific)\n",
    "\n",
    "In this step, we are using the two objects we've created (`obo_dag` from Step 2 and `gene_name_to_go` from Step 3) plus the gene ids to create a `go_enricher` object"
   ]
  },
  {
   "cell_type": "code",
   "execution_count": 13,
   "metadata": {
    "collapsed": false
   },
   "outputs": [
    {
     "name": "stderr",
     "output_type": "stream",
     "text": [
      "Propagating term counts to parents ..\n"
     ]
    },
    {
     "name": "stdout",
     "output_type": "stream",
     "text": [
      " 5,203 out of  6,013 population items found in association\n"
     ]
    }
   ],
   "source": [
    "go_enricher = goatools.GOEnrichmentStudy(singles.columns, gene_name_to_go, obo_dag)"
   ]
  },
  {
   "cell_type": "markdown",
   "metadata": {},
   "source": [
    "#### GOEA Step 5: Calculate go enrichment!!! (species- and experiment-specific)\n",
    "\n",
    "Now we are ready to run go enrichment!! Let's take our enriched genes of interest and run the enrichment analysis!"
   ]
  },
  {
   "cell_type": "code",
   "execution_count": 20,
   "metadata": {
    "collapsed": false
   },
   "outputs": [
    {
     "name": "stdout",
     "output_type": "stream",
     "text": [
      "Calculating uncorrected p-values using fisher\n",
      "   158 out of    172 study items found in association\n",
      "Running multitest correction: local bonferroni\n",
      "Running multitest correction: local sidak\n",
      "Running multitest correction: local holm\n",
      "15,184 GO terms are associated with 158 of 172 study items in a population of 6,013\n",
      "(15184, 18)\n"
     ]
    },
    {
     "data": {
      "text/html": [
       "<div>\n",
       "<table border=\"1\" class=\"dataframe\">\n",
       "  <thead>\n",
       "    <tr style=\"text-align: right;\">\n",
       "      <th></th>\n",
       "      <th>GO</th>\n",
       "      <th>NS</th>\n",
       "      <th>_methods</th>\n",
       "      <th>enrichment</th>\n",
       "      <th>goterm</th>\n",
       "      <th>name</th>\n",
       "      <th>p_bonferroni</th>\n",
       "      <th>p_holm</th>\n",
       "      <th>p_sidak</th>\n",
       "      <th>p_uncorrected</th>\n",
       "      <th>pop_count</th>\n",
       "      <th>pop_items</th>\n",
       "      <th>pop_n</th>\n",
       "      <th>ratio_in_pop</th>\n",
       "      <th>ratio_in_study</th>\n",
       "      <th>study_count</th>\n",
       "      <th>study_items</th>\n",
       "      <th>study_n</th>\n",
       "    </tr>\n",
       "  </thead>\n",
       "  <tbody>\n",
       "    <tr>\n",
       "      <th>0</th>\n",
       "      <td>GO:0050715</td>\n",
       "      <td>BP</td>\n",
       "      <td>[(local, bonferroni, bonferroni), (local, sida...</td>\n",
       "      <td>e</td>\n",
       "      <td>GO:0050715\\tlevel-06\\tdepth-09\\tpositive regul...</td>\n",
       "      <td>positive regulation of cytokine secretion</td>\n",
       "      <td>0.002858</td>\n",
       "      <td>0.002858</td>\n",
       "      <td>0.002786</td>\n",
       "      <td>1.882570e-07</td>\n",
       "      <td>42</td>\n",
       "      <td>{NLRP1A, IFNAR1, UNC93B1, CD274, MIF, TNFSF15,...</td>\n",
       "      <td>6013</td>\n",
       "      <td>(42, 6013)</td>\n",
       "      <td>(12, 172)</td>\n",
       "      <td>12</td>\n",
       "      <td>{CLEC5A, CLEC4E, CD84, CSF1R, TLR2, TNF, CLEC4...</td>\n",
       "      <td>172</td>\n",
       "    </tr>\n",
       "    <tr>\n",
       "      <th>1</th>\n",
       "      <td>GO:0070372</td>\n",
       "      <td>BP</td>\n",
       "      <td>[(local, bonferroni, bonferroni), (local, sida...</td>\n",
       "      <td>e</td>\n",
       "      <td>GO:0070372\\tlevel-07\\tdepth-10\\tregulation of ...</td>\n",
       "      <td>regulation of ERK1 and ERK2 cascade</td>\n",
       "      <td>0.004224</td>\n",
       "      <td>0.004224</td>\n",
       "      <td>0.004118</td>\n",
       "      <td>2.782195e-07</td>\n",
       "      <td>79</td>\n",
       "      <td>{CLCF1, FN1, TIRAP, TREM2, CCL4, MIF, SLC9A3R1...</td>\n",
       "      <td>6013</td>\n",
       "      <td>(79, 6013)</td>\n",
       "      <td>(13, 172)</td>\n",
       "      <td>13</td>\n",
       "      <td>{C5AR1, CCR1, DAB2, CCL4, TREM2, DYNLT1B, CSF1...</td>\n",
       "      <td>172</td>\n",
       "    </tr>\n",
       "    <tr>\n",
       "      <th>2</th>\n",
       "      <td>GO:0050727</td>\n",
       "      <td>BP</td>\n",
       "      <td>[(local, bonferroni, bonferroni), (local, sida...</td>\n",
       "      <td>e</td>\n",
       "      <td>GO:0050727\\tlevel-05\\tdepth-06\\tregulation of ...</td>\n",
       "      <td>regulation of inflammatory response</td>\n",
       "      <td>0.004417</td>\n",
       "      <td>0.004416</td>\n",
       "      <td>0.004306</td>\n",
       "      <td>2.909038e-07</td>\n",
       "      <td>107</td>\n",
       "      <td>{GBP5, CCR2, SIGLECE, SPN, METRNL, NFKB1, CASP...</td>\n",
       "      <td>6013</td>\n",
       "      <td>(107, 6013)</td>\n",
       "      <td>(15, 172)</td>\n",
       "      <td>15</td>\n",
       "      <td>{ACP5, CCL4, IL1R2, FCGR2B, FCGR3, PYCARD, TLR...</td>\n",
       "      <td>172</td>\n",
       "    </tr>\n",
       "    <tr>\n",
       "      <th>3</th>\n",
       "      <td>GO:0032760</td>\n",
       "      <td>BP</td>\n",
       "      <td>[(local, bonferroni, bonferroni), (local, sida...</td>\n",
       "      <td>e</td>\n",
       "      <td>GO:0032760\\tlevel-07\\tdepth-07\\tpositive regul...</td>\n",
       "      <td>positive regulation of tumor necrosis factor p...</td>\n",
       "      <td>0.004587</td>\n",
       "      <td>0.004586</td>\n",
       "      <td>0.004471</td>\n",
       "      <td>3.021031e-07</td>\n",
       "      <td>44</td>\n",
       "      <td>{TICAM1, TIRAP, CCR2, CCL4, SPN, FCGR3, SASH3,...</td>\n",
       "      <td>6013</td>\n",
       "      <td>(44, 6013)</td>\n",
       "      <td>(10, 172)</td>\n",
       "      <td>10</td>\n",
       "      <td>{CCL4, HSPD1, CD84, FCGR3, PYCARD, TLR2, CCL2,...</td>\n",
       "      <td>172</td>\n",
       "    </tr>\n",
       "    <tr>\n",
       "      <th>4</th>\n",
       "      <td>GO:0045087</td>\n",
       "      <td>BP</td>\n",
       "      <td>[(local, bonferroni, bonferroni), (local, sida...</td>\n",
       "      <td>e</td>\n",
       "      <td>GO:0045087\\tlevel-03\\tdepth-04\\tinnate immune ...</td>\n",
       "      <td>innate immune response</td>\n",
       "      <td>0.004627</td>\n",
       "      <td>0.004625</td>\n",
       "      <td>0.004510</td>\n",
       "      <td>3.047053e-07</td>\n",
       "      <td>154</td>\n",
       "      <td>{IL1F9, HCK, NFKB1, SLPI, CYBA, RPL39, SH2D1B1...</td>\n",
       "      <td>6013</td>\n",
       "      <td>(154, 6013)</td>\n",
       "      <td>(19, 172)</td>\n",
       "      <td>19</td>\n",
       "      <td>{CLEC5A, CLEC4E, TREM2, CD84, CD14, CSF1R, TLR...</td>\n",
       "      <td>172</td>\n",
       "    </tr>\n",
       "  </tbody>\n",
       "</table>\n",
       "</div>"
      ],
      "text/plain": [
       "           GO  NS                                           _methods  \\\n",
       "0  GO:0050715  BP  [(local, bonferroni, bonferroni), (local, sida...   \n",
       "1  GO:0070372  BP  [(local, bonferroni, bonferroni), (local, sida...   \n",
       "2  GO:0050727  BP  [(local, bonferroni, bonferroni), (local, sida...   \n",
       "3  GO:0032760  BP  [(local, bonferroni, bonferroni), (local, sida...   \n",
       "4  GO:0045087  BP  [(local, bonferroni, bonferroni), (local, sida...   \n",
       "\n",
       "  enrichment                                             goterm  \\\n",
       "0          e  GO:0050715\\tlevel-06\\tdepth-09\\tpositive regul...   \n",
       "1          e  GO:0070372\\tlevel-07\\tdepth-10\\tregulation of ...   \n",
       "2          e  GO:0050727\\tlevel-05\\tdepth-06\\tregulation of ...   \n",
       "3          e  GO:0032760\\tlevel-07\\tdepth-07\\tpositive regul...   \n",
       "4          e  GO:0045087\\tlevel-03\\tdepth-04\\tinnate immune ...   \n",
       "\n",
       "                                                name  p_bonferroni    p_holm  \\\n",
       "0          positive regulation of cytokine secretion      0.002858  0.002858   \n",
       "1                regulation of ERK1 and ERK2 cascade      0.004224  0.004224   \n",
       "2                regulation of inflammatory response      0.004417  0.004416   \n",
       "3  positive regulation of tumor necrosis factor p...      0.004587  0.004586   \n",
       "4                             innate immune response      0.004627  0.004625   \n",
       "\n",
       "    p_sidak  p_uncorrected  pop_count  \\\n",
       "0  0.002786   1.882570e-07         42   \n",
       "1  0.004118   2.782195e-07         79   \n",
       "2  0.004306   2.909038e-07        107   \n",
       "3  0.004471   3.021031e-07         44   \n",
       "4  0.004510   3.047053e-07        154   \n",
       "\n",
       "                                           pop_items  pop_n ratio_in_pop  \\\n",
       "0  {NLRP1A, IFNAR1, UNC93B1, CD274, MIF, TNFSF15,...   6013   (42, 6013)   \n",
       "1  {CLCF1, FN1, TIRAP, TREM2, CCL4, MIF, SLC9A3R1...   6013   (79, 6013)   \n",
       "2  {GBP5, CCR2, SIGLECE, SPN, METRNL, NFKB1, CASP...   6013  (107, 6013)   \n",
       "3  {TICAM1, TIRAP, CCR2, CCL4, SPN, FCGR3, SASH3,...   6013   (44, 6013)   \n",
       "4  {IL1F9, HCK, NFKB1, SLPI, CYBA, RPL39, SH2D1B1...   6013  (154, 6013)   \n",
       "\n",
       "  ratio_in_study  study_count  \\\n",
       "0      (12, 172)           12   \n",
       "1      (13, 172)           13   \n",
       "2      (15, 172)           15   \n",
       "3      (10, 172)           10   \n",
       "4      (19, 172)           19   \n",
       "\n",
       "                                         study_items  study_n  \n",
       "0  {CLEC5A, CLEC4E, CD84, CSF1R, TLR2, TNF, CLEC4...      172  \n",
       "1  {C5AR1, CCR1, DAB2, CCL4, TREM2, DYNLT1B, CSF1...      172  \n",
       "2  {ACP5, CCL4, IL1R2, FCGR2B, FCGR3, PYCARD, TLR...      172  \n",
       "3  {CCL4, HSPD1, CD84, FCGR3, PYCARD, TLR2, CCL2,...      172  \n",
       "4  {CLEC5A, CLEC4E, TREM2, CD84, CD14, CSF1R, TLR...      172  "
      ]
     },
     "execution_count": 20,
     "metadata": {},
     "output_type": "execute_result"
    }
   ],
   "source": [
    "genes_of_interest = below_cutoff.index\n",
    "\n",
    "# \"results\" is a list and is annoying to deal with ... \n",
    "# ... so we'll make a dataframe in the next step\n",
    "results = go_enricher.run_study(genes_of_interest)\n",
    "\n",
    "# Create a dataframe of the results so it's easier to deal with\n",
    "below_cutoff_go_enrichment = pd.DataFrame([r.__dict__ for r in results])\n",
    "print(below_cutoff_go_enrichment.shape)\n",
    "below_cutoff_go_enrichment.head()"
   ]
  },
  {
   "cell_type": "markdown",
   "metadata": {},
   "source": [
    "Now we're going to ..... say it with me ...... **add a column!** that is the negative log10 of the p-value so it's easier to plot and deal with."
   ]
  },
  {
   "cell_type": "code",
   "execution_count": null,
   "metadata": {
    "collapsed": false
   },
   "outputs": [],
   "source": [
    "below_cutoff_go_enrichment['log10_p_bonferroni'] = -np.log10(below_cutoff_go_enrichment['p_bonferroni'])\n",
    "print(below_cutoff_go_enrichment.shape)\n",
    "below_cutoff_go_enrichment.head()"
   ]
  },
  {
   "cell_type": "markdown",
   "metadata": {},
   "source": [
    "Let's make sure this dataframe is sorted in order of enrichment. By default, this is sorting in *ascending* order, and we want the most enriched to be at the top, so let's say `ascending=False`."
   ]
  },
  {
   "cell_type": "code",
   "execution_count": null,
   "metadata": {
    "collapsed": false
   },
   "outputs": [],
   "source": [
    "below_cutoff_go_enrichment = below_cutoff_go_enrichment.sort_values('log10_p_bonferroni', ascending=False)\n",
    "print(below_cutoff_go_enrichment.shape)\n",
    "below_cutoff_go_enrichment.head()"
   ]
  },
  {
   "cell_type": "markdown",
   "metadata": {},
   "source": [
    "Let's look at the distribution of the log10 p-values"
   ]
  },
  {
   "cell_type": "code",
   "execution_count": 31,
   "metadata": {
    "collapsed": false
   },
   "outputs": [
    {
     "name": "stderr",
     "output_type": "stream",
     "text": [
      "/Users/olga/anaconda3/envs/single-cell-bioinformatics/lib/python3.5/site-packages/statsmodels/nonparametric/kdetools.py:20: VisibleDeprecationWarning: using a non-integer number instead of an integer will result in an error in the future\n",
      "  y = X[:m/2+1] + np.r_[0,X[m/2+1:],0]*1j\n"
     ]
    },
    {
     "data": {
      "text/plain": [
       "<matplotlib.axes._subplots.AxesSubplot at 0x115e9a7f0>"
      ]
     },
     "execution_count": 31,
     "metadata": {},
     "output_type": "execute_result"
    },
    {
     "name": "stderr",
     "output_type": "stream",
     "text": [
      "/Users/olga/anaconda3/envs/single-cell-bioinformatics/lib/python3.5/site-packages/matplotlib/figure.py:1744: UserWarning: This figure includes Axes that are not compatible with tight_layout, so its results might be incorrect.\n",
      "  warnings.warn(\"This figure includes Axes that are not \"\n"
     ]
    },
    {
     "data": {
      "image/png": "[encoded data removed]",
      "text/plain": [
       "<matplotlib.figure.Figure at 0x115fed860>"
      ]
     },
     "metadata": {},
     "output_type": "display_data"
    }
   ],
   "source": [
    "sns.distplot(below_cutoff_go_enrichment['log10_p_bonferroni'])"
   ]
  },
  {
   "cell_type": "markdown",
   "metadata": {},
   "source": [
    "Now we can also plot this data! Let's just take a subset, say the first 10 and look at the distribution of p-values here."
   ]
  },
  {
   "cell_type": "code",
   "execution_count": null,
   "metadata": {
    "collapsed": true
   },
   "outputs": [],
   "source": [
    "below_cutoff_go_enrichment_subset = below_cutoff_go_enrichment.iloc[:10, :]\n",
    "\n",
    "sns.distplot(below_cutoff_go_enrichment_subset['log10_p_bonferroni'])"
   ]
  },
  {
   "cell_type": "markdown",
   "metadata": {},
   "source": [
    "Now let's plot the GO categories! We want to make sure they stay in the highest-lowest order by specifying \"order\" (otherwise they will be alphabetical!)"
   ]
  },
  {
   "cell_type": "code",
   "execution_count": 33,
   "metadata": {
    "collapsed": false
   },
   "outputs": [
    {
     "data": {
      "text/plain": [
       "<matplotlib.axes._subplots.AxesSubplot at 0x104fb4be0>"
      ]
     },
     "execution_count": 33,
     "metadata": {},
     "output_type": "execute_result"
    },
    {
     "name": "stderr",
     "output_type": "stream",
     "text": [
      "/Users/olga/anaconda3/envs/single-cell-bioinformatics/lib/python3.5/site-packages/matplotlib/figure.py:1744: UserWarning: This figure includes Axes that are not compatible with tight_layout, so its results might be incorrect.\n",
      "  warnings.warn(\"This figure includes Axes that are not \"\n"
     ]
    },
    {
     "data": {
      "image/png": "[encoded data removed]",
      "text/plain": [
       "<matplotlib.figure.Figure at 0x11d9dd9e8>"
      ]
     },
     "metadata": {},
     "output_type": "display_data"
    }
   ],
   "source": [
    "order = below_cutoff_go_enrichment_subset['name']\n",
    "\n",
    "fig, ax = plt.subplots()\n",
    "sns.barplot(x='log10_p_bonferroni', y='name', data=below_cutoff_go_enrichment_subset, orient='h', order=order)\n",
    "fig.savefig(\"below_cutoff_go_enrichment.pdf\")"
   ]
  },
  {
   "cell_type": "markdown",
   "metadata": {
    "collapsed": false
   },
   "source": [
    "### Exercise\n",
    "\n",
    "1. Perform GO enrichment on the genes ABOVE the upper cutoff.\n",
    "2. Plot the enrichment as a bar graph.\n",
    "4. Try using only the LPS response genes for classification, and calculate GO enrichment on those, too. Do you have to change the background as well?\n",
    "\n",
    "Use the cells below."
   ]
  },
  {
   "cell_type": "code",
   "execution_count": null,
   "metadata": {
    "collapsed": true
   },
   "outputs": [],
   "source": [
    "# YOUR CODE HERE"
   ]
  },
  {
   "cell_type": "code",
   "execution_count": null,
   "metadata": {
    "collapsed": true
   },
   "outputs": [],
   "source": [
    "# YOUR CODE HERE"
   ]
  },
  {
   "cell_type": "code",
   "execution_count": null,
   "metadata": {
    "collapsed": true
   },
   "outputs": [],
   "source": [
    "# YOUR CODE HERE"
   ]
  }
 ],
 "metadata": {
  "kernelspec": {
   "display_name": "Python 3 (single-cell-bioinformatics)",
   "language": "python",
   "name": "python3"
  },
  "language_info": {
   "codemirror_mode": {
    "name": "ipython",
    "version": 3
   },
   "file_extension": ".py",
   "mimetype": "text/x-python",
   "name": "python",
   "nbconvert_exporter": "python",
   "pygments_lexer": "ipython3",
   "version": "3.5.1"
  }
 },
 "nbformat": 4,
 "nbformat_minor": 0
}
