{
 "cells": [
  {
   "cell_type": "markdown",
   "metadata": {},
   "source": [
    "# Exploratory analyses in Macaulay 2016\n",
    "\n"
   ]
  },
  {
   "cell_type": "markdown",
   "metadata": {},
   "source": [
    "## Figure 1\n",
    "\n",
    "**A.** In this study, the authors focused on \"thrombocytes,\" which are the equivalent of megakaryotes in fish, and are marked by expression of CD41. TThey performed single-cell RNA-seq on FACS-sorted GFP+ cells from a CD41:EGFP transgenic fish, using the C1, aligning to the genome using STAR and used Salmon to quantify gene expression. <br>\n",
    "**B.** They then performed ICA and did t-SNE on the (4) ICA components! They're colored by whether this was a high or low GFP expressing cell.<br>\n",
    "**C.** They then clustered the cells into groups by cutting a hierarchical clustering tree.\n",
    "\n",
    "![Figure 1](figures/figure1.png)\n",
    "\n",
    "Let's dig into this a little deeper. What if they did PCA instead of ICA? Or MDS instead of t-SNE? Or no previous filtering before t-SNE? How did they define their clusters?\n",
    "\n",
    "Make a directory for saving the figures"
   ]
  },
  {
   "cell_type": "code",
   "execution_count": null,
   "metadata": {
    "collapsed": false
   },
   "outputs": [],
   "source": [
    "mkdir figures"
   ]
  },
  {
   "cell_type": "markdown",
   "metadata": {},
   "source": [
    "Load all Python libraries and the data."
   ]
  },
  {
   "cell_type": "code",
   "execution_count": null,
   "metadata": {
    "collapsed": false
   },
   "outputs": [],
   "source": [
    "# Must be the first import for compatibility reasons\n",
    "from __future__ import print_function\n",
    "\n",
    "# Alphabetical order of modules is convention\n",
    "import ipywidgets\n",
    "import matplotlib.pyplot as plt\n",
    "import numpy as np\n",
    "import pandas as pd\n",
    "from scipy import linalg\n",
    "from scipy.cluster.hierarchy import dendrogram\n",
    "import seaborn as sns\n",
    "from sklearn.decomposition import FastICA, PCA\n",
    "from sklearn.manifold import TSNE, MDS\n",
    "\n",
    "\n",
    "# Use plotting settings that I like\n",
    "sns.set(style='white', context='talk')\n",
    "%matplotlib inline\n",
    "\n",
    "\n",
    "genes = pd.read_csv('macaulay2016/gene_expression_s.csv', index_col=0).sort_index(0).sort_index(1)\n",
    "sample_data = pd.read_csv('macaulay2016/sample_info_qc.csv', index_col=0).sort_index(0).sort_index(1)\n",
    "\n",
    "genes = genes.ix[:, sample_data[sample_data[\"Pass QC\"]].index]\n",
    "sample_data = sample_data[sample_data[\"Pass QC\"]]\n",
    "sample_data['condition_color'] = ['#31a354' if c == 'HIGH' else '#e5f5e0' for c in sample_data['condition']]\n",
    "\n",
    "\n",
    "ercc_idx = filter(lambda i: 'ERCC' in i, genes.index)\n",
    "egenes = genes.drop(ercc_idx)\n",
    "egenes = egenes.drop('GFP')\n",
    "\n",
    "egenes = (egenes / egenes.sum()) * 1e6\n",
    "\n",
    "mask = (egenes > 1).sum(1) > 2\n",
    "egenes = egenes.ix[mask]\n",
    "original_expression_data = np.log10(egenes.T + 1).copy()\n",
    "\n",
    "gene_annotation = pd.read_csv('macaulay2016/zv9_gene_annotation.txt', sep='\\t', index_col=0)\n",
    "gene_annotation = gene_annotation.ix[egenes.index]\n",
    "\n",
    "# --- Read their supplemental data to get the assigned clusters from the paper, for comparison --- #\n",
    "supplemental_data_sample_info = pd.read_csv('supplementary-data-1-sample-info/original_experiment_sample_info.csv', index_col=0)\n",
    "# Convert the string of tuples into a (r,g,b) tuple for matplotlib\n",
    "supplemental_data_sample_info['cluster_color'] = supplemental_data_sample_info['cluster_color'].map(eval)\n",
    "supplemental_data_sample_info = supplemental_data_sample_info.reindex(index=original_expression_data.index)"
   ]
  },
  {
   "cell_type": "markdown",
   "metadata": {},
   "source": [
    "Interactive function for trying dimensionality reduction and different components.\n",
    "\n",
    "They said to pick their cutoff they used the frobenius norm reconstruction error, meaning, the difference between the ICA- or PCA-predicted matrix given the number of components, versus the original matrix, which we will plot as well. "
   ]
  },
  {
   "cell_type": "code",
   "execution_count": null,
   "metadata": {
    "collapsed": false
   },
   "outputs": [],
   "source": [
    "# For comparison, get the norm of the two matrices compared to if you added 1 to all values in the data\n",
    "# (different points in euclidean space)\n",
    "reconstruct_norm_within_one = np.linalg.norm(original_expression_data - (original_expression_data+1), 'fro')\n",
    "\n",
    "\n",
    "def explore_matrix_decomposition(algorithm, n_components, color_by):\n",
    "    \n",
    "    if algorithm == 'ICA':\n",
    "        reducer = FastICA(n_components, random_state=3984)\n",
    "    elif algorithm == 'PCA':\n",
    "        reducer = PCA(n_components)\n",
    "\n",
    "    Y = reducer.fit_transform(original_expression_data.copy())\n",
    "\n",
    "    XX = pd.DataFrame(Y, index=egenes.columns)\n",
    "    if n_components == 4 and algorithm == 'ICA':\n",
    "        XX.columns = ['difference_component', 'within_small_component', 'outlier_component', 'within_large_component']\n",
    "\n",
    "    if color_by == 'EGFP':\n",
    "        color = sample_data['condition_color']\n",
    "    elif color_by == 'Cluster assignment':\n",
    "        color = supplemental_data_sample_info['cluster_color']\n",
    "    \n",
    "    g = sns.PairGrid(XX)\n",
    "    g.map(plt.scatter, color=color, linewidths=0.25, edgecolors='k', s=50)\n",
    "\n",
    "    # Reduce the number of ticks\n",
    "    for ax in g.axes.flat:\n",
    "        ax.locator_params(nbins=4)\n",
    "    \n",
    "    # --- Get how well this number of components reconstructs the original data --- #\n",
    "    reconstruction_norms = []\n",
    "    for i in range(1, n_components+1):\n",
    "        reconstructed = pd.DataFrame(XX.values[:, :i].dot(reducer.components_[:i, :]), \n",
    "                                     index=original_expression_data.index, \n",
    "                                     columns=original_expression_data.columns)\n",
    "\n",
    "        reconstruction_error = original_expression_data.subtract(reconstructed).abs()\n",
    "        reconstruction_norms.append(np.linalg.norm(reconstruction_error))\n",
    "\n",
    "    reconstruction_norms = np.array(reconstruction_norms)\n",
    "    print('reconstruction norms:', reconstruction_norms)\n",
    "    print('Compared to the difference between the original matrix +1:', reconstruct_norm_within_one)\n",
    "    cumulative_difference = reconstruction_norms[:-1] - reconstruction_norms[1:]\n",
    "    xticks = np.arange(n_components)\n",
    "    \n",
    "    fig, axes = plt.subplots(figsize=(8, 3), ncols=2)\n",
    "    ax = axes[0]\n",
    "    ax.plot(reconstruction_norms, 'o-')\n",
    "    ax.set(xlabel='Components', ylabel='Frobenius norm', xticks=xticks, \n",
    "           xlim=(-0.5, n_components-0.5))\n",
    "    \n",
    "    ax = axes[1]\n",
    "    plt.sca(ax)\n",
    "    ax.plot(cumulative_difference, 'o-', color='#262626')  # #262626 = 90% black\n",
    "    xticklabels = ['{}-{}'.format(i+1, i) for i in range(n_components-1)]\n",
    "    ax.set(xticklabels=xticklabels, xlabel='Difference between components', xticks=xticks, \n",
    "           xlim=(-0.5, n_components-1.5))\n",
    "    fig.suptitle(\"Frobenius Norm of Reconstruction Error\")\n",
    "    sns.despine()\n",
    "\n",
    "ipywidgets.interact(explore_matrix_decomposition, \n",
    "                    algorithm=ipywidgets.Dropdown(options=['PCA', 'ICA'], value='ICA'), \n",
    "                    n_components=ipywidgets.IntSlider(value=4, min=2, max=10, step=1),\n",
    "                    color_by=ipywidgets.Dropdown(options=['EGFP', 'Cluster assignment'], value='EGFP'));"
   ]
  },
  {
   "cell_type": "markdown",
   "metadata": {},
   "source": [
    "#### [Quiz 4.1.1](https://docs.google.com/forms/d/1KVBaFSlP6eo-UiM8kAuRd4SMBlTccQbxquXEYlUNWZk/viewform)"
   ]
  },
  {
   "cell_type": "code",
   "execution_count": null,
   "metadata": {
    "collapsed": false
   },
   "outputs": [],
   "source": [
    "ICA_PCA = ('ICA', \"PCA\")\n",
    "ICA_COLUMNS = ['difference_component', 'within_small_component', 'outlier_component', 'within_large_component']\n",
    "\n",
    "# Write a short function to abstract away possibly decomposing the data into parts, or maybe not.\n",
    "def maybe_decompose(matrix_decomposer, n_components):\n",
    "    if matrix_decomposer in ICA_PCA:\n",
    "        if matrix_decomposer == 'ICA':\n",
    "            reducer = FastICA(n_components, random_state=3984)\n",
    "        elif matrix_decomposer == 'PCA':\n",
    "            reducer = PCA(n_components)\n",
    "\n",
    "        decomposed = reducer.fit_transform(original_expression_data.copy())\n",
    "        decomposed = pd.DataFrame(decomposed, index=egenes.columns)\n",
    "    \n",
    "        if n_components == 4 and matrix_decomposer == 'ICA':\n",
    "            decomposed.columns = ICA_COLUMNS\n",
    "    else:\n",
    "        decomposed = original_expression_data.copy()\n",
    "    return decomposed\n",
    "\n",
    "\n",
    "def explore_manifold_learning(matrix_decomposer, n_components, color_by, manifold_learner):\n",
    "    decomposed = maybe_decompose(matrix_decomposer, n_components)\n",
    "\n",
    "    if manifold_learner == 't-SNE':\n",
    "        embedder = TSNE(n_components=2, perplexity=75, random_state=254)\n",
    "    elif manifold_learner == 'MDS':\n",
    "        embedder = MDS(n_components=2, random_state=254)\n",
    "\n",
    "    embedded = embedder.fit_transform(decomposed)\n",
    "    embedded = pd.DataFrame(embedded, index=decomposed.index)\n",
    "\n",
    "    fig, ax = plt.subplots(figsize=(4, 4))\n",
    "    \n",
    "    if color_by == 'EGFP':\n",
    "        color = sample_data['condition_color']\n",
    "    elif color_by == 'Cluster assignment':\n",
    "        color = supplemental_data_sample_info['cluster_color']\n",
    "\n",
    "    plt.scatter(embedded[0], embedded[1], c=color, s=50)\n",
    "    # Empty the tick labels\n",
    "    ax.set(xticks=[], yticks=[])\n",
    "    sns.despine(bottom=True, left=True)\n",
    "    fig.tight_layout()\n",
    "\n",
    "ipywidgets.interact(explore_manifold_learning, \n",
    "                    matrix_decomposer=ipywidgets.Dropdown(options=['PCA', 'ICA', \"None\"], value='ICA'), \n",
    "                    n_components=ipywidgets.IntSlider(value=4, min=2, max=10, step=1),\n",
    "                    color_by=ipywidgets.Dropdown(options=['EGFP', 'Cluster assignment'], value='EGFP'),\n",
    "                    manifold_learner=ipywidgets.Dropdown(options=['t-SNE', 'MDS'], value='t-SNE'));"
   ]
  },
  {
   "cell_type": "markdown",
   "metadata": {},
   "source": [
    "#### [Quiz 4.1.2](https://docs.google.com/forms/d/1_2SAkIFB2dxTGjfIoDQMFSEJrw1RetpHrBVFAbUyjoQ/viewform)"
   ]
  },
  {
   "cell_type": "markdown",
   "metadata": {},
   "source": [
    "### How did they assign cells to clusters?\n",
    "\n",
    "The authors used hierarchical clustering with the ward algorithm, and cut the tree at a couple different thresholds to get broad clusters, and did a smaller cut to get finer clusters."
   ]
  },
  {
   "cell_type": "code",
   "execution_count": null,
   "metadata": {
    "collapsed": true
   },
   "outputs": [],
   "source": [
    "\"\"\"\n",
    "Cluster assignment and coloring functions from supplemental notebooks\n",
    "\"\"\"\n",
    "\n",
    "from collections import defaultdict\n",
    "from matplotlib.colors import rgb2hex, colorConverter \n",
    "\n",
    "class Clusters(dict):\n",
    "    def _repr_html_(self):\n",
    "        html = '<table style=\"border: 0;\">'\n",
    "        for c in self:\n",
    "            hx = rgb2hex(colorConverter.to_rgb(c))\n",
    "            html += '<tr style=\"border: 0;\">' \\\n",
    "            '<td style=\"background-color: {0}; ' \\\n",
    "                       'border: 0;\">' \\\n",
    "            '<code style=\"background-color: {0};\">'.format(hx)\n",
    "            html += c + '</code></td>'\n",
    "            html += '<td style=\"border: 0\"><code>' \n",
    "            html += repr(self[c]) + '</code>'\n",
    "            html += '</td></tr>'\n",
    "\n",
    "        html += '</table>'\n",
    "\n",
    "        return html\n",
    "\n",
    "def get_cluster_classes(den, label='ivl'):\n",
    "    cluster_idxs = defaultdict(list)\n",
    "    for c, pi in zip(den['color_list'], den['icoord']):\n",
    "        for leg in pi[1:3]:\n",
    "            i = (leg - 5.0) / 10.0\n",
    "            if abs(i - int(i)) < 1e-5:\n",
    "                cluster_idxs[c].append(int(i))\n",
    "\n",
    "    cluster_classes = Clusters()\n",
    "    for c, l in cluster_idxs.items():\n",
    "        i_l = list(sorted([den[label][i] for i in l]))\n",
    "        cluster_classes[c] = i_l\n",
    "\n",
    "    return cluster_classes\n",
    "\n",
    "def get_cluster_limits(den):\n",
    "    cluster_idxs = defaultdict(list)\n",
    "    for c, pi in zip(den['color_list'], den['icoord']):\n",
    "        for leg in pi[1:3]:\n",
    "            i = (leg - 5.0) / 10.0\n",
    "            if abs(i - int(i)) < 1e-5:\n",
    "                cluster_idxs[c].append(int(i))\n",
    "\n",
    "    cluster_limits = Clusters()\n",
    "    for c in cluster_idxs:\n",
    "        cluster_limits[c] = (min(cluster_idxs[c]), max(cluster_idxs[c]))\n",
    "    \n",
    "    return cluster_limits"
   ]
  },
  {
   "cell_type": "markdown",
   "metadata": {},
   "source": [
    "#### Transformed gene expression values to ICA"
   ]
  },
  {
   "cell_type": "code",
   "execution_count": null,
   "metadata": {
    "collapsed": false
   },
   "outputs": [],
   "source": [
    "n = 4\n",
    "ica = FastICA(n, random_state=3984)\n",
    "reduced = ica.fit_transform(original_expression_data)\n",
    "reduced = pd.DataFrame(reduced, index=original_expression_data.index, columns=ICA_COLUMNS)\n",
    "\n",
    "clm = sns.clustermap(reduced, method='ward', lw=0, col_cluster=False);"
   ]
  },
  {
   "cell_type": "code",
   "execution_count": null,
   "metadata": {
    "collapsed": false
   },
   "outputs": [],
   "source": [
    "fig, ax = plt.subplots(figsize=(10, 3))\n",
    "thr = 0.8\n",
    "cden = dendrogram(clm.dendrogram_row.linkage, color_threshold=thr, labels=original_expression_data.index);\n",
    "plt.axhline(thr, color='k');\n",
    "plt.xticks(rotation=90, fontsize=4);\n",
    "\n",
    "clusters = get_cluster_classes(cden)\n",
    "clusters"
   ]
  },
  {
   "cell_type": "markdown",
   "metadata": {},
   "source": [
    "Get the cells in the clusters"
   ]
  },
  {
   "cell_type": "code",
   "execution_count": null,
   "metadata": {
    "collapsed": false
   },
   "outputs": [],
   "source": [
    "cell_color = []\n",
    "for cell in original_expression_data.index:\n",
    "    for color in clusters:\n",
    "        if cell in clusters[color]:\n",
    "            cell_color.append(color)\n",
    "            break"
   ]
  },
  {
   "cell_type": "markdown",
   "metadata": {},
   "source": [
    "They saw that there was a subgroup of cells in the blue/cyan cluster so they made finer clusters:"
   ]
  },
  {
   "cell_type": "code",
   "execution_count": null,
   "metadata": {
    "collapsed": false
   },
   "outputs": [],
   "source": [
    "import itertools\n",
    "\n",
    "fig, ax = plt.subplots(figsize=(10, 3))\n",
    "thr = 0.442\n",
    "\n",
    "finer_den = dendrogram(clm.dendrogram_row.linkage, color_threshold=thr, labels=original_expression_data.index);\n",
    "plt.axhline(thr, color='k');\n",
    "plt.xticks(rotation=90, fontsize=4);\n",
    "\n",
    "finer_clusters = get_cluster_classes(finer_den)\n",
    "finer_clusters"
   ]
  },
  {
   "cell_type": "markdown",
   "metadata": {},
   "source": [
    "Get cells in finer clusters and assign clusters"
   ]
  },
  {
   "cell_type": "code",
   "execution_count": null,
   "metadata": {
    "collapsed": false
   },
   "outputs": [],
   "source": [
    "finer_cell_color = []\n",
    "for cell in original_expression_data.index:\n",
    "    for color in finer_clusters:\n",
    "        if cell in finer_clusters[color]:\n",
    "            finer_cell_color.append(color)\n",
    "            break\n",
    "\n",
    "named_clusters = {}\n",
    "\n",
    "named_clusters['1a'] = finer_clusters['c']\n",
    "named_clusters['1b'] = finer_clusters['m']\n",
    "named_clusters['2'] = clusters['y']\n",
    "named_clusters['3'] = clusters['m']\n",
    "named_clusters['4'] = clusters['g']\n",
    "named_clusters['x'] = clusters['r']\n",
    "\n",
    "palette = sns.color_palette(\"Set2\", 5)\n",
    "named_cluster_colors = {'1a' : palette[0],\n",
    "                        '1b' : palette[1],\n",
    "                        '2' : palette[2],\n",
    "                        '3' : palette[3],\n",
    "                        '4' : palette[4],\n",
    "                        'x' : (0.8, 0.8, 0.8)}\n",
    "\n",
    "cell_cluster = []\n",
    "for cell in sample_data.index:\n",
    "    for cluster in named_clusters:\n",
    "        if cell in named_clusters[cluster]:\n",
    "            cell_cluster.append(cluster)\n",
    "            break\n",
    "            \n",
    "# Assign clusters to a column in the metadata\n",
    "sample_data['cluster'] = cell_cluster\n",
    "sample_data['cluster_color'] = sample_data['cluster'].map(named_cluster_colors)\n",
    "\n",
    "# Look at the sizes of the groups\n",
    "sample_data.groupby('cluster').size()"
   ]
  },
  {
   "cell_type": "markdown",
   "metadata": {},
   "source": [
    "Plot the assigned clusters!"
   ]
  },
  {
   "cell_type": "code",
   "execution_count": null,
   "metadata": {
    "collapsed": false
   },
   "outputs": [],
   "source": [
    "sns.set_style('white')\n",
    "sns.set_context('talk')\n",
    "\n",
    "plt.scatter(sample_data['tsne_0'], sample_data['tsne_1'],\n",
    "            color=sample_data['cluster_color'],\n",
    "            s=100, edgecolor='k');\n",
    "\n",
    "plt.axis('off');\n",
    "plt.tight_layout();\n",
    "plt.savefig('figures/tsne_clusters.pdf')"
   ]
  },
  {
   "cell_type": "code",
   "execution_count": null,
   "metadata": {
    "collapsed": false,
    "scrolled": false
   },
   "outputs": [],
   "source": [
    "from scipy.cluster import hierarchy\n",
    "import matplotlib as mpl\n",
    "sns.set(style='white')\n",
    "\n",
    "# Make the clustering dendrogram colors not suck\n",
    "hierarchy.set_link_color_palette(list(map(mpl.colors.rgb2hex, sns.color_palette('Set3', n_colors=12))))\n",
    "\n",
    "\n",
    "def explore_clustering(method, metric, dendrogram_thresh, matrix_decomposer, n_components, col_cluster=False):\n",
    "    decomposed = maybe_decompose(matrix_decomposer, n_components)\n",
    "    \n",
    "    # Don't cluster columns when the data isn't decomposed because the raw number of genes is too big\n",
    "    if col_cluster and matrix_decomposer not in ICA_PCA:\n",
    "        print(\"Cowardly refusing to cluster the columns when the matrix isn't decomposed because it'll take forever\")\n",
    "        col_cluster = False\n",
    "        \n",
    "    clustergrid = sns.clustermap(decomposed, method=method, lw=0, col_cluster=col_cluster, metric=metric,\n",
    "                                 row_colors=sample_data['condition_color']);\n",
    "    plt.setp(clustergrid.ax_heatmap.get_yticklabels(), rotation=0, fontsize=4)\n",
    "    clustergrid.fig.suptitle('Linkage Method: {}, Distance Metric: {}'.format(method, metric))\n",
    "    \n",
    "    # --- Set up dendrogram + t-SNE figure --- #\n",
    "    width, height = 12, 3\n",
    "    fig, axes = plt.subplots(figsize=(width, height), ncols=2, gridspec_kw=dict(width_ratios=(.75, .25)))\n",
    "\n",
    "    # --- Plot dendrogram --- #\n",
    "#     sns.set(style='darkgrid')\n",
    "    ax = axes[0]\n",
    "    # sca = \"Set current axes\"\n",
    "    plt.sca(ax)\n",
    "    cden = hierarchy.dendrogram(clustergrid.dendrogram_row.linkage, color_threshold=dendrogram_thresh, \n",
    "                                labels=decomposed.index, above_threshold_color='DarkSlateGray');\n",
    "    xmin, xmax = ax.get_xlim()\n",
    "    if dendrogram_thresh <= xmin:\n",
    "        print(\"The dendrogram threshold is below the axes .. there will be one cluster for all cells\")\n",
    "    if dendrogram_thresh >= xmax:\n",
    "        print(\"The dendrogram threshold is above the axes .. there will be one cluster for all cells\")\n",
    "    \n",
    "    ax.hlines(dendrogram_thresh, xmin, xmax, color='DarkRed', linestyle='--');\n",
    "    ax.set_axis_bgcolor(\"#EAEAF2\")\n",
    "    ax.grid(axis='y', color='white', zorder=1000)\n",
    "    ax.set(title='Threshold: {:g}'.format(dendrogram_thresh))\n",
    "    plt.setp(ax.get_xticklabels(), rotation=90, fontsize=4)\n",
    "    sns.despine(ax=ax, bottom=True, left=True)\n",
    "    \n",
    "    # --- Get cluster-defined colors for each cell, for this threshold --- #\n",
    "    clusters = get_cluster_classes(cden)\n",
    "    cell_color = []\n",
    "    for cell in decomposed.index:\n",
    "        for color in clusters:\n",
    "            if cell in clusters[color]:\n",
    "                cell_color.append(color)\n",
    "                break\n",
    "    \n",
    "    # --- perform t-SNE --- #\n",
    "    embedder = TSNE(n_components=2, perplexity=75, random_state=254)\n",
    "    embedded = embedder.fit_transform(decomposed)\n",
    "    embedded = pd.DataFrame(embedded, index=decomposed.index)\n",
    "\n",
    "    # --- Plot the t-SNE result with the cell colors --- #\n",
    "    ax = axes[1]\n",
    "    ax.scatter(embedded[0], embedded[1], color=cell_color, s=40, linewidths=0.5, edgecolors='k')\n",
    "    \n",
    "    sns.despine(ax=ax, bottom=True, left=True)\n",
    "    ax.set(xticks=[], yticks=[])\n",
    "\n",
    "    \n",
    "ipywidgets.interact(explore_clustering,\n",
    "                    method=ipywidgets.Dropdown(options=['ward', 'single', 'complete', 'average', 'centroid'], \n",
    "                                               value='ward', description='Linkage Method'),\n",
    "                    metric=ipywidgets.Dropdown(options=['euclidean', 'cityblock'], \n",
    "                                               value='euclidean', description='Distance Metric'),\n",
    "                    col_cluster=ipywidgets.Checkbox(value=False, description=\"Cluster the columns?\"),\n",
    "                    dendrogram_thresh=ipywidgets.FloatText(value=0.8, description='Tree cut clustering threshold'),\n",
    "                    matrix_decomposer=ipywidgets.Dropdown(options=['PCA', 'ICA'], \n",
    "                                                          value='ICA', description='Matrix decomposition algorithm'), \n",
    "                    n_components=ipywidgets.IntSlider(value=4, min=2, max=10, step=1, \n",
    "                                                      description='Number of components'),);"
   ]
  },
  {
   "cell_type": "markdown",
   "metadata": {},
   "source": [
    "#### Exploring Clustering - please note below\n",
    "\n",
    "* With \"ward\" clustering, can only use \"euclidean\" distance. Try some other distance and you will get an error!\n",
    "* The \"Tree cut clustering threshold\" thing is tricky - every time any value changes, the entire thing gets recalculated. Best thing to do is to write the threshold you want outside of the box, and then copy-paste it in.\n",
    "* This has a built-in fail-safe to not cluster the columns (components or genes) when you don't decompose the data first, because it'll take too long because there are 20,672 genes. In general, <10k, ideally ~5k is best for clustering because of compute power and how much you'll get out of seeing the clusters\n",
    "* With ICA and 4 components try these two thresholds: (These are what they used in the paper)\n",
    "    * 0.8 - Defines broad clusters\n",
    "    * 0.442 - Defines the two small clusters in the early population\n",
    "    \n",
    "#### [Quiz 4.1.3](https://docs.google.com/forms/d/1yYaDNTTWGT3yr2-K7iEzCqX4WN36h_EY06-WmbcgzSA/viewform)"
   ]
  },
  {
   "cell_type": "markdown",
   "metadata": {},
   "source": [
    "## Figure 2\n",
    "\n",
    "![](figures/figure2.png)"
   ]
  },
  {
   "cell_type": "markdown",
   "metadata": {
    "collapsed": true
   },
   "source": [
    "### How did they assign cells to pseudotime?\n",
    "\n",
    "To do this, we'll follow along with their notebook, [3. Progression ordering and plots](macaulay2016/3.%20Progression%20ordering%20and%20plots.ipynb)"
   ]
  }
 ],
 "metadata": {
  "kernelspec": {
   "display_name": "Python 3 (single-cell-bioinformatics)",
   "language": "python",
   "name": "python3"
  },
  "language_info": {
   "codemirror_mode": {
    "name": "ipython",
    "version": 3
   },
   "file_extension": ".py",
   "mimetype": "text/x-python",
   "name": "python",
   "nbconvert_exporter": "python",
   "pygments_lexer": "ipython3",
   "version": "3.5.1"
  }
 },
 "nbformat": 4,
 "nbformat_minor": 0
}
