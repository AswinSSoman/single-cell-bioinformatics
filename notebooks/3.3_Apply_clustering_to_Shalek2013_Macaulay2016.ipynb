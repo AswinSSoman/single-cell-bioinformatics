{
 "cells": [
  {
   "cell_type": "markdown",
   "metadata": {
    "collapsed": true
   },
   "source": [
    "# Apply clustering to Shalek2013 and Macaulay2016 data\n",
    "\n"
   ]
  },
  {
   "cell_type": "code",
   "execution_count": null,
   "metadata": {
    "collapsed": false
   },
   "outputs": [],
   "source": [
    "# Baked-in within python modules\n",
    "from collections import defaultdict\n",
    "\n",
    "# Alphabetical order for nonstandard python modules is conventional\n",
    "# We're doing \"import superlongname as abbrev\" for our laziness - this way we don't have to type out the whole thing each time.\n",
    "\n",
    "# Python plotting library\n",
    "import matplotlib as mpl\n",
    "import matplotlib.pyplot as plt\n",
    "\n",
    "# Numerical python library (pronounced \"num-pie\")\n",
    "import numpy as np\n",
    "\n",
    "# Dataframes in Python\n",
    "import pandas as pd\n",
    "\n",
    "# T-test of independent samples\n",
    "from scipy.stats import ttest_ind\n",
    "\n",
    "# Statistical plotting library we'll use\n",
    "import seaborn as sns\n",
    "sns.set(style='whitegrid')\n",
    "\n",
    "# Matrix decomposition\n",
    "from sklearn.decomposition import PCA, FastICA\n",
    "\n",
    "# Manifold learning\n",
    "from sklearn.manifold import MDS, TSNE\n",
    "\n",
    "# Clustering\n",
    "from sklearn.cluster import KMeans, MiniBatchKMeans\n",
    "\n",
    "# Plotting dendrograms\n",
    "from scipy.cluster import hierarchy\n",
    "\n",
    "# This is necessary to show the plotted figures inside the notebook -- \"inline\" with the notebook cells\n",
    "%matplotlib inline"
   ]
  },
  {
   "cell_type": "markdown",
   "metadata": {},
   "source": [
    "## Shalek2013 data\n",
    "\n"
   ]
  },
  {
   "cell_type": "code",
   "execution_count": null,
   "metadata": {
    "collapsed": true
   },
   "outputs": [],
   "source": [
    "shalek2013_metadata = pd.read_csv('../data/shalek2013/metadata.csv', \n",
    "                               \n",
    "                                     # Sets the first (Python starts counting from 0 not 1) column as the row names\n",
    "                                      index_col=0)\n",
    "shalek2013_expression = pd.read_csv('../data/shalek2013/expression.csv', \n",
    "                               \n",
    "                                     # Sets the first (Python starts counting from 0 not 1) column as the row names\n",
    "                                      index_col=0)\n",
    "shalek2013_expression_feature = pd.read_csv('../data/shalek2013/expression_feature.csv', \n",
    "                               \n",
    "                                     # Sets the first (Python starts counting from 0 not 1) column as the row names\n",
    "                                      index_col=0)"
   ]
  },
  {
   "cell_type": "code",
   "execution_count": null,
   "metadata": {
    "collapsed": false
   },
   "outputs": [],
   "source": [
    "shalek2013_metadata['color'] = shalek2013_metadata['maturity'].map(\n",
    "    lambda x: 'MediumTurquoise' if x == 'immature' else 'Teal')\n",
    "shalek2013_metadata.loc[shalek2013_metadata['pooled'], 'color'] = 'black'\n",
    "shalek2013_metadata"
   ]
  },
  {
   "cell_type": "markdown",
   "metadata": {},
   "source": [
    "If you specify \"`n_components=None`\", then the program will find as many components as there are samples."
   ]
  },
  {
   "cell_type": "code",
   "execution_count": null,
   "metadata": {
    "collapsed": false
   },
   "outputs": [],
   "source": [
    "shalek2013_smusher = PCA(n_components=None)\n",
    "shalek2013_smushed = pd.DataFrame(shalek2013_smusher.fit_transform(shalek2013_expression), \n",
    "                                  index=shalek2013_expression.index)\n",
    "print(shalek2013_smushed.shape)\n",
    "shalek2013_smushed.head()"
   ]
  },
  {
   "cell_type": "code",
   "execution_count": null,
   "metadata": {
    "collapsed": false
   },
   "outputs": [],
   "source": [
    "g = sns.clustermap(shalek2013_smushed)"
   ]
  },
  {
   "cell_type": "markdown",
   "metadata": {},
   "source": [
    "We can add the colors of the samples as the rows, the \"MediumTurqouise\" (lighter) for the immature cells, \"Teal\" (darker) for the mature cells, and black for the pooled samples."
   ]
  },
  {
   "cell_type": "code",
   "execution_count": null,
   "metadata": {
    "collapsed": false
   },
   "outputs": [],
   "source": [
    "g = sns.clustermap(shalek2013_smushed, row_colors=shalek2013_metadata['color'])"
   ]
  },
  {
   "cell_type": "markdown",
   "metadata": {},
   "source": [
    "We can use different distance metrics, too. Here we're using `\"cityblock\"` (instead of the default `\"euclidean\"`)"
   ]
  },
  {
   "cell_type": "code",
   "execution_count": null,
   "metadata": {
    "collapsed": false
   },
   "outputs": [],
   "source": [
    "g = sns.clustermap(shalek2013_smushed, metric='cityblock', row_colors=shalek2013_metadata['color'])"
   ]
  },
  {
   "cell_type": "markdown",
   "metadata": {},
   "source": [
    "Or different distance linkage methods. Here we're using `\"ward\"` (instead of the default `\"average\"`)"
   ]
  },
  {
   "cell_type": "code",
   "execution_count": null,
   "metadata": {
    "collapsed": false
   },
   "outputs": [],
   "source": [
    "g = sns.clustermap(shalek2013_smushed, method='ward', row_colors=shalek2013_metadata['color'])"
   ]
  },
  {
   "cell_type": "markdown",
   "metadata": {},
   "source": [
    "You can combine methods and metrics as well:"
   ]
  },
  {
   "cell_type": "code",
   "execution_count": null,
   "metadata": {
    "collapsed": false
   },
   "outputs": [],
   "source": [
    "g = sns.clustermap(shalek2013_smushed, method='ward', metric='cityblock', row_colors=shalek2013_metadata['color'])"
   ]
  },
  {
   "cell_type": "markdown",
   "metadata": {},
   "source": [
    "### Exercise 1\n",
    "\n",
    "1. Try using different numbers of components with PCA. What's the minimum number of components to separate out the pooled and singles, and find a subset of three cells in the singles? (like in the paper!)\n",
    "2. Try using ICA instead of PCA. \n",
    "    1. What happens when you do `n_components=None`? Why?\n",
    "    "
   ]
  },
  {
   "cell_type": "markdown",
   "metadata": {},
   "source": [
    "### Retreive cluster assignments from hierarchical clustering\n",
    "\n",
    "We used "
   ]
  },
  {
   "cell_type": "code",
   "execution_count": null,
   "metadata": {
    "collapsed": false
   },
   "outputs": [],
   "source": [
    "shalek2013_smusher = PCA(n_components=5)\n",
    "shalek2013_smushed = pd.DataFrame(shalek2013_smusher.fit_transform(shalek2013_expression), \n",
    "                                  index=shalek2013_expression.index)\n",
    "print(shalek2013_smushed.shape)\n",
    "g = sns.clustermap(shalek2013_smushed, method='ward', metric='euclidean', \n",
    "                   row_colors=shalek2013_metadata['color'])"
   ]
  },
  {
   "cell_type": "code",
   "execution_count": null,
   "metadata": {
    "collapsed": false
   },
   "outputs": [],
   "source": [
    "figwidth, figheight = 8, 3\n",
    "fig, ax = plt.subplots(figsize=(figwidth, figheight))\n",
    "\n",
    "# Make the clustering dendrogram colors not suck\n",
    "hierarchy.set_link_color_palette(list(map(mpl.colors.rgb2hex, sns.color_palette('Dark2', n_colors=12))))\n",
    "\n",
    "cluster_threshold = 50\n",
    "\n",
    "cden = hierarchy.dendrogram(g.dendrogram_row.linkage, \n",
    "                            color_threshold=cluster_threshold, \n",
    "                            labels=shalek2013_expression.index,\n",
    "                            above_threshold_color='k')\n",
    "plt.axhline(cluster_threshold, color='Crimson', linestyle='--');\n",
    "plt.xticks(rotation=90, fontsize=4);"
   ]
  },
  {
   "cell_type": "markdown",
   "metadata": {},
   "source": [
    "Here's a utility function to get the cluster class assignments after thresholding"
   ]
  },
  {
   "cell_type": "code",
   "execution_count": null,
   "metadata": {
    "collapsed": true
   },
   "outputs": [],
   "source": [
    "\"\"\"\n",
    "Cluster assignment and coloring functions from Macaulay supplemental notebooks\n",
    "\"\"\"\n",
    "\n",
    "class Clusters(dict):\n",
    "    def _repr_html_(self):\n",
    "        html = '<table style=\"border: 0;\">'\n",
    "        for c in self:\n",
    "            hx = mpl.colors.rgb2hex(mpl.colors.colorConverter.to_rgb(c))\n",
    "            html += '<tr style=\"border: 0;\">' \\\n",
    "            '<td style=\"background-color: {0}; ' \\\n",
    "                       'border: 0;\">' \\\n",
    "            '<code style=\"background-color: {0};\">'.format(hx)\n",
    "            html += c + '</code></td>'\n",
    "            html += '<td style=\"border: 0\"><code>' \n",
    "            html += repr(self[c]) + '</code>'\n",
    "            html += '</td></tr>'\n",
    "\n",
    "        html += '</table>'\n",
    "\n",
    "        return html\n",
    "\n",
    "def get_cluster_classes(den, label='ivl'):\n",
    "    cluster_idxs = defaultdict(list)\n",
    "    for c, pi in zip(den['color_list'], den['icoord']):\n",
    "        for leg in pi[1:3]:\n",
    "            i = (leg - 5.0) / 10.0\n",
    "            if abs(i - int(i)) < 1e-5:\n",
    "                cluster_idxs[c].append(int(i))\n",
    "\n",
    "    cluster_classes = Clusters()\n",
    "    for c, l in cluster_idxs.items():\n",
    "        i_l = list(sorted([den[label][i] for i in l]))\n",
    "        cluster_classes[c] = i_l\n",
    "\n",
    "    return cluster_classes\n",
    "\n",
    "def get_cluster_limits(den):\n",
    "    cluster_idxs = defaultdict(list)\n",
    "    for c, pi in zip(den['color_list'], den['icoord']):\n",
    "        for leg in pi[1:3]:\n",
    "            i = (leg - 5.0) / 10.0\n",
    "            if abs(i - int(i)) < 1e-5:\n",
    "                cluster_idxs[c].append(int(i))\n",
    "\n",
    "    cluster_limits = Clusters()\n",
    "    for c in cluster_idxs:\n",
    "        cluster_limits[c] = (min(cluster_idxs[c]), max(cluster_idxs[c]))\n",
    "    \n",
    "    return cluster_limits"
   ]
  },
  {
   "cell_type": "code",
   "execution_count": null,
   "metadata": {
    "collapsed": false
   },
   "outputs": [],
   "source": [
    "# --- Get cluster-defined colors for each cell, for this threshold --- #\n",
    "clusters = get_cluster_classes(cden)\n",
    "cluster_cell_colors = []\n",
    "for cell in shalek2013_expression.index:\n",
    "    for color in clusters:\n",
    "        if cell in clusters[color]:\n",
    "            cluster_cell_colors.append(color)\n",
    "            break\n",
    "cluster_cell_colors"
   ]
  },
  {
   "cell_type": "markdown",
   "metadata": {},
   "source": [
    "Re-plot the clustered heatmap with the samples colored by clusters"
   ]
  },
  {
   "cell_type": "code",
   "execution_count": null,
   "metadata": {
    "collapsed": false
   },
   "outputs": [],
   "source": [
    "g = sns.clustermap(shalek2013_smushed, method='ward', metric='euclidean', \n",
    "                   row_colors=cluster_cell_colors)"
   ]
  },
  {
   "cell_type": "markdown",
   "metadata": {},
   "source": [
    "Plot the first two components of the PCA with the cells colored by the cluster classes"
   ]
  },
  {
   "cell_type": "code",
   "execution_count": null,
   "metadata": {
    "collapsed": false
   },
   "outputs": [],
   "source": [
    "# Initialize a figure with a single subpanel (axes, or ax) to plot on\n",
    "fig, ax = plt.subplots()\n",
    "\n",
    "\n",
    "# Plot the first (\"0\") and second (\"1\") components\n",
    "ax.scatter(shalek2013_smushed[0], shalek2013_smushed[1], color=cluster_cell_colors, \n",
    "           s=100, edgecolor='white', linewidth=1)\n",
    "\n",
    "xlabel = 'PC1 explains {:.1f}% variance'.format(100*shalek2013_smusher.explained_variance_ratio_[0])\n",
    "ylabel = 'PC2 explains {:.1f}% variance'.format(100*shalek2013_smusher.explained_variance_ratio_[1])\n",
    "\n",
    "ax.set_xlabel(xlabel)\n",
    "ax.set_ylabel(ylabel)\n",
    "\n",
    "# Force legend location to be upper left\n",
    "ax.legend(loc='upper left')"
   ]
  },
  {
   "cell_type": "markdown",
   "metadata": {},
   "source": [
    "### Exercise 2\n",
    "\n",
    "1. Try different cluster cutoff threshold values.\n",
    "2. Try different linkage methods and distance metrics.\n",
    "    1. How does that change the threshold you use?\n",
    "    2. How does it change the final clustering groups?\n",
    "3. Try ICA, and try out different linkage methods and distance metrics.\n",
    "    1. How does that change the threshold you use?\n",
    "    2. How does it change the final clustering groups?"
   ]
  },
  {
   "cell_type": "markdown",
   "metadata": {},
   "source": [
    "### $K$-means clustering\n",
    "\n",
    "We'll perform K-means clustering on the original expression matrix, and then plot the PCA of the data with the clusters labled."
   ]
  },
  {
   "cell_type": "code",
   "execution_count": null,
   "metadata": {
    "collapsed": false
   },
   "outputs": [],
   "source": [
    "from sklearn.cluster import KMeans\n",
    "n_clusters = 5\n",
    "\n",
    "estimator = KMeans(n_clusters)\n",
    "estimator.fit(shalek2013_expression)\n",
    "kmeans_clusters = estimator.predict(shalek2013_expression)\n",
    "kmeans_clusters\n"
   ]
  },
  {
   "cell_type": "code",
   "execution_count": null,
   "metadata": {
    "collapsed": false
   },
   "outputs": [],
   "source": [
    "kmeans_palette = sns.color_palette('Set2', n_colors=n_clusters)\n",
    "kmeans_colors = [kmeans_palette[i] for i in kmeans_clusters]"
   ]
  },
  {
   "cell_type": "markdown",
   "metadata": {},
   "source": [
    "Project the cluster centers into reduced dimensionality space"
   ]
  },
  {
   "cell_type": "code",
   "execution_count": null,
   "metadata": {
    "collapsed": false
   },
   "outputs": [],
   "source": [
    "estimator.cluster_centers_"
   ]
  },
  {
   "cell_type": "code",
   "execution_count": null,
   "metadata": {
    "collapsed": false
   },
   "outputs": [],
   "source": [
    "cluster_centers = pd.DataFrame(shalek2013_smusher.fit_transform(estimator.cluster_centers_))\n",
    "cluster_centers"
   ]
  },
  {
   "cell_type": "markdown",
   "metadata": {},
   "source": [
    "Plot the PCA-reduced data with the cluster columns, and the cluster centers as a black \"X\", using the \""
   ]
  },
  {
   "cell_type": "code",
   "execution_count": null,
   "metadata": {
    "collapsed": false
   },
   "outputs": [],
   "source": [
    "plt.scatter(shalek2013_smushed[0], shalek2013_smushed[1], color=kmeans_colors,\n",
    "            s=100, edgecolor='white', linewidth=1);\n",
    "plt.scatter(cluster_centers[0], cluster_centers[1], color='k', marker='x', s=100, linewidth=3)"
   ]
  },
  {
   "cell_type": "markdown",
   "metadata": {},
   "source": [
    "### Exercise 3\n",
    "\n",
    "Try different numbers of clusters. Can you get the pooled, mature, and immature cells as separate clusters? Why or why not?"
   ]
  },
  {
   "cell_type": "markdown",
   "metadata": {},
   "source": [
    "\n",
    "## Macaulay2016\n",
    "\n",
    "Read in and filter the macaulay2016 data"
   ]
  },
  {
   "cell_type": "code",
   "execution_count": null,
   "metadata": {
    "collapsed": false
   },
   "outputs": [],
   "source": [
    "macaulay2016_expression = pd.read_csv('../data/macaulay2016/gene_expression_s.csv', index_col=0)\n",
    "\n",
    "\n",
    "# Set maximum columns to display as 50 because the dataframe has 49 columns\n",
    "pd.options.display.max_columns = 50\n",
    "\n",
    "macaulay2016_metadata = pd.read_csv('../data/macaulay2016/sample_info_qc.csv', index_col=0)\n",
    "# Add column for gfp\n",
    "macaulay2016_metadata['gfp_color'] = ['#31a354' if c == 'HIGH' else '#e5f5e0' for c in macaulay2016_metadata['condition']]\n",
    "\n",
    "# Necessary step for converting the parsed cluster color to be usable with matplotlib\n",
    "macaulay2016_metadata['cluster_color'] = macaulay2016_metadata['cluster_color'].map(eval)\n",
    "\n",
    "# --- Filter macaulay2016 data --- #\n",
    "ensembl_genes = [x for x in macaulay2016_expression.index if x.startswith('ENS')]\n",
    "cells_pass_qc = macaulay2016_metadata[\"Pass QC\"].index[macaulay2016_metadata[\"Pass QC\"]]\n",
    "\n",
    "macaulay2016_expression_filtered = macaulay2016_expression.loc[ensembl_genes, cells_pass_qc]\n",
    "\n",
    "# Recalculate TPM\n",
    "macaulay2016_expression_filtered = 1e6 * macaulay2016_expression_filtered / macaulay2016_expression_filtered.sum()\n",
    "\n",
    "# Transpose so it's machine learning format\n",
    "macaulay2016_expression_filtered = macaulay2016_expression_filtered.T\n",
    "\n",
    "# Take only \"expressed genes\" with expression greater than 1 in at least 3 cells\n",
    "mask = (macaulay2016_expression_filtered > 1).sum() >= 3\n",
    "macaulay2016_expression_filtered = macaulay2016_expression_filtered.loc[:, mask]\n",
    "print('macaulay2016_expression_filtered.shape', macaulay2016_expression_filtered.shape)\n",
    "\n",
    "# Add 1 and log10\n",
    "macaulay2016_expression_log10 = np.log10(macaulay2016_expression_filtered + 1)\n",
    "\n",
    "# Macaulay2016 plotting colors\n",
    "macaulay2016_gfp_colors = macaulay2016_metadata.loc[macaulay2016_expression_log10.index, 'gfp_color']\n",
    "\n",
    "# Get cluster colors from the paper\n",
    "macaulay2016_cluster_colors_from_paper = macaulay2016_metadata.loc[macaulay2016_expression_log10.index, 'cluster_color']\n",
    "macaulay2016_clusters_from_paper = macaulay2016_metadata.loc[macaulay2016_expression_log10.index, 'cluster']\n",
    "macaulay2016_cluster_to_color_from_paper = dict(zip(macaulay2016_clusters_from_paper, macaulay2016_cluster_colors_from_paper))"
   ]
  },
  {
   "cell_type": "markdown",
   "metadata": {},
   "source": [
    "Plot the Macaulay data. We'll call the PCA or ICA reduced data `macaulay2016_decomposer` because we'll use t-SNE later and we want to distinguish from when we're using matrix decomposition vs manifold learning."
   ]
  },
  {
   "cell_type": "code",
   "execution_count": null,
   "metadata": {
    "collapsed": false
   },
   "outputs": [],
   "source": [
    "macaulay2016_decomposer = PCA(n_components=10)\n",
    "macaulay2016_decomposed = pd.DataFrame(macaulay2016_decomposer.fit_transform(macaulay2016_expression_log10), \n",
    "                                  index=macaulay2016_expression_log10.index)\n",
    "print(macaulay2016_decomposed.shape)\n",
    "g = sns.clustermap(macaulay2016_decomposed, method='ward', metric='euclidean', \n",
    "                   row_colors=macaulay2016_gfp_colors)"
   ]
  },
  {
   "cell_type": "markdown",
   "metadata": {},
   "source": [
    "We can also color the rows by the actual clusters from the paper."
   ]
  },
  {
   "cell_type": "code",
   "execution_count": null,
   "metadata": {
    "collapsed": false
   },
   "outputs": [],
   "source": [
    "macaulay2016_decomposer = PCA(n_components=10)\n",
    "macaulay2016_decomposed = pd.DataFrame(macaulay2016_decomposer.fit_transform(macaulay2016_expression_log10), \n",
    "                                  index=macaulay2016_expression_log10.index)\n",
    "print(macaulay2016_decomposed.shape)\n",
    "g = sns.clustermap(macaulay2016_decomposed, method='ward', metric='euclidean', \n",
    "                   row_colors=macaulay2016_cluster_colors_from_paper)"
   ]
  },
  {
   "cell_type": "markdown",
   "metadata": {},
   "source": [
    "### Exercise 4\n",
    "\n",
    "Use hierarchical clustering on either PCA or ICA to assign clusters to the Macaulay data and plot the PCA (or ICA) plot with the reduced clusters. Are you able to recover the original clusters? Use as many code cells as you need."
   ]
  },
  {
   "cell_type": "code",
   "execution_count": null,
   "metadata": {
    "collapsed": true
   },
   "outputs": [],
   "source": [
    "# YOUR CODE HERE"
   ]
  },
  {
   "cell_type": "code",
   "execution_count": null,
   "metadata": {
    "collapsed": true
   },
   "outputs": [],
   "source": [
    "# YOUR CODE HERE"
   ]
  },
  {
   "cell_type": "code",
   "execution_count": null,
   "metadata": {
    "collapsed": true
   },
   "outputs": [],
   "source": [
    "# YOUR CODE HERE"
   ]
  },
  {
   "cell_type": "markdown",
   "metadata": {},
   "source": [
    "### Exercise 5: $K$-means on Macaulay data\n",
    "\n",
    "Use K-means clustering to assign clusters to the Macaulay data and plot the PCA (or ICA) plot with the reduced clusters. Are you able to recover the original clusters? Use as many code cells as you need."
   ]
  },
  {
   "cell_type": "code",
   "execution_count": null,
   "metadata": {
    "collapsed": true
   },
   "outputs": [],
   "source": [
    "# YOUR CODE HERE"
   ]
  },
  {
   "cell_type": "code",
   "execution_count": null,
   "metadata": {
    "collapsed": true
   },
   "outputs": [],
   "source": [
    "# YOUR CODE HERE"
   ]
  },
  {
   "cell_type": "code",
   "execution_count": null,
   "metadata": {
    "collapsed": true
   },
   "outputs": [],
   "source": [
    "# YOUR CODE HERE"
   ]
  },
  {
   "cell_type": "markdown",
   "metadata": {},
   "source": [
    "### Clustering + visualizing using manifold learning\n",
    "\n",
    "Now we'll get closer to the actual steps used in the Macaulay2016 paper."
   ]
  },
  {
   "cell_type": "code",
   "execution_count": null,
   "metadata": {
    "collapsed": false
   },
   "outputs": [],
   "source": [
    "macaulay2016_decomposer = FastICA(n_components=10, random_state=3984)\n",
    "macaulay2016_decomposed = pd.DataFrame(macaulay2016_decomposer.fit_transform(macaulay2016_expression_log10), \n",
    "                                  index=macaulay2016_expression_log10.index)\n",
    "macaulay2016_tsne_smusher = TSNE(n_components=2, random_state=254)\n",
    "macaulay2016_tsne_smushed = pd.DataFrame(macaulay2016_tsne_smusher.fit_transform(macaulay2016_decomposed),\n",
    "                                         index=macaulay2016_expression_log10.index)\n",
    "\n",
    "fig, ax = plt.subplots()\n",
    "ax.scatter(macaulay2016_tsne_smushed[0], macaulay2016_tsne_smushed[1],\n",
    "           color=macaulay2016_gfp_colors)"
   ]
  },
  {
   "cell_type": "markdown",
   "metadata": {},
   "source": [
    "### Exercise 6: Cluster and visualize on t-SNE\n",
    "\n",
    "Use hierarchical clustering on ICA-decomposed data (trying different numbers of components) to assign clusters, and plot the cluster assignments on the t-SNE reduced data. Use as many code cells as you need."
   ]
  },
  {
   "cell_type": "code",
   "execution_count": null,
   "metadata": {
    "collapsed": true
   },
   "outputs": [],
   "source": [
    "# YOUR CODE HERE"
   ]
  },
  {
   "cell_type": "code",
   "execution_count": null,
   "metadata": {
    "collapsed": true
   },
   "outputs": [],
   "source": [
    "# YOUR CODE HERE"
   ]
  },
  {
   "cell_type": "code",
   "execution_count": null,
   "metadata": {
    "collapsed": true
   },
   "outputs": [],
   "source": [
    "# YOUR CODE HERE"
   ]
  }
 ],
 "metadata": {
  "kernelspec": {
   "display_name": "Python 3 (single-cell-bioinformatics)",
   "language": "python",
   "name": "python3"
  },
  "language_info": {
   "codemirror_mode": {
    "name": "ipython",
    "version": 3
   },
   "file_extension": ".py",
   "mimetype": "text/x-python",
   "name": "python",
   "nbconvert_exporter": "python",
   "pygments_lexer": "ipython3",
   "version": "3.5.1"
  }
 },
 "nbformat": 4,
 "nbformat_minor": 0
}
