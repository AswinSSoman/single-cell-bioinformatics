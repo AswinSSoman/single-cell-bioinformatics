{
 "cells": [
  {
   "cell_type": "markdown",
   "metadata": {},
   "source": [
    "# Additional Reading\n",
    "\n",
    "## Hierarchical clustering\n",
    "\n",
    "- [Hierarchical clustering wikipedia](https://en.wikipedia.org/wiki/Hierarchical_clustering)\n",
    "- [fastcluster paper](papers/fasctluster.pdf)\n",
    "    - Recent paper that reimplements several clustering methods, much faster than before\n",
    "\n",
    "## Matrix decomposition\n",
    "\n",
    "- [Presentation on PCA](papers/wood_pca_2009.pdf)\n",
    "    - Presentation with nice examples\n",
    "- [PCA vs ICA](papers/pca_vs_ica_2009.pdf)\n",
    "    - Explains math behind PCA and ICA and compares on faces dataset\n",
    "\n",
    "## Manifold learning\n",
    "\n",
    "- [MDS Wikipedia](https://en.wikipedia.org/wiki/Multidimensional_scaling)\n",
    "- [t-SNE paper](https://lvdmaaten.github.io/publications/papers/JMLR_2008.pdf)\n",
    "    - Really excellent paper that explains not only t-SNE but other embedding algorithms as well, using the digits, faces, and other datasets.\n",
    "   \n"
   ]
  }
 ],
 "metadata": {
  "kernelspec": {
   "display_name": "Python 3 (single-cell-bioinformatics)",
   "language": "python",
   "name": "python3"
  },
  "language_info": {
   "codemirror_mode": {
    "name": "ipython",
    "version": 3
   },
   "file_extension": ".py",
   "mimetype": "text/x-python",
   "name": "python",
   "nbconvert_exporter": "python",
   "pygments_lexer": "ipython3",
   "version": "3.5.1"
  }
 },
 "nbformat": 4,
 "nbformat_minor": 0
}
