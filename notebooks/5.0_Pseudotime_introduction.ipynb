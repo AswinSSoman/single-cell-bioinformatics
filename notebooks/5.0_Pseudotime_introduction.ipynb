{
 "cells": [
  {
   "cell_type": "markdown",
   "metadata": {},
   "source": [
    "# Pseudo-time ordering\n",
    "\n",
    "![](figures/sklearn_ml_map.png)\n",
    "\n",
    "\n",
    "Pseudotime ordering is like biologically-driven \"regression\"\n",
    "\n",
    "The pseudotime algorithms (that I know of) are all single-cell analysis specific, as in for biology and not for anything else.\n",
    "\n",
    "\n",
    "* Monocle\n",
    "* Wanderlust\n",
    "* Wishbone"
   ]
  }
 ],
 "metadata": {
  "kernelspec": {
   "display_name": "Python 3 (single-cell-bioinformatics)",
   "language": "python",
   "name": "python3"
  },
  "language_info": {
   "codemirror_mode": {
    "name": "ipython",
    "version": 3
   },
   "file_extension": ".py",
   "mimetype": "text/x-python",
   "name": "python",
   "nbconvert_exporter": "python",
   "pygments_lexer": "ipython3",
   "version": "3.5.1"
  }
 },
 "nbformat": 4,
 "nbformat_minor": 0
}
