{
 "cells": [
  {
   "cell_type": "markdown",
   "metadata": {
    "collapsed": true
   },
   "source": [
    "# Getting colors for plotting and evaluating clustering\n",
    "\n"
   ]
  },
  {
   "cell_type": "code",
   "execution_count": null,
   "metadata": {
    "collapsed": false
   },
   "outputs": [],
   "source": [
    "# Baked-in within python modules\n",
    "from collections import defaultdict\n",
    "\n",
    "# Alphabetical order for nonstandard python modules is conventional\n",
    "# We're doing \"import superlongname as abbrev\" for our laziness - this way we don't have to type out the whole thing each time.\n",
    "\n",
    "# Python plotting library\n",
    "import matplotlib as mpl\n",
    "import matplotlib.pyplot as plt\n",
    "\n",
    "# Numerical python library (pronounced \"num-pie\")\n",
    "import numpy as np\n",
    "\n",
    "# Dataframes in Python\n",
    "import pandas as pd\n",
    "\n",
    "# T-test of independent samples\n",
    "from scipy.stats import ttest_ind\n",
    "\n",
    "# Statistical plotting library we'll use\n",
    "import seaborn as sns\n",
    "sns.set(style='whitegrid')\n",
    "\n",
    "# Matrix decomposition\n",
    "from sklearn.decomposition import PCA, FastICA\n",
    "\n",
    "# Manifold learning\n",
    "from sklearn.manifold import MDS, TSNE\n",
    "\n",
    "# Clustering\n",
    "from sklearn.cluster import KMeans, MiniBatchKMeans\n",
    "\n",
    "# Plotting dendrograms\n",
    "from scipy.cluster import hierarchy\n",
    "\n",
    "# This is necessary to show the plotted figures inside the notebook -- \"inline\" with the notebook cells\n",
    "%matplotlib inline"
   ]
  },
  {
   "cell_type": "code",
   "execution_count": null,
   "metadata": {
    "collapsed": false
   },
   "outputs": [],
   "source": [
    "macaulay2016_expression = pd.read_csv('../data/macaulay2016/gene_expression_s.csv', index_col=0)\n",
    "\n",
    "\n",
    "# Set maximum columns to display as 50 because the dataframe has 49 columns\n",
    "pd.options.display.max_columns = 50\n",
    "\n",
    "macaulay2016_metadata = pd.read_csv('../data/macaulay2016/sample_info_qc.csv', index_col=0)\n",
    "# Add column for gfp\n",
    "macaulay2016_metadata['gfp_color'] = ['#31a354' if c == 'HIGH' else '#e5f5e0' for c in macaulay2016_metadata['condition']]\n",
    "\n",
    "# Necessary step for converting the parsed cluster color to be usable with matplotlib\n",
    "macaulay2016_metadata['cluster_color'] = macaulay2016_metadata['cluster_color'].map(eval)\n",
    "\n",
    "# --- Filter macaulay2016 data --- #\n",
    "ensembl_genes = [x for x in macaulay2016_expression.index if x.startswith('ENS')]\n",
    "cells_pass_qc = macaulay2016_metadata[\"Pass QC\"].index[macaulay2016_metadata[\"Pass QC\"]]\n",
    "\n",
    "macaulay2016_expression_filtered = macaulay2016_expression.loc[ensembl_genes, cells_pass_qc]\n",
    "\n",
    "# Recalculate TPM\n",
    "macaulay2016_expression_filtered = 1e6 * macaulay2016_expression_filtered / macaulay2016_expression_filtered.sum()\n",
    "\n",
    "# Transpose so it's machine learning format\n",
    "macaulay2016_expression_filtered = macaulay2016_expression_filtered.T\n",
    "\n",
    "# Take only \"expressed genes\" with expression greater than 1 in at least 3 cells\n",
    "mask = (macaulay2016_expression_filtered > 1).sum() >= 3\n",
    "macaulay2016_expression_filtered = macaulay2016_expression_filtered.loc[:, mask]\n",
    "print('macaulay2016_expression_filtered.shape', macaulay2016_expression_filtered.shape)\n",
    "\n",
    "# Add 1 and log10\n",
    "macaulay2016_expression_log10 = np.log10(macaulay2016_expression_filtered + 1)\n",
    "\n",
    "# Macaulay2016 plotting colors\n",
    "macaulay2016_gfp_colors = macaulay2016_metadata.loc[macaulay2016_expression_log10.index, 'gfp_color']\n",
    "\n",
    "# Get cluster colors from the paper\n",
    "macaulay2016_cluster_colors_from_paper = macaulay2016_metadata.loc[macaulay2016_expression_log10.index, 'cluster_color']\n",
    "macaulay2016_clusters_from_paper = macaulay2016_metadata.loc[macaulay2016_expression_log10.index, 'cluster']\n",
    "macaulay2016_cluster_to_color_from_paper = dict(zip(macaulay2016_clusters_from_paper, macaulay2016_cluster_colors_from_paper))"
   ]
  },
  {
   "cell_type": "markdown",
   "metadata": {},
   "source": [
    "## Clarification of hierarchical clustering goals\n",
    "\n",
    "Use hierarchical clustering on either PCA or ICA to assign clusters to the Macaulay data and plot the PCA (or ICA) plot with the reduced clusters. **Are you able to recover the original clusters?** Use as many code cells as you need.\n",
    "\n",
    "To clarify, the full steps for evaluating your hierarchical clustering on the Macaulay2016 dataset are:\n",
    "\n",
    "1. Perform dimensionality reduction\n",
    "2. Cluster the reduced data\n",
    "3. Cut the dendrogram from the clustered data\n",
    "4. Get the cluster colors and assignments\n",
    "5. Re-plot the data with the sample colors\n",
    "6. See how your clusters match with the Macaulay dataset"
   ]
  },
  {
   "cell_type": "markdown",
   "metadata": {},
   "source": [
    "## How to get any number of colors for your data"
   ]
  },
  {
   "cell_type": "code",
   "execution_count": null,
   "metadata": {
    "collapsed": false
   },
   "outputs": [],
   "source": [
    "kmeans = KMeans(n_clusters=6)\n",
    "kmeans.fit(macaulay2016_expression_log10)"
   ]
  },
  {
   "cell_type": "code",
   "execution_count": null,
   "metadata": {
    "collapsed": true
   },
   "outputs": [],
   "source": [
    "macaulay2016_smusher = PCA(n_components=2)\n",
    "macaulay2016_smushed = pd.DataFrame(\n",
    "    macaulay2016_smusher.fit_transform(macaulay2016_expression_log10),\n",
    "    index=macaulay2016_expression_log10.index)"
   ]
  },
  {
   "cell_type": "code",
   "execution_count": null,
   "metadata": {
    "collapsed": false
   },
   "outputs": [],
   "source": [
    "macaulay2016_kmeans_centroids = pd.DataFrame(macaulay2016_smusher.transform(\n",
    "    kmeans.cluster_centers_))\n",
    "macaulay2016_kmeans_centroids"
   ]
  },
  {
   "cell_type": "code",
   "execution_count": null,
   "metadata": {
    "collapsed": false
   },
   "outputs": [],
   "source": [
    "fig, ax = plt.subplots()\n",
    "\n",
    "ax.scatter(macaulay2016_smushed[0], macaulay2016_smushed[1], color=\"Teal\", \n",
    "           linewidth=1, edgecolor='white')\n",
    "ax.scatter(macaulay2016_kmeans_centroids[0], macaulay2016_kmeans_centroids[1], \n",
    "            color='k', marker='x', s=100, linewidth=3)"
   ]
  },
  {
   "cell_type": "code",
   "execution_count": null,
   "metadata": {
    "collapsed": false
   },
   "outputs": [],
   "source": [
    "kmeans.predict(macaulay2016_expression_log10)"
   ]
  },
  {
   "cell_type": "code",
   "execution_count": null,
   "metadata": {
    "collapsed": false
   },
   "outputs": [],
   "source": [
    "sns.choose_colorbrewer_palette('qualitative')"
   ]
  },
  {
   "cell_type": "code",
   "execution_count": null,
   "metadata": {
    "collapsed": false
   },
   "outputs": [],
   "source": [
    "husl_palette = sns.color_palette('husl', n_colors=20)\n",
    "sns.palplot(husl_palette)"
   ]
  },
  {
   "cell_type": "code",
   "execution_count": null,
   "metadata": {
    "collapsed": false
   },
   "outputs": [],
   "source": [
    "kmeans_palette = sns.color_palette('Set1', n_colors=6)\n",
    "sns.palplot(kmeans_palette)"
   ]
  },
  {
   "cell_type": "code",
   "execution_count": null,
   "metadata": {
    "collapsed": false
   },
   "outputs": [],
   "source": [
    "labels = pd.Series(kmeans.predict(macaulay2016_expression_log10), \n",
    "                   index=macaulay2016_expression_log10.index)\n",
    "colors = [kmeans_palette[i] for i in labels]\n",
    "print(len(labels))\n",
    "print(len(colors))"
   ]
  },
  {
   "cell_type": "code",
   "execution_count": null,
   "metadata": {
    "collapsed": false
   },
   "outputs": [],
   "source": [
    "fig, ax = plt.subplots()\n",
    "\n",
    "ax.scatter(macaulay2016_smushed[0], macaulay2016_smushed[1], color=colors, \n",
    "           linewidth=1, edgecolor='grey')\n",
    "ax.scatter(macaulay2016_kmeans_centroids[0], macaulay2016_kmeans_centroids[1], \n",
    "            color='k', marker='x', s=100, linewidth=3)"
   ]
  },
  {
   "cell_type": "markdown",
   "metadata": {},
   "source": [
    "### Exercise 1\n",
    "\n",
    "Change the number of clusters to 20 and use the `\"husl\"` palette for coloring"
   ]
  },
  {
   "cell_type": "markdown",
   "metadata": {},
   "source": [
    "## Evaluating clustering\n",
    "\n",
    "How do we evaluate the clusters that we found versus the clusters from the paper?"
   ]
  },
  {
   "cell_type": "code",
   "execution_count": null,
   "metadata": {
    "collapsed": false
   },
   "outputs": [],
   "source": [
    "# Get the unique names of the original Macaulay2016 clusters\n",
    "cluster_names = macaulay2016_metadata.cluster.unique()\n",
    "# Sort them in alphabetical order so that they're in the order we want\n",
    "cluster_names.sort()\n",
    "\n",
    "# Map the cluster name to an integer number\n",
    "cluster_name_to_integer = dict(zip(cluster_names, range(len(cluster_names))))\n",
    "\n",
    "paper_cluster_integers = macaulay2016_metadata.cluster.map(cluster_name_to_integer)\n",
    "paper_cluster_integers.head()"
   ]
  },
  {
   "cell_type": "code",
   "execution_count": null,
   "metadata": {
    "collapsed": false
   },
   "outputs": [],
   "source": [
    "macaulay2016_palette = [macaulay2016_cluster_to_color_from_paper[x] for x in cluster_names]"
   ]
  },
  {
   "cell_type": "code",
   "execution_count": null,
   "metadata": {
    "collapsed": false
   },
   "outputs": [],
   "source": [
    "from sklearn.metrics import confusion_matrix\n",
    "\n",
    "confusion = pd.DataFrame(confusion_matrix(paper_cluster_integers, labels), \n",
    "                         index=cluster_names)\n",
    "confusion.index.name = 'Macaulay2016 Labels'\n",
    "confusion.columns.name = 'K-Means Predicted'\n",
    "\n",
    "confusiongrid = sns.clustermap(confusion, annot=True, fmt='d', figsize=(4, 4),\n",
    "               col_cluster=False, row_cluster=False, \n",
    "               row_colors=macaulay2016_palette, col_colors=kmeans_palette)\n",
    "\n",
    "# rotate the ylabels to be horizontal instead of vertical\n",
    "plt.setp(confusiongrid.ax_heatmap.get_yticklabels(), rotation=0);"
   ]
  },
  {
   "cell_type": "markdown",
   "metadata": {},
   "source": [
    "### Evaluating clustering: Rand score\n",
    "\n",
    "The [Rand index](https://en.wikipedia.org/wiki/Rand_index) is a numeric value indicating "
   ]
  },
  {
   "cell_type": "code",
   "execution_count": null,
   "metadata": {
    "collapsed": false
   },
   "outputs": [],
   "source": [
    "from sklearn.metrics.cluster import adjusted_rand_score\n",
    "adjusted_rand_score([0, 0, 1, 1], [0, 0, 1, 1])\n"
   ]
  },
  {
   "cell_type": "code",
   "execution_count": null,
   "metadata": {
    "collapsed": false
   },
   "outputs": [],
   "source": [
    "adjusted_rand_score([0, 0, 1, 1], [1, 1, 0, 0])"
   ]
  },
  {
   "cell_type": "markdown",
   "metadata": {},
   "source": [
    "\n",
    "### Exercise 2\n",
    "\n",
    "Try your own labels and values to see the rand score. You can try as many samples or classes as you want"
   ]
  },
  {
   "cell_type": "code",
   "execution_count": null,
   "metadata": {
    "collapsed": true
   },
   "outputs": [],
   "source": [
    "# adjusted_rand_score([XXXX], [XXXX])"
   ]
  },
  {
   "cell_type": "markdown",
   "metadata": {},
   "source": [
    "### Exercise 3\n",
    "\n",
    "Get the Rand score of your clustering"
   ]
  },
  {
   "cell_type": "code",
   "execution_count": null,
   "metadata": {
    "collapsed": true
   },
   "outputs": [],
   "source": [
    "# YOUR CODE HERE"
   ]
  }
 ],
 "metadata": {
  "kernelspec": {
   "display_name": "Python 3 (single-cell-bioinformatics)",
   "language": "python",
   "name": "python3"
  },
  "language_info": {
   "codemirror_mode": {
    "name": "ipython",
    "version": 3
   },
   "file_extension": ".py",
   "mimetype": "text/x-python",
   "name": "python",
   "nbconvert_exporter": "python",
   "pygments_lexer": "ipython3",
   "version": "3.5.1"
  }
 },
 "nbformat": 4,
 "nbformat_minor": 0
}
