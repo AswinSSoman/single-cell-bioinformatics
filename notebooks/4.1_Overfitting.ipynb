{
 "cells": [
  {
   "cell_type": "markdown",
   "metadata": {},
   "source": [
    "# Classifiers\n",
    "\n",
    "Classifiers are algorithms that given two or more groups of samples, find the features that distinguish them the most. Different algorithms define \"the most\" differently, and we'll look into two of them.\n",
    "\n",
    "## Overfitting\n",
    "\n",
    "Before we get started with using these algorithms, we're going to talk about overfitting. \n",
    "\n",
    "In classical machine learning, overfitting is when you've fit your model so perfectly to your data that it's not generalizable to other cases. For example, you designed a cancer vs normal classifier algorithm that works perfectly in a single breast cancer dataset but when you try it on a new breast cancer dataset, it doesn't work.\n",
    "\n",
    "Overfitting is a common newbie mistake that leads to bad things because not all of the \"significant\" features you found are actually useful - they randomly were higher or lower in your training data and thus the algorithm thought they were significant.\n",
    "\n",
    "![](https://upload.wikimedia.org/wikipedia/commons/1/19/Overfitting.svg)\n",
    "Source: http://scott.fortmann-roe.com/docs/MeasuringError.html\n",
    "\n",
    "### How to avoid overfitting\n",
    "\n",
    "In machine learning, you often have a \"gold standard\" dataset from which you're learning the data (e.g. a manually curated face recognition dataset) and then a separate dataset that you test on. In biology, we tend to not have a good manually curated dataset for RNA-seq (though that would be very nice!!!), so what we do instead is split up our dataset to testing and training sets.\n",
    "\n",
    "#### Training and test datasets\n",
    "\n",
    "![](figures/test_train_split_holdout.png)\n",
    "\n",
    "\n",
    "#### Rerunning classifiers\n",
    "\n",
    "Another method you can use to prevent overfitting is rerunning your data multiple times on the same classifier, using different random seeds. A \"random seed\" is a starting point for random number generators. The code below uses the random number generator in Python to return a random integer from 0 to 100. \n",
    "\n",
    "1. Run the code below a few times to see different random numbers from 0 to 100.\n",
    "2. Uncomment (remove the \"#\" hash mark at the beginning of the line)\n",
    "3. Try changing the random seed (the number between the parentheses of `random.seed()` - right now it is 9)"
   ]
  },
  {
   "cell_type": "code",
   "execution_count": 112,
   "metadata": {
    "collapsed": false
   },
   "outputs": [
    {
     "data": {
      "text/plain": [
       "59"
      ]
     },
     "execution_count": 112,
     "metadata": {},
     "output_type": "execute_result"
    }
   ],
   "source": [
    "import random\n",
    "\n",
    "# Sets the random seed\n",
    "#random.seed(9)\n",
    "\n",
    "# Return a random integer from 0 to 100\n",
    "random.randint(0, 100)"
   ]
  },
  {
   "cell_type": "markdown",
   "metadata": {},
   "source": [
    "Why does this matter to classifiers? Many times, they will pick a random set of features as an initial guess at the best discriminating features, and sometimes it gets lucky and sometimes it doesn't. You want to make sure that your classification features are robust to multiple different initializations.\n"
   ]
  }
 ],
 "metadata": {
  "kernelspec": {
   "display_name": "Python 3 (single-cell-bioinformatics)",
   "language": "python",
   "name": "python3"
  },
  "language_info": {
   "codemirror_mode": {
    "name": "ipython",
    "version": 3
   },
   "file_extension": ".py",
   "mimetype": "text/x-python",
   "name": "python",
   "nbconvert_exporter": "python",
   "pygments_lexer": "ipython3",
   "version": "3.5.1"
  }
 },
 "nbformat": 4,
 "nbformat_minor": 0
}
